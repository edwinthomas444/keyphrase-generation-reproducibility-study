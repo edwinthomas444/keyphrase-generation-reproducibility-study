{
 "cells": [
  {
   "cell_type": "code",
   "execution_count": 36,
   "id": "19f4a5dd-3f64-4f25-81f3-062b8f604956",
   "metadata": {
    "tags": []
   },
   "outputs": [],
   "source": [
    "import json\n",
    "import pandas as pd"
   ]
  },
  {
   "cell_type": "code",
   "execution_count": 37,
   "id": "904ecfe9-6c65-4114-9657-d220fb04280d",
   "metadata": {
    "tags": []
   },
   "outputs": [],
   "source": [
    "modelA_path = 'KPDrop/experiments/kptimes/trans_set_KPAug_b128_n4_ep5/final_results_greedy/kptimes_TransformerSeq2SetKPD0_7A_seq2set_test_macro_significance.csv'\n",
    "modelB_path = 'KPDrop/experiments/kptimes/trans_set_b128_n4_ep5/final_results_greedy/kptimes_TransformerSeq2Set_seq2set_test_macro_significance.csv'\n"
   ]
  },
  {
   "cell_type": "code",
   "execution_count": 38,
   "id": "6b7683ae-7780-4134-8770-380e6ca4ca98",
   "metadata": {
    "tags": []
   },
   "outputs": [],
   "source": [
    "dfA = pd.read_csv(modelA_path)\n",
    "dfB = pd.read_csv(modelB_path)"
   ]
  },
  {
   "cell_type": "code",
   "execution_count": 39,
   "id": "98238a6b-919f-47b9-85cd-2d9fa479019c",
   "metadata": {},
   "outputs": [
    {
     "name": "stdout",
     "output_type": "stream",
     "text": [
      "10000 10000\n"
     ]
    }
   ],
   "source": [
    "kptimesA = dfA[dfA['Dataset']=='kptimes']['macro_f_present_list_M']\n",
    "kptimesA = json.loads(kptimesA.to_list()[0])\n",
    "\n",
    "kptimesB = dfB[dfB['Dataset']=='kptimes']['macro_f_present_list_M']\n",
    "kptimesB = json.loads(kptimesB.to_list()[0])\n",
    "\n",
    "\n",
    "print(len(kptimesA), len(kptimesB))"
   ]
  },
  {
   "cell_type": "code",
   "execution_count": 41,
   "id": "e09ff0d5-038d-4559-8099-74e9214426ff",
   "metadata": {
    "tags": []
   },
   "outputs": [],
   "source": [
    "write_pathA = 'SignificanceTesting/testSignificanceNLP/resA_present.txt'\n",
    "write_pathB = 'SignificanceTesting/testSignificanceNLP/resB_absent.txt'\n",
    "with open(write_pathA, 'w') as f1, open(write_pathB, 'w') as f2:\n",
    "    for metricA, metricB in zip(kptimesA, kptimesB):\n",
    "        f1.write(str(metricA)+'\\n')\n",
    "        f2.write(str(metricB)+'\\n')\n",
    "        "
   ]
  },
  {
   "cell_type": "code",
   "execution_count": null,
   "id": "a393d6b2-2cf5-435b-8e0d-329060a67cab",
   "metadata": {
    "tags": []
   },
   "outputs": [],
   "source": []
  },
  {
   "cell_type": "code",
   "execution_count": null,
   "id": "a534c82c-bb1f-4ff2-b5e4-8fcb348eab02",
   "metadata": {},
   "outputs": [],
   "source": []
  }
 ],
 "metadata": {
  "kernelspec": {
   "display_name": "all_env2",
   "language": "python",
   "name": "all_env2"
  },
  "language_info": {
   "codemirror_mode": {
    "name": "ipython",
    "version": 3
   },
   "file_extension": ".py",
   "mimetype": "text/x-python",
   "name": "python",
   "nbconvert_exporter": "python",
   "pygments_lexer": "ipython3",
   "version": "3.8.10"
  }
 },
 "nbformat": 4,
 "nbformat_minor": 5
}
