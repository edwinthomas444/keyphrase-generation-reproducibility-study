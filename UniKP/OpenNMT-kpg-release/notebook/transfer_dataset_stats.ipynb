{
 "cells": [
  {
   "cell_type": "code",
   "execution_count": 1,
   "metadata": {
    "ExecuteTime": {
     "end_time": "2020-11-22T03:16:09.514882Z",
     "start_time": "2020-11-22T03:15:31.760701Z"
    }
   },
   "outputs": [],
   "source": [
    "import os\n",
    "import sys\n",
    "import re\n",
    "import json\n",
    "import numpy as np\n",
    "import pandas as pd\n",
    "from collections import defaultdict\n",
    "\n",
    "module_path = os.path.abspath(os.path.join('..'))\n",
    "if module_path not in sys.path:\n",
    "    sys.path.append(module_path)\n",
    "module_path = os.path.abspath(os.path.join('../onmt'))\n",
    "if module_path not in sys.path:\n",
    "    sys.path.append(module_path)\n",
    "\n",
    "import kp_evaluate\n",
    "import onmt.keyphrase.utils as utils\n",
    "\n",
    "import seaborn as sns\n",
    "import matplotlib.pyplot as plt\n",
    "import scipy\n",
    "\n",
    "from nltk.stem.porter import *\n",
    "stemmer = PorterStemmer()\n",
    "\n",
    "def stem_word_list(word_list):\n",
    "    return [stemmer.stem(w.strip()) for w in word_list]\n",
    "\n",
    "def if_present_duplicate_phrases(src_seq, tgt_seqs, stemming=True, lowercase=True):\n",
    "    \"\"\"\n",
    "    Check if each given target sequence verbatim appears in the source sequence\n",
    "    :param src_seq:\n",
    "    :param tgt_seqs:\n",
    "    :param stemming:\n",
    "    :param lowercase:\n",
    "    :param check_duplicate:\n",
    "    :return:\n",
    "    \"\"\"\n",
    "    if lowercase:\n",
    "        src_seq = [w.lower() for w in src_seq]\n",
    "    if stemming:\n",
    "        src_seq = stem_word_list(src_seq)\n",
    "\n",
    "    present_indices = []\n",
    "    present_flags = []\n",
    "    duplicate_flags = []\n",
    "    phrase_set = set()  # some phrases are duplicate after stemming, like \"model\" and \"models\" would be same after stemming, thus we ignore the following ones\n",
    "\n",
    "    for tgt_seq in tgt_seqs:\n",
    "        if lowercase:\n",
    "            tgt_seq = [w.lower() for w in tgt_seq]\n",
    "        if stemming:\n",
    "            tgt_seq = stem_word_list(tgt_seq)\n",
    "\n",
    "        # check if the phrase appears in source text\n",
    "        # iterate each word in source\n",
    "        match_flag, match_pos_idx = if_present_phrase(src_seq, tgt_seq)\n",
    "\n",
    "        # if it reaches the end of source and no match, means it doesn't appear in the source\n",
    "        present_flags.append(match_flag)\n",
    "        present_indices.append(match_pos_idx)\n",
    "\n",
    "        # check if it is duplicate\n",
    "        if '_'.join(tgt_seq) in phrase_set:\n",
    "            duplicate_flags.append(True)\n",
    "        else:\n",
    "            duplicate_flags.append(False)\n",
    "        phrase_set.add('_'.join(tgt_seq))\n",
    "\n",
    "    assert len(present_flags) == len(present_indices)\n",
    "\n",
    "    return np.asarray(present_flags), \\\n",
    "           np.asarray(present_indices), \\\n",
    "           np.asarray(duplicate_flags)\n",
    "\n",
    "def if_present_phrase(src_str_tokens, phrase_str_tokens):\n",
    "    \"\"\"\n",
    "\n",
    "    :param src_str_tokens: a list of strings (words) of source text\n",
    "    :param phrase_str_tokens: a list of strings (words) of a phrase\n",
    "    :return:\n",
    "    \"\"\"\n",
    "    match_flag = False\n",
    "    match_pos_idx = -1\n",
    "    for src_start_idx in range(len(src_str_tokens) - len(phrase_str_tokens) + 1):\n",
    "        match_flag = True\n",
    "        # iterate each word in target, if one word does not match, set match=False and break\n",
    "        for seq_idx, seq_w in enumerate(phrase_str_tokens):\n",
    "            src_w = src_str_tokens[src_start_idx + seq_idx]\n",
    "            if src_w != seq_w:\n",
    "                match_flag = False\n",
    "                break\n",
    "        if match_flag:\n",
    "            match_pos_idx = src_start_idx\n",
    "            break\n",
    "\n",
    "    return match_flag, match_pos_idx\n"
   ]
  },
  {
   "cell_type": "markdown",
   "metadata": {},
   "source": [
    "## Stats of Four Transfer Datasets\n",
    "\n",
    "#### KP20k-train\n",
    "    num_doc= 514154\n",
    "    avg_src_len= 161.00254203993356\n",
    "    num_tgt= 2710067\n",
    "    num_unique_tgt= 680136\n",
    "    avg_tgt_len= 2.0392241225032444\n",
    "    num_present_doc= 489040\n",
    "    num_present_tgt= 1715640 , #avg=3.34\n",
    "    num_absent_doc= 420673\n",
    "    num_absent_tgt= 994427 , #avg=1.93\n",
    "    \n",
    "#### OpenKP-train\n",
    "    num_doc= 134894\n",
    "    avg_src_len= 1104.5965647100686\n",
    "    num_tgt= 294186\n",
    "    num_unique_tgt= 206806\n",
    "    avg_tgt_len= 1.9732210234341538\n",
    "    num_present_doc= 134894\n",
    "    num_present_tgt= 288417 , #avg=2.14\n",
    "    num_absent_doc= 5095\n",
    "    num_absent_tgt= 5769 , #avg=0.04\n",
    "    \n",
    " \n",
    "#### KPTimes-train   \n",
    "    num_doc= 259923\n",
    "    avg_src_len= 803.653481992744\n",
    "    num_tgt= 1308180\n",
    "    num_unique_tgt= 104797\n",
    "    avg_tgt_len= 2.1985628888990814\n",
    "    num_present_doc= 232110\n",
    "    num_present_tgt= 628506 , #avg=2.42\n",
    "    num_absent_doc= 242719\n",
    "    num_absent_tgt= 679674 , #avg=2.61\n",
    "\n",
    "#### Stackex\n",
    "    num_doc= 298965\n",
    "    avg_src_len= 207.50310571471576\n",
    "    num_tgt= 803868\n",
    "    num_unique_tgt= 8102\n",
    "    avg_tgt_len= 1.3293140167291146\n",
    "    num_present_doc= 252114\n",
    "    num_present_tgt= 464119 , #avg=1.55\n",
    "    num_absent_doc= 204656\n",
    "    num_absent_tgt= 339749 , #avg=1.14"
   ]
  },
  {
   "cell_type": "code",
   "execution_count": 6,
   "metadata": {
    "ExecuteTime": {
     "end_time": "2020-11-23T05:39:07.881950Z",
     "start_time": "2020-11-23T05:38:37.978143Z"
    }
   },
   "outputs": [
    {
     "name": "stdout",
     "output_type": "stream",
     "text": [
      "kp20k\n",
      "0\n",
      "10000\n",
      "20000\n",
      "30000\n",
      "40000\n",
      "50000\n",
      "60000\n",
      "70000\n",
      "80000\n",
      "90000\n",
      "100000\n",
      "110000\n",
      "120000\n",
      "130000\n",
      "140000\n",
      "150000\n",
      "160000\n",
      "170000\n",
      "180000\n",
      "190000\n",
      "200000\n",
      "210000\n",
      "220000\n",
      "230000\n",
      "240000\n",
      "250000\n",
      "260000\n",
      "270000\n",
      "280000\n",
      "290000\n",
      "300000\n",
      "310000\n",
      "320000\n",
      "330000\n",
      "340000\n",
      "350000\n",
      "360000\n",
      "370000\n",
      "380000\n",
      "390000\n",
      "400000\n",
      "410000\n",
      "420000\n",
      "430000\n",
      "440000\n",
      "450000\n",
      "460000\n",
      "470000\n",
      "480000\n",
      "490000\n",
      "500000\n",
      "510000\n",
      "num_doc= 514154\n",
      "avg_src_len= 161.00254203993356\n",
      "num_tgt= 2710067\n",
      "num_unique_tgt= 680136\n",
      "avg_tgt_len= 2.0392241225032444\n",
      "num_present_doc= 489040\n",
      "num_present_tgt= 1715640 , #avg=3.34\n",
      "num_absent_doc= 420673\n",
      "num_absent_tgt= 994427 , #avg=1.93\n",
      "openkp\n",
      "0\n",
      "10000\n",
      "20000\n",
      "30000\n",
      "40000\n",
      "50000\n",
      "60000\n",
      "70000\n",
      "80000\n",
      "90000\n",
      "100000\n",
      "110000\n",
      "120000\n",
      "130000\n",
      "num_doc= 134894\n",
      "avg_src_len= 1104.5965647100686\n",
      "num_tgt= 294186\n",
      "num_unique_tgt= 206806\n",
      "avg_tgt_len= 1.9732210234341538\n",
      "num_present_doc= 134894\n",
      "num_present_tgt= 288417 , #avg=2.14\n",
      "num_absent_doc= 5095\n",
      "num_absent_tgt= 5769 , #avg=0.04\n",
      "kptimes\n",
      "0\n",
      "10000\n",
      "20000\n",
      "30000\n",
      "40000\n",
      "50000\n",
      "60000\n",
      "70000\n",
      "80000\n",
      "90000\n",
      "100000\n",
      "110000\n",
      "120000\n",
      "130000\n",
      "140000\n",
      "150000\n",
      "160000\n",
      "170000\n",
      "180000\n",
      "190000\n",
      "200000\n",
      "210000\n",
      "220000\n",
      "230000\n",
      "240000\n",
      "250000\n",
      "num_doc= 259923\n",
      "avg_src_len= 803.653481992744\n",
      "num_tgt= 1308180\n",
      "num_unique_tgt= 104797\n",
      "avg_tgt_len= 2.1985628888990814\n",
      "num_present_doc= 232110\n",
      "num_present_tgt= 628506 , #avg=2.42\n",
      "num_absent_doc= 242719\n",
      "num_absent_tgt= 679674 , #avg=2.61\n",
      "stackex\n",
      "0\n",
      "10000\n",
      "20000\n",
      "30000\n",
      "40000\n",
      "50000\n",
      "60000\n",
      "70000\n",
      "80000\n",
      "90000\n",
      "100000\n",
      "110000\n",
      "120000\n",
      "130000\n",
      "140000\n",
      "150000\n",
      "160000\n",
      "170000\n",
      "180000\n",
      "190000\n",
      "200000\n",
      "210000\n",
      "220000\n",
      "230000\n",
      "240000\n",
      "250000\n",
      "260000\n",
      "270000\n",
      "280000\n",
      "290000\n",
      "num_doc= 298965\n",
      "avg_src_len= 207.50310571471576\n",
      "num_tgt= 803868\n",
      "num_unique_tgt= 8102\n",
      "avg_tgt_len= 1.3293140167291146\n",
      "num_present_doc= 252114\n",
      "num_present_tgt= 464119 , #avg=1.55\n",
      "num_absent_doc= 204656\n",
      "num_absent_tgt= 339749 , #avg=1.14\n"
     ]
    }
   ],
   "source": [
    "from collections import defaultdict\n",
    "\n",
    "dataset_names = ['kp20k', 'openkp', 'kptimes', 'stackex']\n",
    "# dataset_names = ['kp20k', 'openkp']\n",
    "\n",
    "KP_DATASET_FIELDS = {'kp20k': ('title', 'abstract', 'keywords', None),\n",
    "                     'stackex': ('title', 'question', 'tags', 'categories'),\n",
    "                     'openkp': ('url', 'text', 'KeyPhrases', None),\n",
    "                     'kptimes': ('title', 'abstract', 'keyword', 'categories')}\n",
    "dataset_split = 'train'\n",
    "json_base_dir = '/zfs1/hdaqing/rum20/kp/data/kp/json' # path on CRC\n",
    "\n",
    "dataset_src_lens, dataset_tgt_lens, dataset_tgt_nums  = {}, {}, {}    \n",
    "dataset_unique_kp_count, dataset_unique_preskp_count, dataset_unique_abskp_count = {}, {}, {}\n",
    "\n",
    "for dataset_name in dataset_names:\n",
    "    src_len, tgt_len, tgt_num = [], [], []\n",
    "    num_present_doc, num_present_tgt = 0, 0\n",
    "    num_absent_doc, num_absent_tgt = 0, 0\n",
    "    \n",
    "    unique_kp_count, unique_preskp_count, unique_abskp_count = defaultdict(int), defaultdict(int), defaultdict(int)\n",
    "    print(dataset_name)\n",
    "\n",
    "    input_json_path = os.path.join(json_base_dir, dataset_name, '%s.json' % dataset_split)\n",
    "    \n",
    "    with open(input_json_path, 'r') as input_json:\n",
    "        for ex_id, json_line in enumerate(input_json):\n",
    "            if ex_id % 10000 == 0: print(ex_id)\n",
    "            ex_dict = json.loads(json_line)\n",
    "            \n",
    "            title_field, text_field, keyword_field, _ = KP_DATASET_FIELDS[dataset_name]\n",
    "\n",
    "            src_str = ex_dict[title_field] + ' . ' + ex_dict[text_field]\n",
    "            if isinstance(ex_dict[keyword_field], str):\n",
    "                tgt_kps = ex_dict[keyword_field].split(';')\n",
    "            else:\n",
    "                tgt_kps = ex_dict[keyword_field]\n",
    "\n",
    "            src_seq = [t for t in re.split(r'\\W', src_str) if len(t) > 0]\n",
    "            tgt_seqs = [[t for t in re.split(r'\\W', p) if len(t) > 0] for p in tgt_kps]\n",
    "#             [kp_set.add(' '.join(p)) for p in tgt_seqs]\n",
    "            \n",
    "            present_tgt_flags, _, _ = if_present_duplicate_phrases(src_seq, tgt_seqs, stemming=True, lowercase=True)\n",
    "            \n",
    "            present_tgts = [tgt for tgt, present in zip(tgt_seqs, present_tgt_flags) if present]\n",
    "            absent_tgts = [tgt for tgt, present in zip(tgt_seqs, present_tgt_flags) if ~present]\n",
    "            \n",
    "            for p in tgt_seqs:\n",
    "                unique_kp_count[' '.join(p)] += 1\n",
    "            for p in present_tgts:\n",
    "                unique_preskp_count[' '.join(p)] += 1\n",
    "            for p in absent_tgts:\n",
    "                unique_abskp_count[' '.join(p)] += 1\n",
    "            \n",
    "            num_present_tgt += len(present_tgts)\n",
    "            num_absent_tgt += len(absent_tgts)\n",
    "            if len(present_tgts) > 0: num_present_doc += 1\n",
    "            if len(absent_tgts) > 0: num_absent_doc += 1\n",
    "                                 \n",
    "            src_len.append(len(src_seq))\n",
    "            tgt_num.append(len(tgt_seqs))\n",
    "            tgt_len.extend([len(tgt_seq) for tgt_seq in tgt_seqs])\n",
    "    \n",
    "    print('num_doc=', len(src_len))\n",
    "    print('avg_src_len=', np.mean(src_len))\n",
    "    print('num_tgt=', sum(tgt_num))\n",
    "    print('num_unique_tgt=', len(unique_kp_count))\n",
    "    print('avg_tgt_len=', np.mean(tgt_len))\n",
    "    print('num_present_doc=', num_present_doc)\n",
    "    print('num_present_tgt=', num_present_tgt, ', #avg=%.2f' % (num_present_tgt / len(tgt_num)))\n",
    "    print('num_absent_doc=', num_absent_doc)\n",
    "    print('num_absent_tgt=', num_absent_tgt, ', #avg=%.2f' % (num_absent_tgt / len(tgt_num)))\n",
    "\n",
    "    dataset_src_lens[dataset_name] = src_len\n",
    "    dataset_tgt_lens[dataset_name] = tgt_len\n",
    "    dataset_tgt_nums[dataset_name] = tgt_num\n",
    "    dataset_unique_kp_count[dataset_name] = unique_kp_count\n",
    "    dataset_unique_preskp_count[dataset_name] = unique_preskp_count\n",
    "    dataset_unique_abskp_count[dataset_name] = unique_abskp_count\n"
   ]
  },
  {
   "cell_type": "code",
   "execution_count": 7,
   "metadata": {},
   "outputs": [
    {
     "name": "stdout",
     "output_type": "stream",
     "text": [
      "Stored 'dataset_src_lens' (dict)\n",
      "Stored 'dataset_tgt_lens' (dict)\n",
      "Stored 'dataset_tgt_nums' (dict)\n",
      "Stored 'dataset_unique_kp_count' (dict)\n",
      "Stored 'dataset_unique_preskp_count' (dict)\n",
      "Stored 'dataset_unique_abskp_count' (dict)\n"
     ]
    }
   ],
   "source": [
    "# SAVE pred/eval paths and dataframes\n",
    "%store dataset_src_lens\n",
    "%store dataset_tgt_lens\n",
    "%store dataset_tgt_nums\n",
    "%store dataset_unique_kp_count\n",
    "%store dataset_unique_preskp_count\n",
    "%store dataset_unique_abskp_count\n",
    "\n",
    "# LOAD using store magic (doesn't work on Colab)\n",
    "%store -r dataset_src_lens\n",
    "%store -r dataset_tgt_lens\n",
    "%store -r dataset_tgt_nums\n",
    "%store -r dataset_unique_kp_count\n",
    "%store -r dataset_unique_preskp_count\n",
    "%store -r dataset_unique_abskp_count"
   ]
  },
  {
   "cell_type": "markdown",
   "metadata": {},
   "source": [
    "### Common absent phrases in each dataset"
   ]
  },
  {
   "cell_type": "code",
   "execution_count": 9,
   "metadata": {},
   "outputs": [
    {
     "name": "stdout",
     "output_type": "stream",
     "text": [
      "**************************************************\n",
      "kp20k 393767\n",
      "('algorithms', 2134)\n",
      "('data mining', 2020)\n",
      "('design', 1841)\n",
      "('machine learning', 1727)\n",
      "('performance', 1387)\n",
      "('experimentation', 1338)\n",
      "('theory', 1308)\n",
      "('performance evaluation', 1245)\n",
      "('information retrieval', 1157)\n",
      "('cryptography', 1106)\n",
      "('reliability', 1095)\n",
      "('pattern recognition', 1092)\n",
      "('finite element method', 1085)\n",
      "('computational complexity', 1064)\n",
      "('image processing', 1038)\n",
      "('security', 986)\n",
      "('verification', 973)\n",
      "('classification', 924)\n",
      "('optimization', 915)\n",
      "('cybernetics', 896)\n",
      "**************************************************\n",
      "openkp 5154\n",
      "('Baby Names', 41)\n",
      "('Definition', 23)\n",
      "('Dictionary', 21)\n",
      "('United States', 20)\n",
      "('mean', 19)\n",
      "('Think Baby Names', 19)\n",
      "('definitions', 16)\n",
      "('Holiday Inn', 16)\n",
      "('FCRA', 15)\n",
      "('Recipes', 13)\n",
      "('definition', 13)\n",
      "('DIN', 10)\n",
      "('CHLORHEXADINE SOLUTION', 10)\n",
      "('Lee High School', 10)\n",
      "('Fairfax County Public Schools', 10)\n",
      "('Lyme Disease Association', 10)\n",
      "('Definitions', 9)\n",
      "('Synonyms', 9)\n",
      "('New York', 8)\n",
      "('Our Baby Namer', 8)\n",
      "**************************************************\n",
      "kptimes 49712\n",
      "('Computers and the Internet', 7148)\n",
      "('NYC', 5878)\n",
      "('Politics and Government', 5653)\n",
      "('Basketball', 4655)\n",
      "('Baseball', 4593)\n",
      "('US Politics', 4337)\n",
      "('Economic Conditions and Trends', 4173)\n",
      "('Barack Obama', 3981)\n",
      "('Football', 3825)\n",
      "('2016 Presidential Election', 3710)\n",
      "('Obama Barack', 3687)\n",
      "('United States Politics and Government', 3606)\n",
      "('Decisions and Verdicts', 3139)\n",
      "('Accidents and Safety', 3111)\n",
      "('College Athletics', 3065)\n",
      "('United States Economy', 3034)\n",
      "('Great Britain', 3020)\n",
      "('Terrorism', 2986)\n",
      "('Murders and Attempted Murders', 2945)\n",
      "('Appointments and Executive Changes', 2799)\n",
      "**************************************************\n",
      "stackex 6472\n",
      "('c', 9664)\n",
      "('linux', 8901)\n",
      "('shell script', 5429)\n",
      "('bash', 4404)\n",
      "('java', 4355)\n",
      "('javascript', 4121)\n",
      "('shell', 3942)\n",
      "('text processing', 3816)\n",
      "('python', 3598)\n",
      "('object oriented', 3457)\n",
      "('performance', 3417)\n",
      "('beginner', 3351)\n",
      "('seo', 3112)\n",
      "('command line', 2669)\n",
      "('design patterns', 2569)\n",
      "('machine learning', 2241)\n",
      "('complexity theory', 2165)\n",
      "('cc complexity theory', 2058)\n",
      "('algorithms', 2054)\n",
      "('reference request', 1998)\n"
     ]
    }
   ],
   "source": [
    "for dataset, kp_set in dataset_unique_abskp_count.items():\n",
    "    print('*' * 50)\n",
    "    print(dataset, len(kp_set))\n",
    "    kp_list = sorted(kp_set.items(), key=lambda k:k[1], reverse=True)\n",
    "    \n",
    "    for p in kp_list[:20]:\n",
    "        print(p)\n"
   ]
  },
  {
   "cell_type": "markdown",
   "metadata": {},
   "source": [
    "### Cherry-pick transfered labels"
   ]
  },
  {
   "cell_type": "code",
   "execution_count": 1,
   "metadata": {},
   "outputs": [
    {
     "name": "stderr",
     "output_type": "stream",
     "text": [
      "/ihome/hdaqing/rum20/anaconda3/envs/kp/lib/python3.7/site-packages/torch/cuda/__init__.py:52: UserWarning: CUDA initialization: Found no NVIDIA driver on your system. Please check that you have an NVIDIA GPU and installed a driver from http://www.nvidia.com/Download/index.aspx (Triggered internally at  /pytorch/c10/cuda/CUDAFunctions.cpp:100.)\n",
      "  return torch._C._cuda_getDeviceCount() > 0\n"
     ]
    }
   ],
   "source": [
    "import random\n",
    "import os\n",
    "import sys\n",
    "module_path = os.path.abspath(os.path.join('../'))\n",
    "if module_path not in sys.path:\n",
    "    sys.path.append(module_path)\n",
    "module_path = os.path.abspath(os.path.join('../onmt'))\n",
    "if module_path not in sys.path:\n",
    "    sys.path.append(module_path)\n",
    "import onmt.keyphrase.eval as eval\n",
    "import importlib\n",
    "importlib.reload(eval)\n",
    "import json\n"
   ]
  },
  {
   "cell_type": "code",
   "execution_count": 2,
   "metadata": {},
   "outputs": [
    {
     "name": "stdout",
     "output_type": "stream",
     "text": [
      "kp20k\n",
      "openkp\n",
      "kptimes\n",
      "stackex\n"
     ]
    }
   ],
   "source": [
    "dataset_names = ['kp20k_train100k', 'openkp_train100k', 'kptimes_train100k', 'stackex_train100k']\n",
    "\n",
    "KP_DATASET_FIELDS = {'kp20k': ('title', 'abstract', 'keywords', None),\n",
    "                     'stackex': ('title', 'question', 'tags', 'categories'),\n",
    "                     'openkp': ('url', 'text', 'KeyPhrases', None),\n",
    "                     'kptimes': ('title', 'abstract', 'keyword', 'categories')}\n",
    "\n",
    "examples_dict = {}\n",
    "\n",
    "for dataset_name in dataset_names:\n",
    "    input_path = '/zfs1/hdaqing/rum20/kp/data/kp/json/%s/train.json' % dataset_name\n",
    "    tl_path = '/zfs1/hdaqing/rum20/kp/transfer_exps/kp_bart_DA/bart_kppretrain_wiki_1e5_controlled/outputs/beamsearch-width_1-maxlen_40/pred/checkpoint_step_100000-data_%s_train.pred' % dataset_name\n",
    "    dataset_name = dataset_name[: dataset_name.index('_')]\n",
    "    print(dataset_name)\n",
    "    examples_dict[dataset_name] = []\n",
    "\n",
    "    with open(input_path, 'r') as input_json, open(tl_path, 'r') as tl_json:\n",
    "        for ex_id, (json_line, tl_line) in enumerate(zip(input_json, tl_json)):\n",
    "            ex_dict = json.loads(json_line)\n",
    "            tl_dict = json.loads(tl_line)\n",
    "\n",
    "            title_field, text_field, keyword_field, _ = KP_DATASET_FIELDS[dataset_name]\n",
    "\n",
    "            if isinstance(ex_dict[keyword_field], str):\n",
    "                tgt_kps = ex_dict[keyword_field].split(';')\n",
    "            else:\n",
    "                tgt_kps = ex_dict[keyword_field]\n",
    "\n",
    "            _ex_dict = {}\n",
    "            _ex_dict['title'] = ex_dict[title_field]\n",
    "            _ex_dict['text'] = ex_dict[text_field]\n",
    "            _ex_dict['keyphrase'] = tgt_kps\n",
    "            tl_kps = [' '.join(p) for p in tl_dict['pred_sents'] if len(p) > 0]\n",
    "            _ex_dict['transfered_keyphrase'] = tl_kps\n",
    "    #         print(tgt_kps)\n",
    "    #         print(tl_kps)\n",
    "\n",
    "            examples_dict[dataset_name].append(_ex_dict)\n",
    "            if ex_id > 10000: break\n"
   ]
  },
  {
   "cell_type": "markdown",
   "metadata": {},
   "source": [
    "#### kp20k\n",
    "\n",
    "2123"
   ]
  },
  {
   "cell_type": "code",
   "execution_count": 4,
   "metadata": {},
   "outputs": [
    {
     "name": "stdout",
     "output_type": "stream",
     "text": [
      "7906\n",
      "==================================================\n",
      "[Source]: enriched human-centered multimedia computing through inspirations from disabilities and deficit-centered computing solutions . The paradigm of human-centered multimedia computing (HCMC) has emerged recently as a result of the increasing emphasis on integrating the concept of human-centeredness in various aspects of multimedia computing. While many theories have been proposed to advance this paradigm, it is our belief that a complete understanding of the issues surrounding HCMC requires capturing a complementary (yet enriching) perspective through inspirations drawn from studying human disabilities and deficits. In this paper, we present the need for understanding human deficiencies in sensory, neural, and cognitive sensing/actuations which could reveal innate components of human interaction that benefits researchers, designers and developers of new multimedia solutions. We illustrate how technologies that were started with assistive and rehabilitative goals have broader impacts to the general population. More importantly, this opens up new research issues that would otherwise not have been seen when the focus is only on the 'able' population. The study and understanding of the disabilities and deficits leads to a better understanding of human requirements in any human machine interaction which is important in advancing the vision and core principles of HCMC \n",
      "[GROUND-TRUTH] #(all)=4, #(present)=1, #(absent)=3\n",
      "\t\tassistive technology\n",
      "\t\trehabilitative technology\n",
      "\t\t[human centered multimedia computing]\n",
      "\t\thuman centered computing\n",
      "[PREDICTION] #(all)=9, #(valid)=8, #(present)=5, #(valid&present)=5, #(valid&absent)=3\n",
      "\t\tScore N/A\t[human centered multimedia computing] \t[correct!]\n",
      "\t\tScore N/A\t[human centeredness] \t\n",
      "\t\tScore N/A\t[multimedia] \t\n",
      "\t\tScore N/A\tdisability centered computing \t\n",
      "\t\tScore N/A\t[machine interaction] \t\n",
      "\t\tScore N/A\t[disability] \t\n",
      "\t\tScore N/A\tAssistive technology \t[correct!]\n",
      "\t\t\tScore N/A\tDisability centered computing \t\n",
      "\t\tScore N/A\tMethods \t\n",
      "\n",
      " ======================================================= \n",
      "[GROUND-TRUTH] #(all)=4, #(present)=1, #(absent)=3\n",
      "\n",
      "[PREDICTION] #(all)=9, #(valid)=8, #(present)=5, #(valid&present)=5, #(valid&absent)=3\n",
      "\n",
      " --- batch all_exact F1 @k: \t0.2500\n",
      " --- batch all_exact F1 @10: \t0.3333\n",
      " --- batch present_exact F1 @k: \t1.0000\n",
      " --- batch present_exact F1 @10: \t0.3333\n",
      " --- batch absent_exact F1 @50: \t0.3333\n",
      " --- batch absent_exact F1 @M: \t0.3333\n",
      " =======================================================\n"
     ]
    },
    {
     "name": "stderr",
     "output_type": "stream",
     "text": [
      "/ihome/hdaqing/rum20/anaconda3/envs/kp/lib/python3.7/site-packages/numpy/core/_asarray.py:83: VisibleDeprecationWarning: Creating an ndarray from ragged nested sequences (which is a list-or-tuple of lists-or-tuples-or ndarrays with different lengths or shapes) is deprecated. If you meant to do this, you must specify 'dtype=object' when creating the ndarray\n",
      "  return array(a, dtype, copy=False, order=order)\n"
     ]
    },
    {
     "data": {
      "text/plain": [
       "\"\\nfor ex_idx, ex_dict in enumerate(examples_dict['kp20k']):\\n    if ex_idx < 2000:\\n        continue\\n    if ex_idx > 3000:\\n        break\\n        \\n    src_text = ex_dict['title'] + ' . ' + ex_dict['text']\\n    printout, eval_dict = eval.eval_and_print(src_text, \\n                                              tgt_kps=ex_dict['keyphrase'], pred_kps=ex_dict['transfered_keyphrase'], \\n                                              pred_scores=None, return_eval=True)\\n    \\n    if eval_dict['absent_exact']['f_score@50'] > 0.0:\\n        print(ex_idx)\\n        print(printout)\\n\""
      ]
     },
     "execution_count": 4,
     "metadata": {},
     "output_type": "execute_result"
    }
   ],
   "source": [
    "rnd_idx = random.randint(0, len(examples_dict['kp20k'])-1)\n",
    "print(rnd_idx)\n",
    "ex_dict = examples_dict['kp20k'][2123]\n",
    "src_text = ex_dict['title'] + ' . ' + ex_dict['text']\n",
    "printout, eval_dict = eval.eval_and_print(src_text, \n",
    "                                          tgt_kps=ex_dict['keyphrase'], pred_kps=ex_dict['transfered_keyphrase'], \n",
    "                                          pred_scores=None, return_eval=True)\n",
    "print(printout)\n",
    "\n",
    "'''\n",
    "for ex_idx, ex_dict in enumerate(examples_dict['kp20k']):\n",
    "    if ex_idx < 2000:\n",
    "        continue\n",
    "    if ex_idx > 3000:\n",
    "        break\n",
    "        \n",
    "    src_text = ex_dict['title'] + ' . ' + ex_dict['text']\n",
    "    printout, eval_dict = eval.eval_and_print(src_text, \n",
    "                                              tgt_kps=ex_dict['keyphrase'], pred_kps=ex_dict['transfered_keyphrase'], \n",
    "                                              pred_scores=None, return_eval=True)\n",
    "    \n",
    "    if eval_dict['absent_exact']['f_score@50'] > 0.0:\n",
    "        print(ex_idx)\n",
    "        print(printout)\n",
    "'''"
   ]
  },
  {
   "cell_type": "markdown",
   "metadata": {},
   "source": [
    "#### openkp\n",
    "127 celebrity, inferred personal life\n",
    "\n",
    "1723 coined a place in PA: Battlinville Pennsylvania \n",
    "\n",
    "1803 infered Food Safety Council\n",
    "\n",
    "2494 inferred election and Minnesota State Capitol\n",
    "\n",
    "2541 inferred Traditional IRA, Personal financial problems, Financial savers "
   ]
  },
  {
   "cell_type": "code",
   "execution_count": 5,
   "metadata": {},
   "outputs": [
    {
     "name": "stdout",
     "output_type": "stream",
     "text": [
      "==================================================\n",
      "[Source]: http://budgeting.thenest.com/pay-penalty-early-withdrawal-thrift-savings-plan-college-tuition-taxes-24837.html . Calculate Tax Savings Do I Pay a Penalty on Early Withdrawal From a Thrift Savings Plan for College Tuition on My Taxes ? by Naomi Smith You have other options besides taking an early TSP withdrawal for college expenses . For most federal and military employees , the Thrift Savings Plan offers comparable benefits to private - sector individual retirement accounts and 401 ( k ) plans . However , the options for penalty - free early withdrawals are not as generous as with other retirement plans . The TSP allows you to withdraw your money early , but if it ' s going for college tuition you ' ll get stuck with a 10 percent penalty as well as any taxes owed on the distribution . You may find other options more advantageous . Early Withdrawal An early withdrawal is defined as any distribution from your TSP before you reach retirement age : 59 ½ for federal employees , or 55 for uniformed service . Such withdrawals are subject to applicable taxes and a 10 percent penalty , unless the amount is for an annuity , death benefit , divorce settlement , qualified medical expenses or if you become totally and permanently disabled . You can not replace such withdrawals so you suffer a permanent reduction in the amount of savings . You ca n ' t make up the difference by contributing more later , TSP Loans Rather than take a withdrawal and penalty , consider whether a TSP loan is a better way to go . You wo n ' t earn any returns on the borrowed amount , but you can repay it , so you wo n ' t adversely affect your total retirement savings . You may only borrow up to the amount of contributions plus their earnings ; you can not borrow against matching funds . You can borrow for any purpose , including education , for up to five years , and up to 15 years to purchase a home . Rollover to an IRA If you are eligible for a traditional or Roth IRA , consider rolling over your TSP into one of these accounts . Both types of IRA allow early withdrawals for qualified education expenses without assessing the 10 percent additional penalty . You ' ll still owe any tax due on the distributions . If you have a pre - tax TSP and choose to roll over an amount into a Roth IRA , you will be subject to tax on the amount rolled over , otherwise it ' s a tax - free transaction . Other Considerations Any early distribution from your TSP requires a 20 percent withholding for federal taxes . You may get this amount back when you file your tax return , but it does mean you wo n ' t be able to put the full benefit of the distribution toward your educational expenses until much later . The 10 percent penalty is assessed when you file your tax return . Depending on your age and field of study , you may find the negative aspects of an early TSP withdrawal are far outweighed by the potential for increased earning power with a References Thrift Savings Plan : Important Tax Information About Payments from Your TSP Account Thrift Savings Plan : TSP Loans - Loan Basics IRS Publication 590 : Individual Retirement Arrangements About the Author Naomi Smith has been writing full - time since 2009 , following a career in finance . Her fiction has been published by Loose Id and Dreamspinner Press , among others . She holds a Master of Science in financial economics from the London School of Economics and a Bachelor of Arts in political economy from the University of California , Berkeley . Photo Credits \n",
      "[GROUND-TRUTH] #(all)=3, #(present)=3, #(absent)=0\n",
      "\t\t[Thrift Savings Plan]\n",
      "\t\t[Early Withdrawal]\n",
      "\t\t[TSP Loans]\n",
      "[PREDICTION] #(all)=9, #(valid)=9, #(present)=6, #(valid&present)=6, #(valid&absent)=3\n",
      "\t\tScore N/A\tTraditional IRA \t\n",
      "\t\tScore N/A\t[Roth IRA] \t\n",
      "\t\tScore N/A\t[TSP Loans] \t[correct!]\n",
      "\t\tScore N/A\t[Early Withdrawal] \t[correct!]\n",
      "\t\tScore N/A\t[401 k] \t\n",
      "\t\tScore N/A\t[Rollover to an IRA] \t\n",
      "\t\tScore N/A\tPersonal financial problems \t\n",
      "\t\tScore N/A\tFinancial savers \t\n",
      "\t\tScore N/A\t[Thrift] \t\n",
      "\n",
      " ======================================================= \n",
      "[GROUND-TRUTH] #(all)=3, #(present)=3, #(absent)=0\n",
      "\n",
      "[PREDICTION] #(all)=9, #(valid)=9, #(present)=6, #(valid&present)=6, #(valid&absent)=3\n",
      "\n",
      " --- batch all_exact F1 @k: \t0.3333\n",
      " --- batch all_exact F1 @10: \t0.3333\n",
      " --- batch present_exact F1 @k: \t0.6667\n",
      " --- batch present_exact F1 @10: \t0.4444\n",
      " --- batch absent_exact F1 @50: \t0.0000\n",
      " --- batch absent_exact F1 @M: \t0.0000\n",
      " =======================================================\n"
     ]
    },
    {
     "data": {
      "text/plain": [
       "\"\\ncount = 0\\nfor ex_idx, ex_dict in enumerate(examples_dict['openkp']):\\n    if ex_idx < 2000:\\n        continue\\n    if ex_idx > 3000:\\n        break\\n        \\n    if len(ex_dict['keyphrase']) < 3: continue\\n\\n    src_text = ex_dict['title'] + ' . ' + ex_dict['text']\\n    printout, eval_dict = eval.eval_and_print(src_text, \\n                                              tgt_kps=ex_dict['keyphrase'], pred_kps=ex_dict['transfered_keyphrase'], \\n                                              pred_scores=None, return_eval=True)\\n    \\n    if eval_dict['present_exact']['f_score@k'] > 0.4:\\n        print(ex_idx)\\n        print(printout)\\n        count += 1\\n        if count > 100:\\n            break\\n\""
      ]
     },
     "execution_count": 5,
     "metadata": {},
     "output_type": "execute_result"
    }
   ],
   "source": [
    "ex_dict = examples_dict['openkp'][2541]\n",
    "src_text = ex_dict['title'] + ' . ' + ex_dict['text']\n",
    "printout, eval_dict = eval.eval_and_print(src_text, \n",
    "                                          tgt_kps=ex_dict['keyphrase'], pred_kps=ex_dict['transfered_keyphrase'], \n",
    "                                          pred_scores=None, return_eval=True)\n",
    "print(printout)\n",
    "'''\n",
    "count = 0\n",
    "for ex_idx, ex_dict in enumerate(examples_dict['openkp']):\n",
    "    if ex_idx < 2000:\n",
    "        continue\n",
    "    if ex_idx > 3000:\n",
    "        break\n",
    "        \n",
    "    if len(ex_dict['keyphrase']) < 3: continue\n",
    "\n",
    "    src_text = ex_dict['title'] + ' . ' + ex_dict['text']\n",
    "    printout, eval_dict = eval.eval_and_print(src_text, \n",
    "                                              tgt_kps=ex_dict['keyphrase'], pred_kps=ex_dict['transfered_keyphrase'], \n",
    "                                              pred_scores=None, return_eval=True)\n",
    "    \n",
    "    if eval_dict['present_exact']['f_score@k'] > 0.4:\n",
    "        print(ex_idx)\n",
    "        print(printout)\n",
    "        count += 1\n",
    "        if count > 100:\n",
    "            break\n",
    "'''\n"
   ]
  },
  {
   "cell_type": "markdown",
   "metadata": {},
   "source": [
    "#### KPTimes\n",
    "- 959 inferred topics about Illegal immigration\n",
    "- 1134 education\n",
    "- 1199 apple tech\n",
    "- 2518 Charter Challenges Comcast-Time Warner Cable Deal inferred Mergers and acquisitions"
   ]
  },
  {
   "cell_type": "code",
   "execution_count": 9,
   "metadata": {},
   "outputs": [
    {
     "name": "stdout",
     "output_type": "stream",
     "text": [
      "==================================================\n",
      "[Source]: Apple Profit Soars 73% as Sales Rise . SAN FRANCISCO, July 25 — Apple on Wednesday reported a 73 percent jump in quarterly profit on strong sales of Macs and iPods, beating Wall Street forecasts. It also alleviated some concerns about early sales of the iPhone . Investors were spooked on Tuesday when AT&T, which provides service for the phone, said it had activated just 146,000 iPhones in the day and a half from its release to the end of the quarter, far fewer than some analysts had expected. That sent Apple’s stock down 6 percent. But Apple executives said on Wednesday that the company had actually sold 270,000 iPhones in that period, a number that seemed to calm investors’ fears. The executives said Apple expects to sell 1 million iPhones this quarter, and reiterated its goal of selling 10 million phones by the end of 2008. The company plans to release the phone in Europe in the fourth quarter. “Our view is the starting gun has been fired and we’re off to a great start,” said Timothy D. Cook, Apple’s chief operating officer, in a conference call with analysts. “Our primary focus is not on initial sales but on creating a third business for Apple.” By comparison, Apple executives said, it took nearly two years for Apple to sell 1 million iPods. It is not entirely clear why so many early iPhone customers did not activate their phones right away, but Apple executives acknowledged that many customers experienced activation problems during the first week. Peter Oppenheimer, Apple’s chief financial officer, apologized for the problems and said they had been fixed. Shares of Apple climbed more than 9 percent, or $12.92, in after-hours trading. They closed at $137.26, up $2.37, in regular trading. The gains more than made up for the losses on Tuesday. Investor excitement over the iPhone’s potential has helped drive up Apple shares more than 50 percent since the product was announced in January. The company’s profit was $818 million, or 92 cents a share, compared with $472 million, or 54 cents a share, in the quarter a year earlier. Analysts had forecast a profit of $645.6 million, or 72 cents a share, according to a survey by Thomson Financial. The company shipped 1.76 million Macs during the quarter, representing 33 percent growth over the year-ago quarter, and 9.82 million iPods, for growth of 21 percent. “We’re thrilled to report the highest June quarter revenue and profit in Apple’s history, along with the highest quarterly Mac sales ever,” said Steven P. Jobs , Apple’s chief executive. Apple’s revenue for the quarter increased to $5.41 billion from $4.37 billion last year, beating Apple’s own projection of $5.1 billion. Apple has decided to book sales from the iPhone handsets, which cost $500 or $600 depending on the model, as subscription revenue over 24 months. The company recognized $5 million in revenue from the iPhone and related products during the fiscal third quarter, which ended June 30. The company’s gross margins rose substantially during the third quarter, to 36.9 percent from 30.3 percent in last year’s quarter. Mr. Oppenheimer said Apple’s margins benefited from favorable pricing for components like memory chips. “The upside was clearly the health of the Mac business,” said A. C. Sacconaghi, an analyst with Sanford C. Bernstein & Company. “Apple’s in a really attractive position, where the Mac’s component prices are falling but they’re able to charge the same prices.” Apple issued a conservative forecast for the fourth quarter, predicting revenue of about $5.7 billion and earnings per share of about 65 cents, as well as a drop in profit margins. Mr. Oppenheimer noted that the fourth quarter includes the school buying season, in which Apple typically offers costly back-to-school promotions and sells more lower-margin entry-level Macs. He also said he expected to see component prices rise somewhat during the quarter. Analysts have become accustomed to restrained forecasts from Apple. “Guidance for Apple has become a throwaway,” Mr. Sacconaghi said. “They guide conservatively and routinely beat it.” \n",
      "[GROUND-TRUTH] #(all)=5, #(present)=2, #(absent)=3\n",
      "\t\tApple Inc\n",
      "\t\tCompany Reports\n",
      "\t\t[iPhone]\n",
      "\t\t[Sales]\n",
      "\t\tJobs Steven P\n",
      "[PREDICTION] #(all)=10, #(valid)=10, #(present)=6, #(valid&present)=6, #(valid&absent)=4\n",
      "\t\tScore N/A\t[AT T] \t\n",
      "\t\tScore N/A\t[Thomson Financial] \t\n",
      "\t\tScore N/A\t[Macs] \t\n",
      "\t\tScore N/A\t[chief financial officer] \t\n",
      "\t\tScore N/A\t[Timothy D Cook] \t\n",
      "\t\tScore N/A\t[iPhone] \t[correct!]\n",
      "\t\tScore N/A\tApple Inc \t[correct!]\n",
      "\t\tScore N/A\tCorporate affairs \t\n",
      "\t\tScore N/A\tFirst quarter \t\n",
      "\t\tScore N/A\tComputer companies of the United States \t\n",
      "\n",
      " ======================================================= \n",
      "[GROUND-TRUTH] #(all)=5, #(present)=2, #(absent)=3\n",
      "\n",
      "[PREDICTION] #(all)=10, #(valid)=10, #(present)=6, #(valid&present)=6, #(valid&absent)=4\n",
      "\n",
      " --- batch all_exact F1 @k: \t0.0000\n",
      " --- batch all_exact F1 @10: \t0.2667\n",
      " --- batch present_exact F1 @k: \t0.0000\n",
      " --- batch present_exact F1 @10: \t0.2500\n",
      " --- batch absent_exact F1 @50: \t0.2857\n",
      " --- batch absent_exact F1 @M: \t0.2857\n",
      " =======================================================\n"
     ]
    },
    {
     "data": {
      "text/plain": [
       "\"\\ncount = 0\\nfor ex_idx, ex_dict in enumerate(examples_dict['kptimes']):\\n    if ex_idx < 1000:\\n        continue\\n    if ex_idx > 2000:\\n        break\\n        \\n    if len(ex_dict['keyphrase']) < 3: continue\\n\\n    src_text = ex_dict['title'] + ' . ' + ex_dict['text']\\n    printout, eval_dict = eval.eval_and_print(src_text, \\n                                              tgt_kps=ex_dict['keyphrase'], pred_kps=ex_dict['transfered_keyphrase'], \\n                                              pred_scores=None, return_eval=True)\\n    \\n    if eval_dict['absent_exact']['f_score@50'] > 0.0:\\n        print(ex_idx)\\n        print(printout)\\n        count += 1\\n        if count > 100:\\n            break\\n\""
      ]
     },
     "execution_count": 9,
     "metadata": {},
     "output_type": "execute_result"
    }
   ],
   "source": [
    "ex_dict = examples_dict['kptimes'][1199]\n",
    "src_text = ex_dict['title'] + ' . ' + ex_dict['text']\n",
    "printout, eval_dict = eval.eval_and_print(src_text, \n",
    "                                          tgt_kps=ex_dict['keyphrase'], pred_kps=ex_dict['transfered_keyphrase'], \n",
    "                                          pred_scores=None, return_eval=True)\n",
    "print(printout)\n",
    "'''\n",
    "count = 0\n",
    "for ex_idx, ex_dict in enumerate(examples_dict['kptimes']):\n",
    "    if ex_idx < 1000:\n",
    "        continue\n",
    "    if ex_idx > 2000:\n",
    "        break\n",
    "        \n",
    "    if len(ex_dict['keyphrase']) < 3: continue\n",
    "\n",
    "    src_text = ex_dict['title'] + ' . ' + ex_dict['text']\n",
    "    printout, eval_dict = eval.eval_and_print(src_text, \n",
    "                                              tgt_kps=ex_dict['keyphrase'], pred_kps=ex_dict['transfered_keyphrase'], \n",
    "                                              pred_scores=None, return_eval=True)\n",
    "    \n",
    "    if eval_dict['absent_exact']['f_score@50'] > 0.0:\n",
    "        print(ex_idx)\n",
    "        print(printout)\n",
    "        count += 1\n",
    "        if count > 100:\n",
    "            break\n",
    "'''\n"
   ]
  },
  {
   "cell_type": "markdown",
   "metadata": {},
   "source": [
    "#### StackEx\n",
    "- 216 infer awk\n",
    "- 2177 Brain computer interface\n",
    "- 3432 Logic based programming "
   ]
  },
  {
   "cell_type": "code",
   "execution_count": null,
   "metadata": {},
   "outputs": [],
   "source": [
    "'''\n",
    "rnd_idx = random.randint(0, len(examples)-1)\n",
    "print(rnd_idx)\n",
    "ex_dict = examples_dict['kp20k'][2123]\n",
    "src_text = ex_dict['title'] + ' . ' + ex_dict['text']\n",
    "printout, eval_dict = eval.eval_and_print(src_text, \n",
    "                                          tgt_kps=ex_dict['keyphrase'], pred_kps=ex_dict['transfered_keyphrase'], \n",
    "                                          pred_scores=None, return_eval=True)\n",
    "print(printout)\n",
    "'''\n",
    "count = 0\n",
    "for ex_idx, ex_dict in enumerate(examples_dict['stackex']):\n",
    "    if ex_idx < 3000:\n",
    "        continue\n",
    "    if ex_idx > 4000:\n",
    "        break\n",
    "        \n",
    "    if len(ex_dict['keyphrase']) < 2: continue\n",
    "\n",
    "    src_text = ex_dict['title'] + ' . ' + ex_dict['text']\n",
    "    printout, eval_dict = eval.eval_and_print(src_text, \n",
    "                                              tgt_kps=ex_dict['keyphrase'], pred_kps=ex_dict['transfered_keyphrase'], \n",
    "                                              pred_scores=None, return_eval=True)\n",
    "    \n",
    "    if eval_dict['absent_exact']['f_score@50'] > 0.0:\n",
    "        print(ex_idx)\n",
    "        print(printout)\n",
    "        count += 1\n",
    "        if count > 100:\n",
    "            break\n"
   ]
  },
  {
   "cell_type": "markdown",
   "metadata": {},
   "source": [
    "## KP Overlap between datasets\n",
    "\n",
    "#### not lowercased\n",
    "    kptimes 104797\n",
    "    kptimes (=104797) ∩ stackex (=8102) = 36\n",
    "    kptimes (=104797) ∩ kp20k (=680136) = 184\n",
    "    kptimes (=104797) ∩ openkp (=206806) = 8057\n",
    "    stackex 8102\n",
    "    stackex (=8102) ∩ kptimes (=104797) = 36\n",
    "    stackex (=8102) ∩ kp20k (=680136) = 4509\n",
    "    stackex (=8102) ∩ openkp (=206806) = 1485\n",
    "    kp20k 680136\n",
    "    kp20k (=680136) ∩ kptimes (=104797) = 184\n",
    "    kp20k (=680136) ∩ stackex (=8102) = 4509\n",
    "    kp20k (=680136) ∩ openkp (=206806) = 11678\n",
    "    openkp 206806\n",
    "    openkp (=206806) ∩ kptimes (=104797) = 8057\n",
    "    openkp (=206806) ∩ stackex (=8102) = 1485\n",
    "    openkp (=206806) ∩ kp20k (=680136) = 11678\n",
    "    \n",
    " \n",
    "#### lowercased\n",
    "    kptimes 104797\n",
    "    kptimes (=104797) ∩ stackex (=8102) = 556\n",
    "    kptimes (=104797) ∩ kp20k (=680136) = 3679\n",
    "    kptimes (=104797) ∩ openkp (=206806) = 8899\n",
    "    stackex 8102\n",
    "    stackex (=8102) ∩ kptimes (=104797) = 556\n",
    "    stackex (=8102) ∩ kp20k (=680136) = 4509\n",
    "    stackex (=8102) ∩ openkp (=206806) = 2678\n",
    "    kp20k 680136\n",
    "    kp20k (=680136) ∩ kptimes (=104797) = 3679\n",
    "    kp20k (=680136) ∩ stackex (=8102) = 4509\n",
    "    kp20k (=680136) ∩ openkp (=206806) = 21832\n",
    "    openkp 206806\n",
    "    openkp (=206806) ∩ kptimes (=104797) = 8899\n",
    "    openkp (=206806) ∩ stackex (=8102) = 2678\n",
    "    openkp (=206806) ∩ kp20k (=680136) = 21832"
   ]
  },
  {
   "cell_type": "code",
   "execution_count": 42,
   "metadata": {},
   "outputs": [
    {
     "name": "stdout",
     "output_type": "stream",
     "text": [
      "kptimes 104797\n",
      "kptimes (=104797) ∩ stackex (=8102) = 556\n",
      "acer\n",
      "actor\n",
      "addiction\n",
      "adhd\n",
      "adobe\n",
      "adult education\n",
      "advertising\n",
      "aggression\n",
      "aging\n",
      "airbnb\n",
      "alcohol\n",
      "altruism\n",
      "amazon\n",
      "ancestry com\n",
      "android\n",
      "animation\n",
      "ansys\n",
      "anthropology\n",
      "antibiotics\n",
      "anxiety\n",
      "==================================================\n",
      "kptimes (=104797) ∩ kp20k (=680136) = 3679\n",
      "1960s\n",
      "1996 presidential election\n",
      "20 questions\n",
      "2008 presidential election\n",
      "3 d\n",
      "311\n",
      "3m\n",
      "5g\n",
      "911\n",
      "aaa\n",
      "abacus\n",
      "abandonment\n",
      "abba\n",
      "abc\n",
      "abe\n",
      "abortion\n",
      "absenteeism\n",
      "ac dc\n",
      "accelerometer\n",
      "accountants\n",
      "==================================================\n",
      "kptimes (=104797) ∩ openkp (=206806) = 8899\n",
      "13th amendment\n",
      "19 kids and counting\n",
      "1900 galveston hurricane\n",
      "1930s\n",
      "2010 fifa world cup\n",
      "2012 summer olympics\n",
      "2013\n",
      "2014\n",
      "3m\n",
      "401k\n",
      "41\n",
      "49ers\n",
      "4chan\n",
      "5g\n",
      "a midsummer night s dream\n",
      "a p\n",
      "a raisin in the sun\n",
      "a series of unfortunate events\n",
      "a24\n",
      "aaa\n",
      "==================================================\n",
      "stackex 8102\n",
      "stackex (=8102) ∩ kptimes (=104797) = 556\n",
      "acer\n",
      "actor\n",
      "addiction\n",
      "adhd\n",
      "adobe\n",
      "adult education\n",
      "advertising\n",
      "aggression\n",
      "aging\n",
      "airbnb\n",
      "alcohol\n",
      "altruism\n",
      "amazon\n",
      "ancestry com\n",
      "android\n",
      "animation\n",
      "ansys\n",
      "anthropology\n",
      "antibiotics\n",
      "anxiety\n",
      "==================================================\n",
      "stackex (=8102) ∩ kp20k (=680136) = 4509\n",
      "2 sat\n",
      "2d\n",
      "2d graphics\n",
      "3 sat\n",
      "32 bit\n",
      "3d\n",
      "3d objects\n",
      "3d scanner\n",
      "3d structure\n",
      "3g\n",
      "4d\n",
      "4g\n",
      "4k\n",
      "64 bit\n",
      "802 1x\n",
      "a b testing\n",
      "a star\n",
      "aac\n",
      "abap\n",
      "abbreviations\n",
      "==================================================\n",
      "stackex (=8102) ∩ openkp (=206806) = 2678\n",
      "3d printer\n",
      "3d scanner\n",
      "64 bit\n",
      "abap\n",
      "abbreviations\n",
      "abi\n",
      "abnormal psychology\n",
      "access\n",
      "access control\n",
      "access control lists\n",
      "access point\n",
      "accessibility\n",
      "account management\n",
      "accounts\n",
      "accuracy\n",
      "acer\n",
      "acm\n",
      "active directory\n",
      "active learning\n",
      "activity\n",
      "==================================================\n",
      "kp20k 680136\n",
      "kp20k (=680136) ∩ kptimes (=104797) = 3679\n",
      "1960s\n",
      "1996 presidential election\n",
      "20 questions\n",
      "2008 presidential election\n",
      "3 d\n",
      "311\n",
      "3m\n",
      "5g\n",
      "911\n",
      "aaa\n",
      "abacus\n",
      "abandonment\n",
      "abba\n",
      "abc\n",
      "abe\n",
      "abortion\n",
      "absenteeism\n",
      "ac dc\n",
      "accelerometer\n",
      "accountants\n",
      "==================================================\n",
      "kp20k (=680136) ∩ stackex (=8102) = 4509\n",
      "2 sat\n",
      "2d\n",
      "2d graphics\n",
      "3 sat\n",
      "32 bit\n",
      "3d\n",
      "3d objects\n",
      "3d scanner\n",
      "3d structure\n",
      "3g\n",
      "4d\n",
      "4g\n",
      "4k\n",
      "64 bit\n",
      "802 1x\n",
      "a b testing\n",
      "a star\n",
      "aac\n",
      "abap\n",
      "abbreviations\n",
      "==================================================\n",
      "kp20k (=680136) ∩ openkp (=206806) = 21832\n",
      "2\n",
      "20th century\n",
      "21st century skills\n",
      "25\n",
      "2d animation\n",
      "2d array\n",
      "3 dimensional objects\n",
      "3 methylindole\n",
      "304 stainless steel\n",
      "3d digital imaging\n",
      "3d graphics\n",
      "3d laser scanning\n",
      "3d map\n",
      "3d maps\n",
      "3d model\n",
      "3d modeling\n",
      "3d models\n",
      "3d perception\n",
      "3d printing\n",
      "3d puzzles\n",
      "==================================================\n",
      "openkp 206806\n",
      "openkp (=206806) ∩ kptimes (=104797) = 8899\n",
      "13th amendment\n",
      "19 kids and counting\n",
      "1900 galveston hurricane\n",
      "1930s\n",
      "2010 fifa world cup\n",
      "2012 summer olympics\n",
      "2013\n",
      "2014\n",
      "3m\n",
      "401k\n",
      "41\n",
      "49ers\n",
      "4chan\n",
      "5g\n",
      "a midsummer night s dream\n",
      "a p\n",
      "a raisin in the sun\n",
      "a series of unfortunate events\n",
      "a24\n",
      "aaa\n",
      "==================================================\n",
      "openkp (=206806) ∩ stackex (=8102) = 2678\n",
      "3d printer\n",
      "3d scanner\n",
      "64 bit\n",
      "abap\n",
      "abbreviations\n",
      "abi\n",
      "abnormal psychology\n",
      "access\n",
      "access control\n",
      "access control lists\n",
      "access point\n",
      "accessibility\n",
      "account management\n",
      "accounts\n",
      "accuracy\n",
      "acer\n",
      "acm\n",
      "active directory\n",
      "active learning\n",
      "activity\n",
      "==================================================\n",
      "openkp (=206806) ∩ kp20k (=680136) = 21832\n",
      "2\n",
      "20th century\n",
      "21st century skills\n",
      "25\n",
      "2d animation\n",
      "2d array\n",
      "3 dimensional objects\n",
      "3 methylindole\n",
      "304 stainless steel\n",
      "3d digital imaging\n",
      "3d graphics\n",
      "3d laser scanning\n",
      "3d map\n",
      "3d maps\n",
      "3d model\n",
      "3d modeling\n",
      "3d models\n",
      "3d perception\n",
      "3d printing\n",
      "3d puzzles\n",
      "==================================================\n"
     ]
    }
   ],
   "source": [
    "for dataset, kp_set in dataset_kp_sets.items():\n",
    "    print(dataset, len(kp_set))\n",
    "    for sec_dataset, sec_kp_set in dataset_kp_sets.items():\n",
    "        if dataset == sec_dataset: continue\n",
    "        if len(kp_set) < len(sec_kp_set):\n",
    "            smaller = kp_set\n",
    "            larger = sec_kp_set\n",
    "        else:\n",
    "            smaller = sec_kp_set\n",
    "            larger = kp_set\n",
    "        smaller = set(p.lower().strip() for p in smaller)\n",
    "        larger = set(p.lower().strip() for p in larger)\n",
    "        \n",
    "#         print('smaller')\n",
    "#         for p in sorted(smaller)[:20]:\n",
    "#             print(p)\n",
    "#             print('-')\n",
    "#         print('larger')\n",
    "#         for p in sorted(larger)[:20]:\n",
    "#             print(p)\n",
    "#             print('-')\n",
    "        num_intersec = 0\n",
    "        intersec_kps = []\n",
    "        for p in smaller:\n",
    "            if p in larger: \n",
    "                num_intersec += 1\n",
    "                intersec_kps.append(p)\n",
    "        \n",
    "        print('%s (=%d) ∩ %s (=%d) = %d' % (dataset, len(kp_set), sec_dataset, len(sec_kp_set), num_intersec))\n",
    "\n",
    "        for p in sorted(intersec_kps)[:20]:\n",
    "            print(p)\n",
    "        print('=' * 50)\n",
    "            "
   ]
  },
  {
   "cell_type": "markdown",
   "metadata": {},
   "source": [
    "### Visualize histogram of two datasets"
   ]
  },
  {
   "cell_type": "code",
   "execution_count": 12,
   "metadata": {
    "ExecuteTime": {
     "end_time": "2020-11-10T04:06:47.180742Z",
     "start_time": "2020-11-10T04:06:46.899160Z"
    }
   },
   "outputs": [
    {
     "data": {
      "text/plain": [
       "<matplotlib.axes._subplots.AxesSubplot at 0x7fa94f6a28d0>"
      ]
     },
     "execution_count": 12,
     "metadata": {},
     "output_type": "execute_result"
    },
    {
     "data": {
      "image/png": "[encoded data removed]",
      "text/plain": [
       "<Figure size 432x288 with 1 Axes>"
      ]
     },
     "metadata": {},
     "output_type": "display_data"
    }
   ],
   "source": [
    "sns.__version__\n",
    "penguins = sns.load_dataset(\"penguins\")\n",
    "sns.histplot(data=penguins, x=\"flipper_length_mm\", hue=\"species\")"
   ]
  },
  {
   "cell_type": "code",
   "execution_count": 20,
   "metadata": {
    "ExecuteTime": {
     "end_time": "2020-11-10T04:09:19.376341Z",
     "start_time": "2020-11-10T04:09:18.196431Z"
    }
   },
   "outputs": [
    {
     "data": {
      "text/plain": [
       "Text(0.5, 1.0, 'Histogram of #(kp per document) of KP20k and MagKP')"
      ]
     },
     "execution_count": 20,
     "metadata": {},
     "output_type": "execute_result"
    },
    {
     "data": {
      "image/png": "[encoded data removed]",
      "text/plain": [
       "<Figure size 576x432 with 1 Axes>"
      ]
     },
     "metadata": {},
     "output_type": "display_data"
    }
   ],
   "source": [
    "sns.set(style=\"whitegrid\")\n",
    "fig, ax = plt.subplots(figsize=(8, 6))\n",
    "\n",
    "tmp_tgt_nums = [n for n in tgt_nums[\"magkp\"] if n <= 30]\n",
    "sns.distplot(tmp_tgt_nums, color=sns.color_palette(\"Greens_r\", 8)[6], label=\"MagKP\", bins=np.arange(31) - 0.5, kde=False, rug=False, hist_kws=dict(alpha=1.0, edgecolor=\"w\", linewidth=0.2))\n",
    "\n",
    "tmp_tgt_nums = [n for n in tgt_nums[\"magkp\"] if n >= 3 and n <= 6]\n",
    "sns.distplot(tmp_tgt_nums, label=\"MagKP-LN\", bins=np.arange(31)-0.5, \n",
    "             color=\"c\",\n",
    "             kde=False, rug=False, hist_kws=dict(alpha=0.7, edgecolor=\"w\", linewidth=0.1))\n",
    "\n",
    "tmp_tgt_nums = [n for n in tgt_nums[\"magkp\"] if n > 10 and n <= 30]\n",
    "sns.distplot(tmp_tgt_nums, color=sns.color_palette(\"Blues_r\", 8)[4], label=\"MagKP-N\", bins=np.arange(31)-0.5, kde=False, rug=False, hist_kws=dict(alpha=0.5, edgecolor=\"w\", linewidth=0.2))\n",
    "\n",
    "tmp_tgt_nums = [n for n in tgt_nums[\"kp20k\"] if n <= 30]\n",
    "sns.distplot(tmp_tgt_nums, color=sns.color_palette(\"hls\", 8)[0], label=\"KP20k\", bins=np.arange(31) - 0.5, kde=False, rug=False, hist_kws=dict(alpha=0.6, edgecolor=\"k\", linewidth=1.5))\n",
    "\n",
    "plt.xlim([-1, 30])\n",
    "plt.legend(loc='upper right')\n",
    "ax.set_title('Histogram of #(kp per document) of KP20k and MagKP')"
   ]
  },
  {
   "cell_type": "code",
   "execution_count": 203,
   "metadata": {
    "ExecuteTime": {
     "end_time": "2020-11-23T21:06:33.627156Z",
     "start_time": "2020-11-23T21:06:32.172778Z"
    }
   },
   "outputs": [
    {
     "name": "stdout",
     "output_type": "stream",
     "text": [
      "2391870\n",
      "521542\n",
      "1520307\n",
      "521542\n",
      "511653\n"
     ]
    },
    {
     "data": {
      "text/plain": [
       "Text(0.5, 0, '#(phrase) per paper')"
      ]
     },
     "execution_count": 203,
     "metadata": {},
     "output_type": "execute_result"
    },
    {
     "data": {
      "image/png": "[encoded data removed]",
      "text/plain": [
       "<Figure size 576x432 with 1 Axes>"
      ]
     },
     "metadata": {},
     "output_type": "display_data"
    }
   ],
   "source": [
    "sns.set(style=\"whitegrid\")\n",
    "fig, ax = plt.subplots(figsize=(8, 6))\n",
    "\n",
    "tmp_tgt_nums = [n for n in tgt_nums[\"magkp\"] if n <= 30]\n",
    "print(len(tmp_tgt_nums))\n",
    "sns.distplot(tmp_tgt_nums, label=\"MagKP\",\n",
    "             bins=np.arange(31) - 0.5, color=\"w\",\n",
    "             hist_kws=dict(alpha=1.0, edgecolor=\"k\", linewidth=5.0),\n",
    "             kde=False, kde_kws={\"color\": \"k\", \"lw\": 3, \"label\": \"KDE\"})\n",
    "\n",
    "tmp_tgt_nums = [n for n in tgt_nums[\"magkp\"] if n >= 3 and n <= 6]\n",
    "magkpln_tgt_nums = tmp_tgt_nums\n",
    "print(len(tmp_tgt_nums))\n",
    "sns.distplot(tmp_tgt_nums, label=\"MagKP-LN\", \n",
    "             bins=np.arange(31)-0.5, color=sns.color_palette(\"Blues_r\", 8)[3],\n",
    "             kde=False, rug=False, hist_kws=dict(alpha=0.8, edgecolor=\"k\", linewidth=0.0))\n",
    "\n",
    "tmp_tgt_nums = [n for n in tgt_nums[\"magkp\"] if n > 10]\n",
    "print(len(tmp_tgt_nums))\n",
    "sns.distplot(tmp_tgt_nums, label=\"MagKP-Nlarge\", \n",
    "             bins=np.arange(31)-0.5, color=sns.color_palette(\"Greys_r\", 8)[5],\n",
    "             kde=False, rug=False, hist_kws=dict(alpha=0.8, edgecolor=\"k\", linewidth=0.0))\n",
    "\n",
    "\n",
    "tmp_tgt_nums = [n for n in tgt_nums[\"magkp\"] if n > 10]\n",
    "tmp_tgt_nums = tmp_tgt_nums[: len(magkpln_tgt_nums)]\n",
    "print(len(tmp_tgt_nums))\n",
    "sns.distplot(tmp_tgt_nums, label=\"MagKP-Nsmall\", \n",
    "             bins=np.arange(31)-0.5, color=sns.color_palette(\"Greys_r\", 8)[2],\n",
    "             kde=False, rug=False, hist_kws=dict(alpha=1.0, edgecolor=\"k\", linewidth=0.0))\n",
    "\n",
    "tmp_tgt_nums = [n for n in tgt_nums[\"kp20k\"] if n <= 30]\n",
    "print(len(tmp_tgt_nums))\n",
    "sns.distplot(tmp_tgt_nums, label=\"KP20k\", \n",
    "             bins=np.arange(31) - 0.5, color=sns.color_palette(\"hls\", 8)[0], \n",
    "             kde=False, rug=False, hist_kws=dict(alpha=1.0, edgecolor=\"red\", linewidth=2.5))\n",
    "\n",
    "plt.xlim([-1, 30])\n",
    "plt.legend(loc='upper right')\n",
    "ax.set_ylabel('#(papers)')\n",
    "ax.set_xlabel('#(phrase) per paper')\n",
    "# ax.set_title('Histogram of #(kp per document) of KP20k and MagKP')"
   ]
  },
  {
   "cell_type": "markdown",
   "metadata": {},
   "source": [
    "#### Check #(unique_kp) in each dataset"
   ]
  },
  {
   "cell_type": "code",
   "execution_count": 3,
   "metadata": {
    "ExecuteTime": {
     "end_time": "2020-11-23T05:38:33.869419Z",
     "start_time": "2020-11-23T05:38:31.184Z"
    }
   },
   "outputs": [
    {
     "name": "stdout",
     "output_type": "stream",
     "text": [
      "kp20k\n",
      "magkp\n"
     ]
    }
   ],
   "source": [
    "dataset_names = ['kp20k', 'magkp']\n",
    "\n",
    "# json_base_dir = '/Users/memray/project/kp/OpenNMT-kpg/data/keyphrase/json/' # path to the json folder\n",
    "json_base_dir = '/zfs1/pbrusilovsky/rum20/kp/OpenNMT-kpg/data/keyphrase/json' # path on CRC\n",
    "\n",
    "dataset_tgt_dict = {}\n",
    "    \n",
    "for dataset_name in dataset_names:\n",
    "    dataset_tgt_dict[dataset_name] = []\n",
    "    print(dataset_name)\n",
    "\n",
    "    input_json_path = os.path.join(json_base_dir, dataset_name, '%s_train.json' % dataset_name)\n",
    "    \n",
    "    with open(input_json_path, 'r') as input_json:\n",
    "        for json_line in input_json:\n",
    "            json_dict = json.loads(json_line)\n",
    "\n",
    "            if dataset_name == 'stackexchange':\n",
    "                json_dict['abstract'] = json_dict['question']\n",
    "                json_dict['keywords'] = json_dict['tags']            \n",
    "                del json_dict['question']\n",
    "                del json_dict['tags']\n",
    "\n",
    "            title = json_dict['title']\n",
    "            abstract = json_dict['abstract']\n",
    "            fulltext = json_dict['fulltext'] if 'fulltext' in json_dict else ''\n",
    "            keywords = json_dict['keywords']\n",
    "\n",
    "            if isinstance(keywords, str):\n",
    "                keywords = keywords.split(';')\n",
    "                json_dict['keywords'] = keywords\n",
    "            keywords = [k.lower().strip() for k in keywords]\n",
    "            \n",
    "            dataset_tgt_dict[dataset_name].append(keywords)\n"
   ]
  },
  {
   "cell_type": "code",
   "execution_count": 5,
   "metadata": {
    "ExecuteTime": {
     "end_time": "2020-11-23T00:22:10.562675Z",
     "start_time": "2020-11-23T00:22:09.463568Z"
    }
   },
   "outputs": [],
   "source": [
    "# prepare Magkp subsets\n",
    "dataset_tgt_dict['magkp_ln'] = [kps for kps in dataset_tgt_dict[\"magkp\"] if len(kps) >= 3 and len(kps) <= 6]\n",
    "dataset_tgt_dict['magkp_nlarge'] = [kps for kps in dataset_tgt_dict[\"magkp\"] if len(kps) > 10]\n",
    "dataset_tgt_dict['magkp_nsmall'] = dataset_tgt_dict['magkp_nlarge'][: len(dataset_tgt_dict['magkp_ln'])]\n"
   ]
  },
  {
   "cell_type": "code",
   "execution_count": 6,
   "metadata": {
    "ExecuteTime": {
     "end_time": "2020-11-23T21:27:32.323475Z",
     "start_time": "2020-11-23T21:26:12.282108Z"
    }
   },
   "outputs": [
    {
     "name": "stdout",
     "output_type": "stream",
     "text": [
      "**************************************************\n",
      "kp20k\n",
      "num_doc= 514154\n",
      "num_unique_kp= 699791\n",
      "num_kp= 2710067\n",
      "len_kp= 1.9230266262789812\n",
      "max_kp_in_doc= 110\n",
      "len_kp_list= 91\n",
      "**************************************************\n",
      "magkp\n",
      "num_doc= 2699094\n",
      "num_unique_kp= 6880853\n",
      "num_kp= 41605964\n",
      "len_kp= 3.4161944427005704\n",
      "max_kp_in_doc= 438\n",
      "len_kp_list= 100\n",
      "**************************************************\n",
      "magkp_ln\n",
      "num_doc= 521542\n",
      "num_unique_kp= 579244\n",
      "num_kp= 2331072\n",
      "len_kp= 2.726639932185707\n",
      "max_kp_in_doc= 6\n",
      "len_kp_list= 100\n",
      "**************************************************\n",
      "magkp_nlarge\n",
      "num_doc= 1520307\n",
      "num_unique_kp= 5784959\n",
      "num_kp= 35525765\n",
      "len_kp= 3.376301903702848\n",
      "max_kp_in_doc= 438\n",
      "len_kp_list= 100\n",
      "**************************************************\n",
      "magkp_nsmall\n",
      "num_doc= 521542\n",
      "num_unique_kp= 2236091\n",
      "num_kp= 12193980\n",
      "len_kp= 3.3652286620119107\n",
      "max_kp_in_doc= 262\n",
      "len_kp_list= 100\n"
     ]
    }
   ],
   "source": [
    "\n",
    "for dataset, kps_list in dataset_tgt_dict.items():\n",
    "    kp_set = set()\n",
    "    num_kp = 0\n",
    "    max_kp_in_doc = 0\n",
    "    max_len_kp = 0\n",
    "    len_kp_list = []\n",
    "    for kps in kps_list:\n",
    "        for kp in kps:\n",
    "            kp_set.add(kp)\n",
    "            num_kp += 1\n",
    "            num_word = len(kp.split())\n",
    "            len_kp_list.append(num_word)\n",
    "            if num_word > max_len_kp:\n",
    "                max_len_kp = num_word\n",
    "        if len(kps) > max_kp_in_doc:\n",
    "            max_kp_in_doc = len(kps)\n",
    "    num_unique_kp = len(kp_set)\n",
    "    print('*' * 50)\n",
    "    print(dataset)\n",
    "    print('num_doc=', len(kps_list))\n",
    "    print('num_unique_kp=', num_unique_kp)\n",
    "    print('num_kp=', num_kp)\n",
    "    print('len_kp=', np.mean(len_kp_list))\n",
    "    print('max_kp_in_doc=', max_kp_in_doc)\n",
    "    print('len_kp_list=', max_len_kp)\n",
    "    "
   ]
  },
  {
   "cell_type": "markdown",
   "metadata": {},
   "source": [
    "#### print num_paper binned by num_kp"
   ]
  },
  {
   "cell_type": "code",
   "execution_count": 5,
   "metadata": {
    "ExecuteTime": {
     "end_time": "2020-11-22T03:20:08.168149Z",
     "start_time": "2020-11-22T03:20:08.113779Z"
    },
    "scrolled": true
   },
   "outputs": [
    {
     "name": "stdout",
     "output_type": "stream",
     "text": [
      "0\n",
      "1884\n",
      "15433\n",
      "88651\n",
      "136732\n",
      "135117\n",
      "68930\n",
      "25108\n",
      "12786\n",
      "6306\n",
      "3871\n",
      "2054\n",
      "1517\n",
      "1088\n",
      "945\n",
      "859\n",
      "817\n",
      "844\n",
      "793\n",
      "866\n",
      "856\n",
      "807\n",
      "731\n",
      "743\n",
      "676\n",
      "657\n",
      "604\n",
      "546\n",
      "500\n",
      "492\n",
      "440\n"
     ]
    }
   ],
   "source": [
    "tmp_tgt_nums = [n for n in tgt_nums[\"kp20k\"] if n <= 30]\n",
    "for bin_count in np.bincount(tmp_tgt_nums):\n",
    "    print(bin_count)"
   ]
  },
  {
   "cell_type": "markdown",
   "metadata": {},
   "source": [
    "### Stats of KP20k\n",
    "\n",
    "##### w/o preprocessing\n",
    "\n",
    "All documents\n",
    "- #(data examples)=514,154 \n",
    "- #(KP)=2,710,067\n",
    "- #(unique KP)=710,218\n",
    " \n",
    " \n",
    "For documents whose \\#(kp)>10\n",
    "- #(DP)=19,336 (3.76%)\n",
    "- #(KP)=401,763 (14.82%)\n",
    "- #(unique KP)=52,176 (7.35%)\n",
    "\n",
    "\n",
    "##### w/ preprocessing\n",
    "All documents\n",
    "- #(DP)=514,154\n",
    "- #(KP)=2,710,067\n",
    "- #(unique KP)=625,058 (diff between w/&w/o preprocessing: 85,160)\n",
    "\n",
    "For documents whose \\#(kp)>10\n",
    "- #(DP)=19,336\n",
    "- #(KP)=401,763 (14.82%)\n",
    "- #(unique KP)=48,125 (7.70%, diff between w/&w/o preprocessing: 4,051)"
   ]
  },
  {
   "cell_type": "markdown",
   "metadata": {},
   "source": [
    "#### Count #kp per document"
   ]
  },
  {
   "cell_type": "code",
   "execution_count": 20,
   "metadata": {},
   "outputs": [
    {
     "name": "stdout",
     "output_type": "stream",
     "text": [
      "DescribeResult(nobs=514154, minmax=(1, 110), mean=5.270924664594655, variance=14.141117540879774, skewness=5.39192287405869, kurtosis=40.41415445884668)\n",
      "Percentile@0 = 1.000000\n",
      "Percentile@1 = 2.000000\n",
      "Percentile@2 = 2.000000\n",
      "Percentile@3 = 2.000000\n",
      "Percentile@4 = 3.000000\n",
      "Percentile@5 = 3.000000\n",
      "Percentile@6 = 3.000000\n",
      "Percentile@7 = 3.000000\n",
      "Percentile@8 = 3.000000\n",
      "Percentile@9 = 3.000000\n",
      "Percentile@10 = 3.000000\n",
      "Percentile@11 = 3.000000\n",
      "Percentile@12 = 3.000000\n",
      "Percentile@13 = 3.000000\n",
      "Percentile@14 = 3.000000\n",
      "Percentile@15 = 3.000000\n",
      "Percentile@16 = 3.000000\n",
      "Percentile@17 = 3.000000\n",
      "Percentile@18 = 3.000000\n",
      "Percentile@19 = 3.000000\n",
      "Percentile@20 = 3.000000\n",
      "Percentile@21 = 4.000000\n",
      "Percentile@22 = 4.000000\n",
      "Percentile@23 = 4.000000\n",
      "Percentile@24 = 4.000000\n",
      "Percentile@25 = 4.000000\n",
      "Percentile@26 = 4.000000\n",
      "Percentile@27 = 4.000000\n",
      "Percentile@28 = 4.000000\n",
      "Percentile@29 = 4.000000\n",
      "Percentile@30 = 4.000000\n",
      "Percentile@31 = 4.000000\n",
      "Percentile@32 = 4.000000\n",
      "Percentile@33 = 4.000000\n",
      "Percentile@34 = 4.000000\n",
      "Percentile@35 = 4.000000\n",
      "Percentile@36 = 4.000000\n",
      "Percentile@37 = 4.000000\n",
      "Percentile@38 = 4.000000\n",
      "Percentile@39 = 4.000000\n",
      "Percentile@40 = 4.000000\n",
      "Percentile@41 = 4.000000\n",
      "Percentile@42 = 4.000000\n",
      "Percentile@43 = 4.000000\n",
      "Percentile@44 = 4.000000\n",
      "Percentile@45 = 4.000000\n",
      "Percentile@46 = 4.000000\n",
      "Percentile@47 = 4.000000\n",
      "Percentile@48 = 5.000000\n",
      "Percentile@49 = 5.000000\n",
      "Percentile@50 = 5.000000\n",
      "Percentile@51 = 5.000000\n",
      "Percentile@52 = 5.000000\n",
      "Percentile@53 = 5.000000\n",
      "Percentile@54 = 5.000000\n",
      "Percentile@55 = 5.000000\n",
      "Percentile@56 = 5.000000\n",
      "Percentile@57 = 5.000000\n",
      "Percentile@58 = 5.000000\n",
      "Percentile@59 = 5.000000\n",
      "Percentile@60 = 5.000000\n",
      "Percentile@61 = 5.000000\n",
      "Percentile@62 = 5.000000\n",
      "Percentile@63 = 5.000000\n",
      "Percentile@64 = 5.000000\n",
      "Percentile@65 = 5.000000\n",
      "Percentile@66 = 5.000000\n",
      "Percentile@67 = 5.000000\n",
      "Percentile@68 = 5.000000\n",
      "Percentile@69 = 5.000000\n",
      "Percentile@70 = 5.000000\n",
      "Percentile@71 = 5.000000\n",
      "Percentile@72 = 5.000000\n",
      "Percentile@73 = 5.000000\n",
      "Percentile@74 = 6.000000\n",
      "Percentile@75 = 6.000000\n",
      "Percentile@76 = 6.000000\n",
      "Percentile@77 = 6.000000\n",
      "Percentile@78 = 6.000000\n",
      "Percentile@79 = 6.000000\n",
      "Percentile@80 = 6.000000\n",
      "Percentile@81 = 6.000000\n",
      "Percentile@82 = 6.000000\n",
      "Percentile@83 = 6.000000\n",
      "Percentile@84 = 6.000000\n",
      "Percentile@85 = 6.000000\n",
      "Percentile@86 = 6.000000\n",
      "Percentile@87 = 7.000000\n",
      "Percentile@88 = 7.000000\n",
      "Percentile@89 = 7.000000\n",
      "Percentile@90 = 7.000000\n",
      "Percentile@91 = 7.000000\n",
      "Percentile@92 = 8.000000\n",
      "Percentile@93 = 8.000000\n",
      "Percentile@94 = 8.000000\n",
      "Percentile@95 = 9.000000\n",
      "Percentile@96 = 10.000000\n",
      "Percentile@97 = 13.000000\n",
      "Percentile@98 = 19.000000\n",
      "Percentile@99 = 25.000000\n",
      "Percentile@100 = 110.000000\n"
     ]
    }
   ],
   "source": [
    "data = tgt_nums[\"kp20k\"]\n",
    "print(scipy.stats.describe(data))\n",
    "\n",
    "for p in np.linspace(0, 100, 101):\n",
    "    percentile = np.percentile(data, p, interpolation='lower')\n",
    "    print('Percentile@%.0f = %.6f' % (p, percentile))"
   ]
  },
  {
   "cell_type": "code",
   "execution_count": 27,
   "metadata": {
    "ExecuteTime": {
     "end_time": "2020-09-22T04:00:35.137583Z",
     "start_time": "2020-09-22T04:00:35.105311Z"
    }
   },
   "outputs": [
    {
     "name": "stdout",
     "output_type": "stream",
     "text": [
      "429430/514154\n"
     ]
    }
   ],
   "source": [
    "tmp_tgt_nums = [n for n in tgt_nums[\"kp20k\"] if n >=3 and n <= 6]\n",
    "print('%d/%d' % (len(tmp_tgt_nums), len(tgt_nums[\"kp20k\"])))"
   ]
  },
  {
   "cell_type": "code",
   "execution_count": 25,
   "metadata": {
    "ExecuteTime": {
     "end_time": "2020-09-22T03:57:34.284991Z",
     "start_time": "2020-09-22T03:57:34.098594Z"
    }
   },
   "outputs": [
    {
     "data": {
      "text/plain": [
       "Text(0.5, 1.0, 'Histogram of #(kp per document) of KP20k (truncated at 10)')"
      ]
     },
     "execution_count": 25,
     "metadata": {},
     "output_type": "execute_result"
    },
    {
     "data": {
      "image/png": "[encoded data removed]",
      "text/plain": [
       "<Figure size 576x432 with 1 Axes>"
      ]
     },
     "metadata": {
      "needs_background": "light"
     },
     "output_type": "display_data"
    }
   ],
   "source": [
    "fig, ax = plt.subplots(figsize=(8, 6))\n",
    "\n",
    "tmp_tgt_nums = [n for n in tgt_nums[\"kp20k\"] if n <= 10]\n",
    "sns.distplot(tmp_tgt_nums, color=\"teal\", label=\"KP20k\", bins=10, kde=False, rug=False, hist_kws=dict(alpha=0.7, edgecolor=\"k\", linewidth=1))\n",
    "\n",
    "ax.set_title('Histogram of #(kp per document) of KP20k (truncated at 10)')"
   ]
  },
  {
   "cell_type": "code",
   "execution_count": 24,
   "metadata": {
    "ExecuteTime": {
     "end_time": "2020-09-22T03:17:46.526807Z",
     "start_time": "2020-09-22T03:17:46.241163Z"
    }
   },
   "outputs": [
    {
     "data": {
      "text/plain": [
       "Text(0.5, 1.0, 'Histogram of #(kp per document) of KP20k')"
      ]
     },
     "execution_count": 24,
     "metadata": {},
     "output_type": "execute_result"
    },
    {
     "data": {
      "image/png": "[encoded data removed]",
      "text/plain": [
       "<Figure size 576x432 with 1 Axes>"
      ]
     },
     "metadata": {
      "needs_background": "light"
     },
     "output_type": "display_data"
    }
   ],
   "source": [
    "fig, ax = plt.subplots(figsize=(8, 6))\n",
    "\n",
    "tmp_tgt_nums = [n for n in tgt_nums[\"kp20k\"]]\n",
    "sns.distplot(tmp_tgt_nums, color=\"teal\", label=\"KP20k\", bins=100, kde=False, rug=False, hist_kws=dict(alpha=0.7, edgecolor=\"k\", linewidth=1))\n",
    "\n",
    "ax.set_title('Histogram of #(kp per document) of KP20k')"
   ]
  },
  {
   "cell_type": "markdown",
   "metadata": {},
   "source": [
    "#### Count unique phrases"
   ]
  },
  {
   "cell_type": "markdown",
   "metadata": {},
   "source": [
    "##### only count documents that #(kp)>10"
   ]
  },
  {
   "cell_type": "code",
   "execution_count": 30,
   "metadata": {
    "ExecuteTime": {
     "end_time": "2020-08-12T06:08:27.482077Z",
     "start_time": "2020-08-12T06:08:13.670328Z"
    }
   },
   "outputs": [
    {
     "name": "stdout",
     "output_type": "stream",
     "text": [
      "#(DP)=19336\n",
      "#(KP)=401763\n",
      "#(unique KP)=48125\n"
     ]
    }
   ],
   "source": [
    "dataset_name = 'kp20k'\n",
    "do_preprocess = True\n",
    "\n",
    "stemmer = PorterStemmer()\n",
    "json_base_dir = '/zfs1/pbrusilovsky/rum20/kp/OpenNMT-kpg/data/keyphrase/json' # path on CRC\n",
    "input_json_path = os.path.join(json_base_dir, dataset_name, '%s_train.json' % dataset_name)\n",
    "\n",
    "unique_kp_counter = defaultdict(lambda: 0)\n",
    "num_data = 0\n",
    "num_kp = 0\n",
    "\n",
    "with open(input_json_path, 'r') as input_json:\n",
    "    for json_line in input_json:\n",
    "        json_dict = json.loads(json_line)\n",
    "\n",
    "        if dataset_name == 'stackexchange':\n",
    "            json_dict['abstract'] = json_dict['question']\n",
    "            json_dict['keywords'] = json_dict['tags']            \n",
    "            del json_dict['question']\n",
    "            del json_dict['tags']\n",
    "\n",
    "        title = json_dict['title']\n",
    "        abstract = json_dict['abstract']\n",
    "        fulltext = json_dict['fulltext'] if 'fulltext' in json_dict else ''\n",
    "        keywords = json_dict['keywords']\n",
    "\n",
    "        if isinstance(keywords, str):\n",
    "            keywords = keywords.split(';')\n",
    "            json_dict['keywords'] = keywords\n",
    "        \n",
    "        if len(keywords) > 10:\n",
    "            num_data += 1\n",
    "            for keyword in keywords:\n",
    "                num_kp += 1\n",
    "                if do_preprocess:\n",
    "                    tokens = [stemmer.stem(t) for t in keyword.lower().split()]\n",
    "                    keyword = '_'.join(tokens)\n",
    "                    \n",
    "                unique_kp_counter[keyword] = unique_kp_counter[keyword] + 1\n",
    "\n",
    "print('#(DP)=%d' % num_data)\n",
    "print('#(KP)=%d' % num_kp)\n",
    "print('#(unique KP)=%d' % len(unique_kp_counter))"
   ]
  },
  {
   "cell_type": "markdown",
   "metadata": {},
   "source": [
    "#####  count all documents #(kp)>0"
   ]
  },
  {
   "cell_type": "code",
   "execution_count": 13,
   "metadata": {
    "ExecuteTime": {
     "end_time": "2020-08-12T16:37:34.579653Z",
     "start_time": "2020-08-12T16:37:26.863175Z"
    }
   },
   "outputs": [
    {
     "name": "stdout",
     "output_type": "stream",
     "text": [
      "#(DP)=514154\n",
      "#(KP)=2710067\n",
      "#(unique KP)=710218\n"
     ]
    }
   ],
   "source": [
    "dataset_name = 'kp20k'\n",
    "do_preprocess = False\n",
    "\n",
    "stemmer = PorterStemmer()\n",
    "json_base_dir = '/zfs1/pbrusilovsky/rum20/kp/OpenNMT-kpg/data/keyphrase/json' # path on CRC\n",
    "input_json_path = os.path.join(json_base_dir, dataset_name, '%s_train.json' % dataset_name)\n",
    "\n",
    "unique_kp_counter = defaultdict(lambda: 0)\n",
    "kp_len_counter = defaultdict(lambda: 0)\n",
    "num_data = 0\n",
    "num_kp = 0\n",
    "\n",
    "with open(input_json_path, 'r') as input_json:\n",
    "    for json_line in input_json:\n",
    "        json_dict = json.loads(json_line)\n",
    "\n",
    "        if dataset_name == 'stackexchange':\n",
    "            json_dict['abstract'] = json_dict['question']\n",
    "            json_dict['keywords'] = json_dict['tags']            \n",
    "            del json_dict['question']\n",
    "            del json_dict['tags']\n",
    "\n",
    "        title = json_dict['title']\n",
    "        abstract = json_dict['abstract']\n",
    "        fulltext = json_dict['fulltext'] if 'fulltext' in json_dict else ''\n",
    "        keywords = json_dict['keywords']\n",
    "\n",
    "        if isinstance(keywords, str):\n",
    "            keywords = keywords.split(';')\n",
    "            json_dict['keywords'] = keywords\n",
    "        \n",
    "        if len(keywords) > 0:\n",
    "            num_data += 1\n",
    "            for keyword in keywords:\n",
    "                num_kp += 1\n",
    "                if do_preprocess:\n",
    "                    tokens = [stemmer.stem(t) for t in keyword.lower().split()]\n",
    "                    keyword = ' '.join(tokens)\n",
    "                    \n",
    "                tokens = [t for t in keyword.split()]\n",
    "                kp_len_counter[len(tokens)] = kp_len_counter[len(tokens)] + 1\n",
    "                unique_kp_counter[keyword] = unique_kp_counter[keyword] + 1\n",
    "\n",
    "print('#(DP)=%d' % num_data)\n",
    "print('#(KP)=%d' % num_kp)\n",
    "print('#(unique KP)=%d' % len(unique_kp_counter))"
   ]
  },
  {
   "cell_type": "code",
   "execution_count": null,
   "metadata": {
    "ExecuteTime": {
     "start_time": "2020-09-22T00:02:32.633Z"
    }
   },
   "outputs": [],
   "source": [
    "fig, ax = plt.subplots(figsize=(8, 6))\n",
    "\n",
    "tmp_kp_freqs = [v for k,v in unique_kp_counter.items() if v > 1000]\n",
    "sns.distplot(tmp_kp_freqs, color=\"teal\", label=\"KP20k\", bins=15, kde=False, rug=False, hist_kws=dict(alpha=0.7, edgecolor=\"k\", linewidth=1))\n"
   ]
  },
  {
   "cell_type": "markdown",
   "metadata": {},
   "source": [
    "####  KP length distribution"
   ]
  },
  {
   "cell_type": "code",
   "execution_count": 16,
   "metadata": {
    "ExecuteTime": {
     "end_time": "2020-08-12T16:40:25.845738Z",
     "start_time": "2020-08-12T16:40:25.254505Z"
    }
   },
   "outputs": [
    {
     "name": "stdout",
     "output_type": "stream",
     "text": [
      "#kp_len=0, freq=63, accum/total=0.00%\n",
      "#kp_len=1, freq=907946, accum/total=33.51%\n",
      "#kp_len=2, freq=1267094, accum/total=80.26%\n",
      "#kp_len=3, freq=418621, accum/total=95.71%\n",
      "#kp_len=4, freq=87761, accum/total=98.95%\n",
      "#kp_len=5, freq=19873, accum/total=99.68%\n",
      "#kp_len=6, freq=5200, accum/total=99.87%\n",
      "#kp_len=7, freq=1625, accum/total=99.93%\n",
      "#kp_len=8, freq=670, accum/total=99.96%\n",
      "#kp_len=9, freq=268, accum/total=99.97%\n",
      "#kp_len=10, freq=147, accum/total=99.97%\n",
      "#kp_len=11, freq=219, accum/total=99.98%\n",
      "#kp_len=12, freq=234, accum/total=99.99%\n",
      "#kp_len=13, freq=98, accum/total=99.99%\n",
      "#kp_len=14, freq=38, accum/total=99.99%\n",
      "#kp_len=15, freq=41, accum/total=99.99%\n",
      "#kp_len=16, freq=30, accum/total=99.99%\n",
      "#kp_len=17, freq=19, accum/total=100.00%\n",
      "#kp_len=18, freq=9, accum/total=100.00%\n",
      "#kp_len=19, freq=21, accum/total=100.00%\n",
      "#kp_len=20, freq=14, accum/total=100.00%\n",
      "#kp_len=21, freq=12, accum/total=100.00%\n",
      "#kp_len=22, freq=5, accum/total=100.00%\n",
      "#kp_len=23, freq=17, accum/total=100.00%\n",
      "#kp_len=24, freq=11, accum/total=100.00%\n",
      "#kp_len=25, freq=6, accum/total=100.00%\n",
      "#kp_len=26, freq=4, accum/total=100.00%\n",
      "#kp_len=27, freq=1, accum/total=100.00%\n",
      "#kp_len=28, freq=1, accum/total=100.00%\n",
      "#kp_len=29, freq=3, accum/total=100.00%\n",
      "#kp_len=31, freq=2, accum/total=100.00%\n",
      "#kp_len=32, freq=3, accum/total=100.00%\n",
      "#kp_len=33, freq=3, accum/total=100.00%\n",
      "#kp_len=34, freq=2, accum/total=100.00%\n",
      "#kp_len=35, freq=1, accum/total=100.00%\n",
      "#kp_len=36, freq=2, accum/total=100.00%\n",
      "#kp_len=40, freq=1, accum/total=100.00%\n",
      "#kp_len=50, freq=1, accum/total=100.00%\n",
      "#kp_len=91, freq=1, accum/total=100.00%\n",
      "39\n"
     ]
    },
    {
     "data": {
      "image/png": "[encoded data removed]",
      "text/plain": [
       "<Figure size 1152x864 with 1 Axes>"
      ]
     },
     "metadata": {},
     "output_type": "display_data"
    }
   ],
   "source": [
    "fig, ax = plt.subplots(figsize=(16, 12))\n",
    "sns.set(style=\"whitegrid\")\n",
    "kp_lens = sorted([(kp_len, freq) for kp_len, freq in kp_len_counter.items()], key=lambda k:k[0])\n",
    "\n",
    "accum_kp_count = 0\n",
    "total_kp_count = sum(freq for _, freq in kp_lens)\n",
    "for kp_len, freq in kp_lens:\n",
    "    accum_kp_count += freq\n",
    "    print('#kp_len=%d, freq=%d, accum/total=%.2f%%' % (kp_len, freq, accum_kp_count / total_kp_count * 100))\n",
    "    \n",
    "print(len(kp_lens))\n",
    "kp_lens_df = pd.DataFrame(kp_lens, columns=['#kp_len', 'freq'])\n",
    "ax = sns.barplot(x=\"#kp_len\", y=\"freq\", data=kp_lens_df)\n"
   ]
  },
  {
   "cell_type": "markdown",
   "metadata": {},
   "source": [
    "# Stats of MagKP\n",
    "\n",
    "##### w/o preprocessing\n",
    "\n",
    "All documents\n",
    "- #(DP)=2,699,094\n",
    "- #(KP)=41,605,964\n",
    "- #(unique KP)=6,880,853\n",
    "\n",
    "For documents whose \\#(kp)>10\n",
    "- #(DP)=1,520,307 (56.33%)\n",
    "- #(KP)=35,525,765 (85.39%)\n",
    "- #(unique KP)=5,784,959 (84.07%)\n",
    "\n",
    "##### w/ preprocessing (lowercase and stemming)\n",
    "\n",
    "All documents\n",
    "- #(DP)=2,699,094\n",
    "- #(KP)=41,605,964\n",
    "- #(unique KP)=6,537,481 (diff between w/&w/o preprocessing: 343,372, 5.25% difference)\n",
    "\n",
    "For documents whose \\#(kp)>10\n",
    "- #(DP)=1,520,307\n",
    "- #(KP)=35,525,765 （85.39%）\n",
    "- #(unique KP)=5,493,997 (84.04%, diff between w/&w/o preprocessing: 290,962)"
   ]
  },
  {
   "cell_type": "markdown",
   "metadata": {},
   "source": [
    "### load data"
   ]
  },
  {
   "cell_type": "code",
   "execution_count": 2,
   "metadata": {},
   "outputs": [
    {
     "name": "stdout",
     "output_type": "stream",
     "text": [
      "kp20k\n",
      "magkp\n"
     ]
    }
   ],
   "source": [
    "dataset_names = ['kp20k', 'magkp']\n",
    "\n",
    "# json_base_dir = '/Users/memray/project/kp/OpenNMT-kpg/data/keyphrase/json/' # path to the json folder\n",
    "json_base_dir = '/zfs1/hdaqing/rum20/kp/data/kp/json' # path on CRC\n",
    "\n",
    "dataset_examples = {}\n",
    "    \n",
    "for dataset_name in dataset_names:\n",
    "    dataset_examples[dataset_name] = []\n",
    "    print(dataset_name)\n",
    "\n",
    "    input_json_path = os.path.join(json_base_dir, dataset_name, 'train.json')\n",
    "    \n",
    "    with open(input_json_path, 'r') as input_json:\n",
    "        for json_line in input_json:\n",
    "            ex_dict = json.loads(json_line)\n",
    "\n",
    "            if dataset_name == 'stackexchange':\n",
    "                ex_dict['abstract'] = ex_dict['question']\n",
    "                ex_dict['keywords'] = ex_dict['tags']            \n",
    "                del ex_dict['question']\n",
    "                del ex_dict['tags']\n",
    "\n",
    "            keywords = ex_dict['keywords']\n",
    "            ex_dict['fulltext'] = ''\n",
    "\n",
    "            if isinstance(keywords, str):\n",
    "                keywords = keywords.split(';')\n",
    "                ex_dict['keywords'] = keywords\n",
    "            keywords = [k.strip() for k in keywords]\n",
    "            ex_dict['keywords'] = keywords\n",
    "            \n",
    "            dataset_examples[dataset_name].append(ex_dict)\n"
   ]
  },
  {
   "cell_type": "markdown",
   "metadata": {},
   "source": [
    "### Check ratio of present/absent KPs"
   ]
  },
  {
   "cell_type": "code",
   "execution_count": 31,
   "metadata": {},
   "outputs": [
    {
     "name": "stdout",
     "output_type": "stream",
     "text": [
      "kp_range = [0, 10]\n",
      "\t num_doc = 1075018\n",
      "\t num_total_kp = 5042509\n",
      "\t num_unique_kp = 1177502\n",
      "\t ratio_unique_kp = 23.35%\n",
      "\t num_present_kp = 1624703\n",
      "\t ratio_present_kp = 32.22%\n",
      "\t num_absent_kp = 3417806\n",
      "\t ratio_absent_kp = 67.78%\n",
      "kp_range = [10, 20]\n",
      "\t num_doc = 808194\n",
      "\t num_total_kp = 11297261\n",
      "\t num_unique_kp = 2128224\n",
      "\t ratio_unique_kp = 18.84%\n",
      "\t num_present_kp = 2225699\n",
      "\t ratio_present_kp = 19.70%\n",
      "\t num_absent_kp = 9071562\n",
      "\t ratio_absent_kp = 80.30%\n",
      "kp_range = [20, 30]\n",
      "\t num_doc = 476153\n",
      "\t num_total_kp = 11417185\n",
      "\t num_unique_kp = 2294995\n",
      "\t ratio_unique_kp = 20.10%\n",
      "\t num_present_kp = 2459860\n",
      "\t ratio_present_kp = 21.55%\n",
      "\t num_absent_kp = 8957325\n",
      "\t ratio_absent_kp = 78.45%\n",
      "kp_range = [30, 40]\n",
      "\t num_doc = 215045\n",
      "\t num_total_kp = 7232686\n",
      "\t num_unique_kp = 1580889\n",
      "\t ratio_unique_kp = 21.86%\n",
      "\t num_present_kp = 1669954\n",
      "\t ratio_present_kp = 23.09%\n",
      "\t num_absent_kp = 5562732\n",
      "\t ratio_absent_kp = 76.91%\n",
      "kp_range = [40, 50]\n",
      "\t num_doc = 69542\n",
      "\t num_total_kp = 3033018\n",
      "\t num_unique_kp = 572174\n",
      "\t ratio_unique_kp = 18.86%\n",
      "\t num_present_kp = 573525\n",
      "\t ratio_present_kp = 18.91%\n",
      "\t num_absent_kp = 2459493\n",
      "\t ratio_absent_kp = 81.09%\n",
      "kp_range = [50, 60]\n",
      "\t num_doc = 26385\n",
      "\t num_total_kp = 1419833\n",
      "\t num_unique_kp = 235052\n",
      "\t ratio_unique_kp = 16.55%\n",
      "\t num_present_kp = 212819\n",
      "\t ratio_present_kp = 14.99%\n",
      "\t num_absent_kp = 1207014\n",
      "\t ratio_absent_kp = 85.01%\n",
      "kp_range = [60, 70]\n",
      "\t num_doc = 13011\n",
      "\t num_total_kp = 832478\n",
      "\t num_unique_kp = 146629\n",
      "\t ratio_unique_kp = 17.61%\n",
      "\t num_present_kp = 113556\n",
      "\t ratio_present_kp = 13.64%\n",
      "\t num_absent_kp = 718922\n",
      "\t ratio_absent_kp = 86.36%\n",
      "kp_range = [70, 80]\n",
      "\t num_doc = 7256\n",
      "\t num_total_kp = 537191\n",
      "\t num_unique_kp = 105971\n",
      "\t ratio_unique_kp = 19.73%\n",
      "\t num_present_kp = 69464\n",
      "\t ratio_present_kp = 12.93%\n",
      "\t num_absent_kp = 467727\n",
      "\t ratio_absent_kp = 87.07%\n",
      "kp_range = [80, 90]\n",
      "\t num_doc = 4106\n",
      "\t num_total_kp = 344253\n",
      "\t num_unique_kp = 77924\n",
      "\t ratio_unique_kp = 22.64%\n",
      "\t num_present_kp = 43896\n",
      "\t ratio_present_kp = 12.75%\n",
      "\t num_absent_kp = 300357\n",
      "\t ratio_absent_kp = 87.25%\n",
      "kp_range = [90, 100]\n",
      "\t num_doc = 2358\n",
      "\t num_total_kp = 221677\n",
      "\t num_unique_kp = 58556\n",
      "\t ratio_unique_kp = 26.42%\n",
      "\t num_present_kp = 29940\n",
      "\t ratio_present_kp = 13.51%\n",
      "\t num_absent_kp = 191737\n",
      "\t ratio_absent_kp = 86.49%\n",
      "kp_range = [100, 110]\n",
      "\t num_doc = 1250\n",
      "\t num_total_kp = 129846\n",
      "\t num_unique_kp = 39733\n",
      "\t ratio_unique_kp = 30.60%\n",
      "\t num_present_kp = 17488\n",
      "\t ratio_present_kp = 13.47%\n",
      "\t num_absent_kp = 112358\n",
      "\t ratio_absent_kp = 86.53%\n",
      "kp_range = [110, 120]\n",
      "\t num_doc = 492\n",
      "\t num_total_kp = 55893\n",
      "\t num_unique_kp = 22093\n",
      "\t ratio_unique_kp = 39.53%\n",
      "\t num_present_kp = 7473\n",
      "\t ratio_present_kp = 13.37%\n",
      "\t num_absent_kp = 48420\n",
      "\t ratio_absent_kp = 86.63%\n",
      "kp_range = [120, 130]\n",
      "\t num_doc = 146\n",
      "\t num_total_kp = 18013\n",
      "\t num_unique_kp = 10305\n",
      "\t ratio_unique_kp = 57.21%\n",
      "\t num_present_kp = 2661\n",
      "\t ratio_present_kp = 14.77%\n",
      "\t num_absent_kp = 15352\n",
      "\t ratio_absent_kp = 85.23%\n",
      "kp_range = [130, 140]\n",
      "\t num_doc = 48\n",
      "\t num_total_kp = 6441\n",
      "\t num_unique_kp = 4896\n",
      "\t ratio_unique_kp = 76.01%\n",
      "\t num_present_kp = 1044\n",
      "\t ratio_present_kp = 16.21%\n",
      "\t num_absent_kp = 5397\n",
      "\t ratio_absent_kp = 83.79%\n",
      "kp_range = [140, 150]\n",
      "\t num_doc = 15\n",
      "\t num_total_kp = 2164\n",
      "\t num_unique_kp = 1808\n",
      "\t ratio_unique_kp = 83.55%\n",
      "\t num_present_kp = 230\n",
      "\t ratio_present_kp = 10.63%\n",
      "\t num_absent_kp = 1934\n",
      "\t ratio_absent_kp = 89.37%\n",
      "kp_range = [150, 160]\n",
      "\t num_doc = 8\n",
      "\t num_total_kp = 1221\n",
      "\t num_unique_kp = 1135\n",
      "\t ratio_unique_kp = 92.96%\n",
      "\t num_present_kp = 116\n",
      "\t ratio_present_kp = 9.50%\n",
      "\t num_absent_kp = 1105\n",
      "\t ratio_absent_kp = 90.50%\n",
      "kp_range = [160, 170]\n",
      "\t num_doc = 3\n",
      "\t num_total_kp = 492\n",
      "\t num_unique_kp = 491\n",
      "\t ratio_unique_kp = 99.80%\n",
      "\t num_present_kp = 31\n",
      "\t ratio_present_kp = 6.30%\n",
      "\t num_absent_kp = 461\n",
      "\t ratio_absent_kp = 93.70%\n",
      "kp_range = [170, 180]\n",
      "\t num_doc = 4\n",
      "\t num_total_kp = 701\n",
      "\t num_unique_kp = 665\n",
      "\t ratio_unique_kp = 94.86%\n",
      "\t num_present_kp = 62\n",
      "\t ratio_present_kp = 8.84%\n",
      "\t num_absent_kp = 639\n",
      "\t ratio_absent_kp = 91.16%\n",
      "kp_range = [180, 190]\n",
      "\t num_doc = 3\n",
      "\t num_total_kp = 554\n",
      "\t num_unique_kp = 539\n",
      "\t ratio_unique_kp = 97.29%\n",
      "\t num_present_kp = 36\n",
      "\t ratio_present_kp = 6.50%\n",
      "\t num_absent_kp = 518\n",
      "\t ratio_absent_kp = 93.50%\n",
      "kp_range = [190, 200]\n",
      "\t num_doc = 8\n",
      "\t num_total_kp = 1557\n",
      "\t num_unique_kp = 1109\n",
      "\t ratio_unique_kp = 71.23%\n",
      "\t num_present_kp = 44\n",
      "\t ratio_present_kp = 2.83%\n",
      "\t num_absent_kp = 1513\n",
      "\t ratio_absent_kp = 97.17%\n"
     ]
    }
   ],
   "source": [
    "def if_present_phrase(src_str_tokens, phrase_str_tokens):\n",
    "    \"\"\"\n",
    "    :param src_str_tokens: a list of strings (words) of source text\n",
    "    :param phrase_str_tokens: a list of strings (words) of a phrase\n",
    "    :return:\n",
    "    \"\"\"\n",
    "    match_flag = False\n",
    "    match_pos_idx = -1\n",
    "    for src_start_idx in range(len(src_str_tokens) - len(phrase_str_tokens) + 1):\n",
    "        match_flag = True\n",
    "        # iterate each word in target, if one word does not match, set match=False and break\n",
    "        for seq_idx, seq_w in enumerate(phrase_str_tokens):\n",
    "            src_w = src_str_tokens[src_start_idx + seq_idx]\n",
    "            if src_w != seq_w:\n",
    "                match_flag = False\n",
    "                break\n",
    "        if match_flag:\n",
    "            match_pos_idx = src_start_idx\n",
    "            break\n",
    "\n",
    "    return match_flag\n",
    "\n",
    "stat_dicts = []\n",
    "\n",
    "for start in range(0, 200, 10):\n",
    "    unique_kp_set = set()\n",
    "    num_total_kp, num_unique_kp, num_present_kp, num_absent_kp = 0, 0, 0, 0\n",
    "    exs = [ex for ex in dataset_examples[\"magkp\"] if len(ex['keywords']) >= start and len(ex['keywords']) < start + 10]\n",
    "    for ex_id, ex in enumerate(exs):\n",
    "        for p in ex['keywords']:\n",
    "            unique_kp_set.add(p)\n",
    "            num_total_kp += 1\n",
    "            src_tokens = (ex['title'] + ' ' + ex['abstract']).lower().split()\n",
    "            tgt_tokens = p.lower().split()\n",
    "            if if_present_phrase(src_tokens, tgt_tokens):\n",
    "                num_present_kp += 1\n",
    "            else:\n",
    "                num_absent_kp += 1\n",
    "#         if ex_id > 1000:\n",
    "#             break\n",
    "          \n",
    "    stat = {\n",
    "        'kp_range': '[%d, %d]' % (start, start + 10),\n",
    "        'num_doc': len(exs),\n",
    "        'num_total_kp': num_total_kp,\n",
    "        'num_unique_kp': len(unique_kp_set),\n",
    "        'ratio_unique_kp': len(unique_kp_set) / num_total_kp,\n",
    "        'num_present_kp': num_present_kp,\n",
    "        'ratio_present_kp': num_present_kp / num_total_kp,\n",
    "        'num_absent_kp': num_absent_kp,\n",
    "        'ratio_absent_kp': num_absent_kp / num_total_kp,\n",
    "    }\n",
    "\n",
    "    stat_dicts.append(stat)\n",
    "    for k, v in stat.items():\n",
    "        if k == 'kp_range':\n",
    "            print(k, '=', v)\n",
    "        elif k.startswith('ratio'):\n",
    "            print('\\t', k, '=', '%.2f%%' % (v * 100.0))\n",
    "        else:\n",
    "            print('\\t', k, '=', v)\n",
    "        "
   ]
  },
  {
   "cell_type": "code",
   "execution_count": 32,
   "metadata": {},
   "outputs": [
    {
     "data": {
      "text/plain": [
       "[None,\n",
       " None,\n",
       " None,\n",
       " None,\n",
       " None,\n",
       " None,\n",
       " None,\n",
       " None,\n",
       " None,\n",
       " None,\n",
       " None,\n",
       " None,\n",
       " None,\n",
       " None,\n",
       " None,\n",
       " None,\n",
       " None,\n",
       " None,\n",
       " None,\n",
       " None,\n",
       " None,\n",
       " None,\n",
       " None,\n",
       " None,\n",
       " None,\n",
       " None,\n",
       " None,\n",
       " None,\n",
       " None,\n",
       " None,\n",
       " None,\n",
       " None,\n",
       " None,\n",
       " None,\n",
       " None,\n",
       " None,\n",
       " None,\n",
       " None,\n",
       " None,\n",
       " None]"
      ]
     },
     "execution_count": 32,
     "metadata": {},
     "output_type": "execute_result"
    },
    {
     "data": {
      "image/png": "[encoded data removed]",
      "text/plain": [
       "<Figure size 864x648 with 4 Axes>"
      ]
     },
     "metadata": {},
     "output_type": "display_data"
    }
   ],
   "source": [
    "kpstat_df = pd.DataFrame(stat_dicts, columns=list(stat_dicts[0].keys()))\n",
    "\n",
    "import seaborn as sns\n",
    "import matplotlib.pyplot as plt\n",
    "fig, axes=plt.subplots(2, 2, figsize=(12, 9))\n",
    "\n",
    "sns.set_theme(style=\"whitegrid\")\n",
    "g = sns.barplot(x=\"kp_range\", y=\"num_doc\", data=kpstat_df, ax=axes[0, 0])\n",
    "g.set(xticklabels=[])\n",
    "\n",
    "g = sns.barplot(x=\"kp_range\", y=\"ratio_unique_kp\", data=kpstat_df, ax=axes[0, 1])\n",
    "g.set(xticklabels=[])\n",
    "\n",
    "g = sns.barplot(x=\"kp_range\", y=\"ratio_present_kp\", data=kpstat_df, ax=axes[1, 0])\n",
    "plt.setp(g.get_xticklabels(), rotation=90)\n",
    "\n",
    "g = sns.barplot(x=\"kp_range\", y=\"ratio_absent_kp\", data=kpstat_df, ax=axes[1, 1])\n",
    "plt.setp(g.get_xticklabels(), rotation=90)\n"
   ]
  },
  {
   "cell_type": "code",
   "execution_count": 34,
   "metadata": {},
   "outputs": [
    {
     "name": "stdout",
     "output_type": "stream",
     "text": [
      "kp_range = [0, 5]\n",
      "\t num_doc = 242700\n",
      "\t num_total_kp = 845631\n",
      "\t num_unique_kp = 318082\n",
      "\t ratio_unique_kp = 37.61%\n",
      "\t num_present_kp = 404802\n",
      "\t ratio_present_kp = 47.87%\n",
      "\t num_absent_kp = 440829\n",
      "\t ratio_absent_kp = 52.13%\n",
      "kp_range = [5, 10]\n",
      "\t num_doc = 248247\n",
      "\t num_total_kp = 1423963\n",
      "\t num_unique_kp = 467033\n",
      "\t ratio_unique_kp = 32.80%\n",
      "\t num_present_kp = 618408\n",
      "\t ratio_present_kp = 43.43%\n",
      "\t num_absent_kp = 805555\n",
      "\t ratio_absent_kp = 56.57%\n",
      "kp_range = [10, 15]\n",
      "\t num_doc = 9475\n",
      "\t num_total_kp = 106882\n",
      "\t num_unique_kp = 48461\n",
      "\t ratio_unique_kp = 45.34%\n",
      "\t num_present_kp = 39789\n",
      "\t ratio_present_kp = 37.23%\n",
      "\t num_absent_kp = 67093\n",
      "\t ratio_absent_kp = 62.77%\n",
      "kp_range = [15, 20]\n",
      "\t num_doc = 4179\n",
      "\t num_total_kp = 71033\n",
      "\t num_unique_kp = 12502\n",
      "\t ratio_unique_kp = 17.60%\n",
      "\t num_present_kp = 33997\n",
      "\t ratio_present_kp = 47.86%\n",
      "\t num_absent_kp = 37036\n",
      "\t ratio_absent_kp = 52.14%\n",
      "kp_range = [20, 25]\n",
      "\t num_doc = 3813\n",
      "\t num_total_kp = 83462\n",
      "\t num_unique_kp = 8837\n",
      "\t ratio_unique_kp = 10.59%\n",
      "\t num_present_kp = 41734\n",
      "\t ratio_present_kp = 50.00%\n",
      "\t num_absent_kp = 41728\n",
      "\t ratio_absent_kp = 50.00%\n",
      "kp_range = [25, 30]\n",
      "\t num_doc = 2799\n",
      "\t num_total_kp = 75139\n",
      "\t num_unique_kp = 7639\n",
      "\t ratio_unique_kp = 10.17%\n",
      "\t num_present_kp = 37382\n",
      "\t ratio_present_kp = 49.75%\n",
      "\t num_absent_kp = 37757\n",
      "\t ratio_absent_kp = 50.25%\n",
      "kp_range = [30, 35]\n",
      "\t num_doc = 1685\n",
      "\t num_total_kp = 53393\n",
      "\t num_unique_kp = 5449\n",
      "\t ratio_unique_kp = 10.21%\n",
      "\t num_present_kp = 26650\n",
      "\t ratio_present_kp = 49.91%\n",
      "\t num_absent_kp = 26743\n",
      "\t ratio_absent_kp = 50.09%\n",
      "kp_range = [35, 40]\n",
      "\t num_doc = 764\n",
      "\t num_total_kp = 28040\n",
      "\t num_unique_kp = 3992\n",
      "\t ratio_unique_kp = 14.24%\n",
      "\t num_present_kp = 13900\n",
      "\t ratio_present_kp = 49.57%\n",
      "\t num_absent_kp = 14140\n",
      "\t ratio_absent_kp = 50.43%\n",
      "kp_range = [40, 45]\n",
      "\t num_doc = 313\n",
      "\t num_total_kp = 13028\n",
      "\t num_unique_kp = 2397\n",
      "\t ratio_unique_kp = 18.40%\n",
      "\t num_present_kp = 6473\n",
      "\t ratio_present_kp = 49.69%\n",
      "\t num_absent_kp = 6555\n",
      "\t ratio_absent_kp = 50.31%\n",
      "kp_range = [45, 50]\n",
      "\t num_doc = 94\n",
      "\t num_total_kp = 4378\n",
      "\t num_unique_kp = 1258\n",
      "\t ratio_unique_kp = 28.73%\n",
      "\t num_present_kp = 2168\n",
      "\t ratio_present_kp = 49.52%\n",
      "\t num_absent_kp = 2210\n",
      "\t ratio_absent_kp = 50.48%\n"
     ]
    },
    {
     "data": {
      "text/plain": [
       "[None,\n",
       " None,\n",
       " None,\n",
       " None,\n",
       " None,\n",
       " None,\n",
       " None,\n",
       " None,\n",
       " None,\n",
       " None,\n",
       " None,\n",
       " None,\n",
       " None,\n",
       " None,\n",
       " None,\n",
       " None,\n",
       " None,\n",
       " None,\n",
       " None,\n",
       " None]"
      ]
     },
     "execution_count": 34,
     "metadata": {},
     "output_type": "execute_result"
    },
    {
     "data": {
      "image/png": "[encoded data removed]",
      "text/plain": [
       "<Figure size 864x648 with 4 Axes>"
      ]
     },
     "metadata": {},
     "output_type": "display_data"
    }
   ],
   "source": [
    "stat_dicts = []\n",
    "step_size = 5\n",
    "\n",
    "for start in range(0, 50, step_size):\n",
    "    unique_kp_set = set()\n",
    "    num_total_kp, num_unique_kp, num_present_kp, num_absent_kp = 0, 0, 0, 0\n",
    "    exs = [ex for ex in dataset_examples[\"kp20k\"] if len(ex['keywords']) >= start and len(ex['keywords']) < start + step_size]\n",
    "    for ex_id, ex in enumerate(exs):\n",
    "        for p in ex['keywords']:\n",
    "            unique_kp_set.add(p)\n",
    "            num_total_kp += 1\n",
    "            src_tokens = (ex['title'] + ' ' + ex['abstract']).lower().split()\n",
    "            tgt_tokens = p.lower().split()\n",
    "            if if_present_phrase(src_tokens, tgt_tokens):\n",
    "                num_present_kp += 1\n",
    "            else:\n",
    "                num_absent_kp += 1\n",
    "#         if ex_id > 1000:\n",
    "#             break\n",
    "          \n",
    "    stat = {\n",
    "        'kp_range': '[%d, %d]' % (start, start + step_size),\n",
    "        'num_doc': len(exs),\n",
    "        'num_total_kp': num_total_kp,\n",
    "        'num_unique_kp': len(unique_kp_set),\n",
    "        'ratio_unique_kp': len(unique_kp_set) / num_total_kp,\n",
    "        'num_present_kp': num_present_kp,\n",
    "        'ratio_present_kp': num_present_kp / num_total_kp,\n",
    "        'num_absent_kp': num_absent_kp,\n",
    "        'ratio_absent_kp': num_absent_kp / num_total_kp,\n",
    "    }\n",
    "\n",
    "    stat_dicts.append(stat)\n",
    "    for k, v in stat.items():\n",
    "        if k == 'kp_range':\n",
    "            print(k, '=', v)\n",
    "        elif k.startswith('ratio'):\n",
    "            print('\\t', k, '=', '%.2f%%' % (v * 100.0))\n",
    "        else:\n",
    "            print('\\t', k, '=', v)\n",
    "        \n",
    "kpstat_df = pd.DataFrame(stat_dicts, columns=list(stat_dicts[0].keys()))\n",
    "\n",
    "import seaborn as sns\n",
    "import matplotlib.pyplot as plt\n",
    "fig, axes=plt.subplots(2, 2, figsize=(12, 9))\n",
    "\n",
    "sns.set_theme(style=\"whitegrid\")\n",
    "g = sns.barplot(x=\"kp_range\", y=\"num_doc\", data=kpstat_df, ax=axes[0, 0])\n",
    "g.set(xticklabels=[])\n",
    "\n",
    "g = sns.barplot(x=\"kp_range\", y=\"ratio_unique_kp\", data=kpstat_df, ax=axes[0, 1])\n",
    "g.set(xticklabels=[])\n",
    "\n",
    "g = sns.barplot(x=\"kp_range\", y=\"ratio_present_kp\", data=kpstat_df, ax=axes[1, 0])\n",
    "plt.setp(g.get_xticklabels(), rotation=90)\n",
    "\n",
    "g = sns.barplot(x=\"kp_range\", y=\"ratio_absent_kp\", data=kpstat_df, ax=axes[1, 1])\n",
    "plt.setp(g.get_xticklabels(), rotation=90)\n"
   ]
  },
  {
   "cell_type": "markdown",
   "metadata": {},
   "source": [
    "### Manually examine examples containing too many phrases (e.g. >20, **num_noisy_examples= 745916**)\n",
    " - All phrases are lowercased.\n",
    " - All hyphens/parentheses are removed. But words in parentheses are preserved.\n",
    " - Found phrases in French (imagerie medicale, ondelette), Spanish (analisis datos) etc.\n",
    " - It appears that MagKP contains a lot of data from IEEE which contain a lot of errors. (**num_contain_long_kps=514582**)\n",
    "     - 4 groups: IEEE Keywords, INSPEC: Controlled Indexing, INSPEC: Non-Controlled Indexing, and author keywords\n",
    "     - it often contains some wrong and very long phrases, concatenation of multiple phrases. This can be easily filtered by phrase length.\n",
    "         e.g. https://ieeexplore.ieee.org/abstract/document/4101114/keywords#keywords, \"normalized random number area efficient architecture large scale implementation biological neural networks plausible neural networks spiking neural networks reconfigurable hardware multiplier less hardware architecture single fpga synaptic multiplication and gate\"\n",
    "     - Oftentimes it doesn't completely match the record on IEEE website. Say \"membrane potential\" and \"integrate and fire\" appear in the abstract, but not in any of keyword fields.\n",
    " - Also some papers do not have keywords originally. Very likely they are automatically annotated? (**num_no_long_kps=231334**)\n",
    "     - say 'id': 'dbe8cad4-3c1f-4414-95a0-338c7cb3184d', https://www.sciencedirect.com/science/article/pii/S1077201404000452\n",
    "     - 'id': 'dde7b89e-5251-4991-9e3a-7c7191a20240', https://link.springer.com/chapter/10.1007/11925941_1\n",
    "         \"These keywords were added by machine and not by the authors. This process is experimental and the keywords may be updated as the learning algorithm improves.\"\n",
    " - Some have original keywords, but still many are new.\n",
    "     - 'id': 'dc7b584d-66f5-4ae5-bc21-e38715fd7403', https://www.sciencedirect.com/science/article/pii/0045790694900175"
   ]
  },
  {
   "cell_type": "code",
   "execution_count": 34,
   "metadata": {},
   "outputs": [
    {
     "name": "stdout",
     "output_type": "stream",
     "text": [
      "745916\n"
     ]
    }
   ],
   "source": [
    "exs = [ex for ex in dataset_examples[\"magkp\"] if len(ex['keywords']) > 20]\n",
    "exs = sorted(exs, key=lambda x: len(ex['keywords']))\n",
    "print(len(exs))"
   ]
  },
  {
   "cell_type": "code",
   "execution_count": 37,
   "metadata": {},
   "outputs": [
    {
     "data": {
      "text/plain": [
       "{'id': 'dbe06305-ce86-46da-b693-7ae062acc315',\n",
       " 'title': 'A novel adaptive routing scheme for the QoS-based multimedia services in mobile ad-hoc networks',\n",
       " 'abstract': 'A mobile ad-hoc network is composed of only mobile nodes, which are distributed dynamically, without any wired backbone or centralized entities. Since the existing works on ad-hoc routing protocol are mostly biased toward a military application, we need a new routing scheme for the support of multimedia services in mobile ad-hoc networks. Therefore, we propose a novel scheme that can support a variety of traffic attributes and can be applicable to high-speed and multimedia data services in mobile ad-hoc networks by using adaptive transmission power level. As a result of simulation, the proposed scheme has better performance than conventional method, which is performed with uniform transmission power level, in view of route query delay time',\n",
       " 'keywords': ['land mobile radio quality of service multimedia communication telecommunication network routing adaptive systems telecommunication traffic data communication transport protocols delays',\n",
       "  'routing intelligent networks ad hoc networks multimedia systems local area networks quality of service spine network topology mobile radio mobility management telecommunication traffic',\n",
       "  'data communication',\n",
       "  'transport protocols',\n",
       "  'telecommunication traffic',\n",
       "  'telecommunication network routing',\n",
       "  'land mobile radio',\n",
       "  'adaptive systems',\n",
       "  'multimedia data',\n",
       "  'multimedia communication',\n",
       "  'mobile ad hoc network',\n",
       "  'distribution dynamics',\n",
       "  'adaptive routing',\n",
       "  'mobile node',\n",
       "  'delay time',\n",
       "  'quality of service',\n",
       "  'ad hoc routing',\n",
       "  'route query delay time qos based multimedia services mobile ad hoc networks adaptive routing mobile nodes ad hoc routing protocol military application multimedia services traffic attributes high speed data services multimedia data services adaptive transmission power level simulation performance',\n",
       "  'multimedia services',\n",
       "  'high speed',\n",
       "  'delays'],\n",
       " 'fulltext': ''}"
      ]
     },
     "execution_count": 37,
     "metadata": {},
     "output_type": "execute_result"
    }
   ],
   "source": [
    "exs[50]"
   ]
  },
  {
   "cell_type": "markdown",
   "metadata": {},
   "source": [
    "### Check if all the phrases are lowercase? yes"
   ]
  },
  {
   "cell_type": "code",
   "execution_count": 36,
   "metadata": {},
   "outputs": [
    {
     "name": "stdout",
     "output_type": "stream",
     "text": [
      "num_pure_lower_kps= 41605964\n",
      "num_non_lower_kps= 0\n",
      "num_hyphen_kps= 0\n",
      "num_bracket_kps= 0\n"
     ]
    }
   ],
   "source": [
    "num_pure_lower_kps, num_non_lower_kps = 0, 0\n",
    "num_hyphen_kps, num_bracket_kps = 0, 0\n",
    "for ex in dataset_examples[\"magkp\"]:\n",
    "    for kp in ex['keywords']:\n",
    "        if kp.lower() == kp:\n",
    "            num_pure_lower_kps += 1\n",
    "        else:\n",
    "            num_non_lower_kps += 1\n",
    "        if '-' in kp:\n",
    "            num_hyphen_kps += 1\n",
    "        if '(' in kp or ')' in kp:\n",
    "            num_bracket_kps += 1\n",
    "            \n",
    "print('num_pure_lower_kps=', num_pure_lower_kps)\n",
    "print('num_non_lower_kps=', num_non_lower_kps)\n",
    "\n",
    "print('num_hyphen_kps=', num_hyphen_kps)\n",
    "print('num_bracket_kps=', num_bracket_kps)\n"
   ]
  },
  {
   "cell_type": "markdown",
   "metadata": {},
   "source": [
    "### Check if all noisy MagKP examples are from IEEE? No, likely 68.99%\n",
    "\n",
    "Assume all IEEE data examples contain certain number of very long phrases (>=10 words, due to the mistaken concatenation of multiple phrases)."
   ]
  },
  {
   "cell_type": "code",
   "execution_count": 41,
   "metadata": {},
   "outputs": [
    {
     "name": "stdout",
     "output_type": "stream",
     "text": [
      "num_noisy_examples= 745916\n",
      "num_contain_long_kps= 514582\n",
      "num_no_long_kps= 231334\n"
     ]
    }
   ],
   "source": [
    "exs = [ex for ex in dataset_examples[\"magkp\"] if len(ex['keywords']) > 20]\n",
    "exs = sorted(exs, key=lambda x: len(ex['keywords']))\n",
    "no_long_exs = []\n",
    "\n",
    "print('num_noisy_examples=', len(exs))\n",
    "\n",
    "num_contain_long_kps, num_no_long_kps = 0, 0\n",
    "\n",
    "for ex in exs:\n",
    "    found_long_kp = False\n",
    "    for kp in ex['keywords']:\n",
    "        if len(kp.split()) >= 10:\n",
    "            found_long_kp = True\n",
    "            break\n",
    "    if found_long_kp:\n",
    "        num_contain_long_kps += 1\n",
    "    else:\n",
    "        num_no_long_kps += 1\n",
    "        no_long_exs.append(ex)\n",
    "        \n",
    "print('num_contain_long_kps=', num_contain_long_kps)\n",
    "print('num_no_long_kps=', num_no_long_kps)\n"
   ]
  },
  {
   "cell_type": "code",
   "execution_count": null,
   "metadata": {},
   "outputs": [],
   "source": [
    "no_long_exs[105500]"
   ]
  },
  {
   "cell_type": "markdown",
   "metadata": {},
   "source": [
    "#### Count #kp per document"
   ]
  },
  {
   "cell_type": "code",
   "execution_count": 24,
   "metadata": {
    "ExecuteTime": {
     "end_time": "2020-09-21T21:49:26.929171Z",
     "start_time": "2020-09-21T21:49:07.863773Z"
    }
   },
   "outputs": [
    {
     "name": "stdout",
     "output_type": "stream",
     "text": [
      "DescribeResult(nobs=2699094, minmax=(1, 438), mean=15.414788814320657, variance=168.752782332351, skewness=1.8635894274050995, kurtosis=7.294107031214651)\n",
      "Percentile@0 = 1.000000\n",
      "Percentile@1 = 1.000000\n",
      "Percentile@2 = 1.000000\n",
      "Percentile@3 = 1.000000\n",
      "Percentile@4 = 1.000000\n",
      "Percentile@5 = 1.000000\n",
      "Percentile@6 = 2.000000\n",
      "Percentile@7 = 2.000000\n",
      "Percentile@8 = 2.000000\n",
      "Percentile@9 = 2.000000\n",
      "Percentile@10 = 3.000000\n",
      "Percentile@11 = 3.000000\n",
      "Percentile@12 = 3.000000\n",
      "Percentile@13 = 3.000000\n",
      "Percentile@14 = 3.000000\n",
      "Percentile@15 = 4.000000\n",
      "Percentile@16 = 4.000000\n",
      "Percentile@17 = 4.000000\n",
      "Percentile@18 = 4.000000\n",
      "Percentile@19 = 4.000000\n",
      "Percentile@20 = 5.000000\n",
      "Percentile@21 = 5.000000\n",
      "Percentile@22 = 5.000000\n",
      "Percentile@23 = 5.000000\n",
      "Percentile@24 = 5.000000\n",
      "Percentile@25 = 6.000000\n",
      "Percentile@26 = 6.000000\n",
      "Percentile@27 = 6.000000\n",
      "Percentile@28 = 6.000000\n",
      "Percentile@29 = 7.000000\n",
      "Percentile@30 = 7.000000\n",
      "Percentile@31 = 7.000000\n",
      "Percentile@32 = 7.000000\n",
      "Percentile@33 = 8.000000\n",
      "Percentile@34 = 8.000000\n",
      "Percentile@35 = 8.000000\n",
      "Percentile@36 = 8.000000\n",
      "Percentile@37 = 9.000000\n",
      "Percentile@38 = 9.000000\n",
      "Percentile@39 = 9.000000\n",
      "Percentile@40 = 10.000000\n",
      "Percentile@41 = 10.000000\n",
      "Percentile@42 = 10.000000\n",
      "Percentile@43 = 10.000000\n",
      "Percentile@44 = 11.000000\n",
      "Percentile@45 = 11.000000\n",
      "Percentile@46 = 11.000000\n",
      "Percentile@47 = 11.000000\n",
      "Percentile@48 = 12.000000\n",
      "Percentile@49 = 12.000000\n",
      "Percentile@50 = 12.000000\n",
      "Percentile@51 = 12.000000\n",
      "Percentile@52 = 13.000000\n",
      "Percentile@53 = 13.000000\n",
      "Percentile@54 = 13.000000\n",
      "Percentile@55 = 14.000000\n",
      "Percentile@56 = 14.000000\n",
      "Percentile@57 = 14.000000\n",
      "Percentile@58 = 15.000000\n",
      "Percentile@59 = 15.000000\n",
      "Percentile@60 = 16.000000\n",
      "Percentile@61 = 16.000000\n",
      "Percentile@62 = 16.000000\n",
      "Percentile@63 = 17.000000\n",
      "Percentile@64 = 17.000000\n",
      "Percentile@65 = 18.000000\n",
      "Percentile@66 = 18.000000\n",
      "Percentile@67 = 18.000000\n",
      "Percentile@68 = 19.000000\n",
      "Percentile@69 = 19.000000\n",
      "Percentile@70 = 20.000000\n",
      "Percentile@71 = 20.000000\n",
      "Percentile@72 = 20.000000\n",
      "Percentile@73 = 21.000000\n",
      "Percentile@74 = 21.000000\n",
      "Percentile@75 = 22.000000\n",
      "Percentile@76 = 22.000000\n",
      "Percentile@77 = 23.000000\n",
      "Percentile@78 = 23.000000\n",
      "Percentile@79 = 24.000000\n",
      "Percentile@80 = 25.000000\n",
      "Percentile@81 = 25.000000\n",
      "Percentile@82 = 26.000000\n",
      "Percentile@83 = 26.000000\n",
      "Percentile@84 = 27.000000\n",
      "Percentile@85 = 28.000000\n",
      "Percentile@86 = 28.000000\n",
      "Percentile@87 = 29.000000\n",
      "Percentile@88 = 30.000000\n",
      "Percentile@89 = 31.000000\n",
      "Percentile@90 = 32.000000\n",
      "Percentile@91 = 33.000000\n",
      "Percentile@92 = 34.000000\n",
      "Percentile@93 = 35.000000\n",
      "Percentile@94 = 37.000000\n",
      "Percentile@95 = 39.000000\n",
      "Percentile@96 = 41.000000\n",
      "Percentile@97 = 44.000000\n",
      "Percentile@98 = 50.000000\n",
      "Percentile@99 = 61.000000\n",
      "Percentile@100 = 438.000000\n"
     ]
    }
   ],
   "source": [
    "tgt_nums = [len(ex['keywords']) for ex in dataset_examples[\"magkp\"]]\n",
    "data = tgt_nums\n",
    "print(scipy.stats.describe(data))\n",
    "\n",
    "for p in np.linspace(0, 100, 101):\n",
    "    percentile = np.percentile(data, p, interpolation='lower')\n",
    "    print('Percentile@%.0f = %.6f' % (p, percentile))"
   ]
  },
  {
   "cell_type": "markdown",
   "metadata": {},
   "source": [
    "#### Histogram of #(kp per document) < 61"
   ]
  },
  {
   "cell_type": "code",
   "execution_count": 10,
   "metadata": {
    "ExecuteTime": {
     "end_time": "2020-09-22T00:01:00.862762Z",
     "start_time": "2020-09-22T00:01:00.344346Z"
    }
   },
   "outputs": [
    {
     "name": "stderr",
     "output_type": "stream",
     "text": [
      "/ihome/hdaqing/rum20/anaconda3/envs/kp/lib/python3.7/site-packages/seaborn/distributions.py:2551: FutureWarning: `distplot` is a deprecated function and will be removed in a future version. Please adapt your code to use either `displot` (a figure-level function with similar flexibility) or `histplot` (an axes-level function for histograms).\n",
      "  warnings.warn(msg, FutureWarning)\n"
     ]
    },
    {
     "data": {
      "text/plain": [
       "Text(0.5, 1.0, 'Histogram of #(kp per document) of MagKP (truncated at 60)')"
      ]
     },
     "execution_count": 10,
     "metadata": {},
     "output_type": "execute_result"
    },
    {
     "data": {
      "image/png": "[encoded data removed]",
      "text/plain": [
       "<Figure size 576x432 with 1 Axes>"
      ]
     },
     "metadata": {
      "needs_background": "light"
     },
     "output_type": "display_data"
    }
   ],
   "source": [
    "fig, ax = plt.subplots(figsize=(8, 6))\n",
    "\n",
    "tmp_tgt_nums = [n for n in tgt_nums[\"magkp\"] if n < 61]\n",
    "sns.distplot(tmp_tgt_nums, color=\"teal\", label=\"MagKP\", bins=60, kde=False, rug=False, hist_kws=dict(alpha=0.7, edgecolor=\"k\", linewidth=1))\n",
    "\n",
    "ax.set_title('Histogram of #(kp per document) of MagKP (truncated at 60)')"
   ]
  },
  {
   "cell_type": "markdown",
   "metadata": {},
   "source": [
    "#### Histogram of #(kp per document) < 11"
   ]
  },
  {
   "cell_type": "code",
   "execution_count": 26,
   "metadata": {
    "ExecuteTime": {
     "end_time": "2020-09-22T03:58:02.104309Z",
     "start_time": "2020-09-22T03:58:01.792437Z"
    }
   },
   "outputs": [
    {
     "data": {
      "text/plain": [
       "Text(0.5, 1.0, 'Histogram of #(kp per document) of MagKP (truncated at 10)')"
      ]
     },
     "execution_count": 26,
     "metadata": {},
     "output_type": "execute_result"
    },
    {
     "data": {
      "image/png": "[encoded data removed]",
      "text/plain": [
       "<Figure size 576x432 with 1 Axes>"
      ]
     },
     "metadata": {
      "needs_background": "light"
     },
     "output_type": "display_data"
    }
   ],
   "source": [
    "fig, ax = plt.subplots(figsize=(8, 6))\n",
    "\n",
    "tmp_tgt_nums = [n for n in tgt_nums[\"magkp\"] if n <= 10]\n",
    "sns.distplot(tmp_tgt_nums, color=\"teal\", label=\"MagKP\", bins=10, kde=False, rug=False, hist_kws=dict(alpha=0.7, edgecolor=\"k\", linewidth=1))\n",
    "\n",
    "ax.set_title('Histogram of #(kp per document) of MagKP (truncated at 10)')"
   ]
  },
  {
   "cell_type": "code",
   "execution_count": 16,
   "metadata": {},
   "outputs": [
    {
     "data": {
      "text/plain": [
       "Text(0.5, 1.0, 'Histogram of #(kp per document) of MagKP (truncated at 60)')"
      ]
     },
     "execution_count": 16,
     "metadata": {},
     "output_type": "execute_result"
    },
    {
     "data": {
      "image/png": "[encoded data removed]",
      "text/plain": [
       "<Figure size 576x432 with 1 Axes>"
      ]
     },
     "metadata": {
      "needs_background": "light"
     },
     "output_type": "display_data"
    }
   ],
   "source": [
    "fig, ax = plt.subplots(figsize=(8, 6))\n",
    "\n",
    "tmp_tgt_nums = [n for n in tgt_nums[\"magkp\"] if n>=20 and n <= 100]\n",
    "sns.distplot(tmp_tgt_nums, color=\"teal\", label=\"MagKP\", bins=80, kde=False, rug=False, hist_kws=dict(alpha=0.7, edgecolor=\"k\", linewidth=1))\n",
    "\n",
    "ax.set_title('Histogram of #(kp per document) of MagKP (truncated at 60)')"
   ]
  },
  {
   "cell_type": "code",
   "execution_count": 15,
   "metadata": {
    "ExecuteTime": {
     "end_time": "2020-08-12T05:18:43.851712Z",
     "start_time": "2020-08-12T05:18:43.465149Z"
    }
   },
   "outputs": [
    {
     "data": {
      "image/png": "[encoded data removed]",
      "text/plain": [
       "<Figure size 432x288 with 1 Axes>"
      ]
     },
     "metadata": {
      "needs_background": "light"
     },
     "output_type": "display_data"
    }
   ],
   "source": [
    "#     sns.distplot(np.asarray(tgt_nums, dtype=int), bins=15, color=\"r\", kde=False, rug=False);\n",
    "    \n",
    "    # Plot a simple histogram with binsize determined automatically\n",
    "#     sns.distplot(tgt_nums, kde=False, color=\"b\", ax=ax)\n",
    "\n",
    "#     # Plot a kernel density estimate and rug plot\n",
    "#     sns.distplot(tgt_nums, hist=False, rug=True, color=\"r\")\n",
    "\n",
    "#     # Plot a filled kernel density estimate\n",
    "#     sns.distplot(tgt_nums, hist=False, color=\"g\", kde_kws={\"shade\": True})\n",
    "\n",
    "#     # Plot a histogram and kernel density estimate\n",
    "#     sns.distplot(tgt_nums, hist=True, color=\"m\", ax=ax)\n",
    "    \n",
    "# sns.distplot(tgt_nums[\"kp20k\"] , color=\"skyblue\", label=\"KP20k\", bins=15, kde=False, rug=False, hist_kws=dict(alpha=0.7))\n",
    "# sns.distplot(tgt_nums[\"kp20k\"] , color=\"teal\", label=\"KP20k\", bins=15, kde=False, rug=False, hist_kws=dict(alpha=0.7, edgecolor=\"k\", linewidth=1))\n",
    "sns.distplot(tgt_nums[\"magkp\"] , color=\"teal\", label=\"MagKP\", bins=100, kde=False, rug=False, hist_kws=dict(alpha=0.7, edgecolor=\"k\", linewidth=1))\n",
    "# sns.distplot(tgt_nums[\"inspec\"] , color=\"red\", label=\"Inspec\", bins=15, kde=False, rug=False, hist_kws=dict(alpha=0.7))\n",
    "# sns.distplot(tgt_nums[\"krapivin\"] , color=\"olive\", label=\"Krapivin\", bins=15, kde=False, rug=False, hist_kws=dict(alpha=0.7))\n",
    "# sns.distplot(tgt_nums[\"nus\"] , color=\"gold\", label=\"NUS\", bins=15, kde=False, rug=False, hist_kws=dict(alpha=0.7))\n",
    "# sns.distplot(tgt_nums[\"semeval\"] , color=\"teal\", label=\"Semeval\", bins=15, kde=False, rug=False, hist_kws=dict(alpha=0.7))\n",
    "\n",
    "ax.set(xlabel='Number of keyphrases in doc', ylabel='Number of documents')\n",
    "plt.legend()\n",
    "plt.show()\n"
   ]
  },
  {
   "cell_type": "markdown",
   "metadata": {},
   "source": [
    "#### Count unique phrases"
   ]
  },
  {
   "cell_type": "markdown",
   "metadata": {
    "ExecuteTime": {
     "end_time": "2020-08-12T06:52:33.765262Z",
     "start_time": "2020-08-12T06:52:33.759476Z"
    }
   },
   "source": [
    "##### only count documents that #(kp)>10"
   ]
  },
  {
   "cell_type": "code",
   "execution_count": 20,
   "metadata": {
    "ExecuteTime": {
     "end_time": "2020-08-12T06:08:07.865368Z",
     "start_time": "2020-08-12T05:32:53.686432Z"
    }
   },
   "outputs": [
    {
     "name": "stdout",
     "output_type": "stream",
     "text": [
      "#(DP)=2699094\n",
      "#(KP)=29690034\n",
      "#(unique KP)=11\n"
     ]
    }
   ],
   "source": [
    "do_preprocess = True\n",
    "stemmer = PorterStemmer()\n",
    "\n",
    "unique_kp_counter = defaultdict(lambda: 0)\n",
    "num_data = 0\n",
    "num_kp = 0\n",
    "\n",
    "for ex_dict in dataset_tgt_dict['magkp']:\n",
    "    title = json_dict['title']\n",
    "    abstract = json_dict['abstract']\n",
    "    fulltext = json_dict['fulltext'] if 'fulltext' in json_dict else ''\n",
    "    keywords = json_dict['keywords']\n",
    "\n",
    "    if isinstance(keywords, str):\n",
    "        keywords = keywords.split(';')\n",
    "        json_dict['keywords'] = keywords\n",
    "\n",
    "    if len(keywords) > 10:\n",
    "        num_data += 1\n",
    "        for keyword in keywords:\n",
    "            num_kp += 1\n",
    "            if do_preprocess:\n",
    "                tokens = [stemmer.stem(t) for t in keyword.lower().split()]\n",
    "                keyword = '_'.join(tokens)\n",
    "\n",
    "            unique_kp_counter[keyword] = unique_kp_counter[keyword] + 1\n",
    "\n",
    "print('#(DP)=%d' % num_data)\n",
    "print('#(KP)=%d' % num_kp)\n",
    "print('#(unique KP)=%d' % len(unique_kp_counter))"
   ]
  },
  {
   "cell_type": "markdown",
   "metadata": {},
   "source": [
    "#####  count all documents #(kp)>0"
   ]
  },
  {
   "cell_type": "code",
   "execution_count": 17,
   "metadata": {
    "ExecuteTime": {
     "end_time": "2020-08-12T16:42:02.179127Z",
     "start_time": "2020-08-12T16:40:39.391069Z"
    }
   },
   "outputs": [
    {
     "name": "stdout",
     "output_type": "stream",
     "text": [
      "#(DP)=2699094\n",
      "#(KP)=41605964\n",
      "#(unique KP)=6880853\n"
     ]
    }
   ],
   "source": [
    "dataset_name = 'magkp'\n",
    "do_preprocess = False\n",
    "\n",
    "stemmer = PorterStemmer()\n",
    "\n",
    "json_base_dir = '/zfs1/pbrusilovsky/rum20/kp/OpenNMT-kpg/data/keyphrase/json' # path on CRC\n",
    "input_json_path = os.path.join(json_base_dir, dataset_name, '%s_train.json' % dataset_name)\n",
    "\n",
    "unique_kp_counter = defaultdict(lambda: 0)\n",
    "kp_len_counter = defaultdict(lambda: 0)\n",
    "num_data = 0\n",
    "num_kp = 0\n",
    "\n",
    "with open(input_json_path, 'r') as input_json:\n",
    "    for json_line in input_json:\n",
    "        json_dict = json.loads(json_line)\n",
    "\n",
    "        if dataset_name == 'stackexchange':\n",
    "            json_dict['abstract'] = json_dict['question']\n",
    "            json_dict['keywords'] = json_dict['tags']            \n",
    "            del json_dict['question']\n",
    "            del json_dict['tags']\n",
    "\n",
    "        title = json_dict['title']\n",
    "        abstract = json_dict['abstract']\n",
    "        fulltext = json_dict['fulltext'] if 'fulltext' in json_dict else ''\n",
    "        keywords = json_dict['keywords']\n",
    "\n",
    "        if isinstance(keywords, str):\n",
    "            keywords = keywords.split(';')\n",
    "            json_dict['keywords'] = keywords\n",
    "            \n",
    "        if len(keywords) > 0:\n",
    "            num_data += 1\n",
    "            for keyword in keywords:\n",
    "                num_kp += 1\n",
    "                if do_preprocess:\n",
    "                    tokens = [stemmer.stem(t) for t in keyword.lower().split()]\n",
    "                    keyword = ' '.join(tokens)\n",
    "#                 print(keyword)\n",
    "                \n",
    "                tokens = [t for t in keyword.split()]\n",
    "                kp_len_counter[len(tokens)] = kp_len_counter[len(tokens)] + 1\n",
    "                unique_kp_counter[keyword] = unique_kp_counter[keyword] + 1\n",
    "\n",
    "print('#(DP)=%d' % num_data)\n",
    "print('#(KP)=%d' % num_kp)\n",
    "print('#(unique KP)=%d' % len(unique_kp_counter))"
   ]
  },
  {
   "cell_type": "code",
   "execution_count": 18,
   "metadata": {
    "ExecuteTime": {
     "end_time": "2020-08-12T05:11:24.875312Z",
     "start_time": "2020-08-12T05:11:24.111497Z"
    }
   },
   "outputs": [
    {
     "data": {
      "text/plain": [
       "<matplotlib.axes._subplots.AxesSubplot at 0x7ff5c4604590>"
      ]
     },
     "execution_count": 18,
     "metadata": {},
     "output_type": "execute_result"
    },
    {
     "data": {
      "image/png": "[encoded data removed]",
      "text/plain": [
       "<Figure size 576x432 with 1 Axes>"
      ]
     },
     "metadata": {
      "needs_background": "light"
     },
     "output_type": "display_data"
    }
   ],
   "source": [
    "fig, ax = plt.subplots(figsize=(8, 6))\n",
    "\n",
    "tmp_kp_freqs = [v for k,v in unique_kp_counter.items() if v > 5000]\n",
    "sns.distplot(tmp_kp_freqs, color=\"teal\", \n",
    "             title=\"Frequency of unique phrases\", label=\"MagKP\",\n",
    "             bins=50, kde=False, rug=False, hist_kws=dict(alpha=0.7, edgecolor=\"k\", linewidth=1))\n"
   ]
  },
  {
   "cell_type": "markdown",
   "metadata": {},
   "source": [
    "####  KP length distribution"
   ]
  },
  {
   "cell_type": "code",
   "execution_count": 18,
   "metadata": {
    "ExecuteTime": {
     "end_time": "2020-08-12T16:42:10.332438Z",
     "start_time": "2020-08-12T16:42:08.442570Z"
    }
   },
   "outputs": [
    {
     "name": "stdout",
     "output_type": "stream",
     "text": [
      "#kp_len=1, freq=7813072, accum/total=18.78%\n",
      "#kp_len=2, freq=21476033, accum/total=70.40%\n",
      "#kp_len=3, freq=6337508, accum/total=85.63%\n",
      "#kp_len=4, freq=1705544, accum/total=89.73%\n",
      "#kp_len=5, freq=502647, accum/total=90.94%\n",
      "#kp_len=6, freq=281022, accum/total=91.61%\n",
      "#kp_len=7, freq=217690, accum/total=92.13%\n",
      "#kp_len=8, freq=230406, accum/total=92.69%\n",
      "#kp_len=9, freq=226450, accum/total=93.23%\n",
      "#kp_len=10, freq=226740, accum/total=93.78%\n",
      "#kp_len=11, freq=216440, accum/total=94.30%\n",
      "#kp_len=12, freq=195025, accum/total=94.77%\n",
      "#kp_len=13, freq=171045, accum/total=95.18%\n",
      "#kp_len=14, freq=154596, accum/total=95.55%\n",
      "#kp_len=15, freq=146705, accum/total=95.90%\n",
      "#kp_len=16, freq=150455, accum/total=96.26%\n",
      "#kp_len=17, freq=159578, accum/total=96.65%\n",
      "#kp_len=18, freq=164405, accum/total=97.04%\n",
      "#kp_len=19, freq=158950, accum/total=97.42%\n",
      "#kp_len=20, freq=142297, accum/total=97.77%\n",
      "#kp_len=21, freq=119340, accum/total=98.05%\n",
      "#kp_len=22, freq=95724, accum/total=98.28%\n",
      "#kp_len=23, freq=75454, accum/total=98.46%\n",
      "#kp_len=24, freq=60110, accum/total=98.61%\n",
      "#kp_len=25, freq=49592, accum/total=98.73%\n",
      "#kp_len=26, freq=43438, accum/total=98.83%\n",
      "#kp_len=27, freq=39221, accum/total=98.93%\n",
      "#kp_len=28, freq=35621, accum/total=99.01%\n",
      "#kp_len=29, freq=32786, accum/total=99.09%\n",
      "#kp_len=30, freq=30577, accum/total=99.16%\n",
      "#kp_len=31, freq=28432, accum/total=99.23%\n",
      "#kp_len=32, freq=25857, accum/total=99.30%\n",
      "#kp_len=33, freq=24294, accum/total=99.35%\n",
      "#kp_len=34, freq=22616, accum/total=99.41%\n",
      "#kp_len=35, freq=21041, accum/total=99.46%\n",
      "#kp_len=36, freq=19390, accum/total=99.51%\n",
      "#kp_len=37, freq=17688, accum/total=99.55%\n",
      "#kp_len=38, freq=16803, accum/total=99.59%\n",
      "#kp_len=39, freq=15122, accum/total=99.62%\n",
      "#kp_len=40, freq=13949, accum/total=99.66%\n",
      "#kp_len=41, freq=12812, accum/total=99.69%\n",
      "#kp_len=42, freq=11536, accum/total=99.72%\n",
      "#kp_len=43, freq=10867, accum/total=99.74%\n",
      "#kp_len=44, freq=10065, accum/total=99.77%\n",
      "#kp_len=45, freq=8981, accum/total=99.79%\n",
      "#kp_len=46, freq=8204, accum/total=99.81%\n",
      "#kp_len=47, freq=7637, accum/total=99.83%\n",
      "#kp_len=48, freq=6935, accum/total=99.84%\n",
      "#kp_len=49, freq=6330, accum/total=99.86%\n",
      "#kp_len=50, freq=5695, accum/total=99.87%\n",
      "#kp_len=51, freq=5179, accum/total=99.88%\n",
      "#kp_len=52, freq=4734, accum/total=99.90%\n",
      "#kp_len=53, freq=4257, accum/total=99.91%\n",
      "#kp_len=54, freq=3847, accum/total=99.92%\n",
      "#kp_len=55, freq=3488, accum/total=99.92%\n",
      "#kp_len=56, freq=3413, accum/total=99.93%\n",
      "#kp_len=57, freq=2797, accum/total=99.94%\n",
      "#kp_len=58, freq=2479, accum/total=99.94%\n",
      "#kp_len=59, freq=2368, accum/total=99.95%\n",
      "#kp_len=60, freq=2232, accum/total=99.96%\n",
      "#kp_len=61, freq=1869, accum/total=99.96%\n",
      "#kp_len=62, freq=1731, accum/total=99.96%\n",
      "#kp_len=63, freq=1603, accum/total=99.97%\n",
      "#kp_len=64, freq=1465, accum/total=99.97%\n",
      "#kp_len=65, freq=1192, accum/total=99.97%\n",
      "#kp_len=66, freq=1069, accum/total=99.98%\n",
      "#kp_len=67, freq=1061, accum/total=99.98%\n",
      "#kp_len=68, freq=905, accum/total=99.98%\n",
      "#kp_len=69, freq=778, accum/total=99.98%\n",
      "#kp_len=70, freq=742, accum/total=99.99%\n",
      "#kp_len=71, freq=621, accum/total=99.99%\n",
      "#kp_len=72, freq=587, accum/total=99.99%\n",
      "#kp_len=73, freq=522, accum/total=99.99%\n",
      "#kp_len=74, freq=435, accum/total=99.99%\n",
      "#kp_len=75, freq=423, accum/total=99.99%\n",
      "#kp_len=76, freq=349, accum/total=99.99%\n",
      "#kp_len=77, freq=339, accum/total=99.99%\n",
      "#kp_len=78, freq=314, accum/total=99.99%\n",
      "#kp_len=79, freq=276, accum/total=99.99%\n",
      "#kp_len=80, freq=242, accum/total=100.00%\n",
      "#kp_len=81, freq=199, accum/total=100.00%\n",
      "#kp_len=82, freq=217, accum/total=100.00%\n",
      "#kp_len=83, freq=168, accum/total=100.00%\n",
      "#kp_len=84, freq=148, accum/total=100.00%\n",
      "#kp_len=85, freq=117, accum/total=100.00%\n",
      "#kp_len=86, freq=99, accum/total=100.00%\n",
      "#kp_len=87, freq=118, accum/total=100.00%\n",
      "#kp_len=88, freq=117, accum/total=100.00%\n",
      "#kp_len=89, freq=93, accum/total=100.00%\n",
      "#kp_len=90, freq=110, accum/total=100.00%\n",
      "#kp_len=91, freq=71, accum/total=100.00%\n",
      "#kp_len=92, freq=81, accum/total=100.00%\n",
      "#kp_len=93, freq=73, accum/total=100.00%\n",
      "#kp_len=94, freq=63, accum/total=100.00%\n",
      "#kp_len=95, freq=64, accum/total=100.00%\n",
      "#kp_len=96, freq=49, accum/total=100.00%\n",
      "#kp_len=97, freq=41, accum/total=100.00%\n",
      "#kp_len=98, freq=33, accum/total=100.00%\n",
      "#kp_len=99, freq=30, accum/total=100.00%\n",
      "#kp_len=100, freq=31, accum/total=100.00%\n",
      "100\n"
     ]
    },
    {
     "data": {
      "image/png": "[encoded data removed]",
      "text/plain": [
       "<Figure size 1152x864 with 1 Axes>"
      ]
     },
     "metadata": {},
     "output_type": "display_data"
    }
   ],
   "source": [
    "fig, ax = plt.subplots(figsize=(16, 12))\n",
    "sns.set(style=\"whitegrid\")\n",
    "kp_lens = sorted([(kp_len, freq) for kp_len, freq in kp_len_counter.items()], key=lambda k:k[0])\n",
    "\n",
    "accum_kp_count = 0\n",
    "total_kp_count = sum(freq for _, freq in kp_lens)\n",
    "for kp_len, freq in kp_lens:\n",
    "    accum_kp_count += freq\n",
    "    print('#kp_len=%d, freq=%d, accum/total=%.2f%%' % (kp_len, freq, accum_kp_count / total_kp_count * 100))\n",
    "    \n",
    "print(len(kp_lens))\n",
    "kp_lens_df = pd.DataFrame(kp_lens, columns=['#kp_len', 'freq'])\n",
    "ax = sns.barplot(x=\"#kp_len\", y=\"freq\", data=kp_lens_df)\n"
   ]
  },
  {
   "cell_type": "code",
   "execution_count": null,
   "metadata": {},
   "outputs": [],
   "source": []
  }
 ],
 "metadata": {
  "kernelspec": {
   "display_name": "Python 3 (ipykernel)",
   "language": "python",
   "name": "python3"
  },
  "language_info": {
   "codemirror_mode": {
    "name": "ipython",
    "version": 3
   },
   "file_extension": ".py",
   "mimetype": "text/x-python",
   "name": "python",
   "nbconvert_exporter": "python",
   "pygments_lexer": "ipython3",
   "version": "3.7.6"
  },
  "toc": {
   "base_numbering": 1,
   "nav_menu": {},
   "number_sections": true,
   "sideBar": true,
   "skip_h1_title": false,
   "title_cell": "Table of Contents",
   "title_sidebar": "Contents",
   "toc_cell": false,
   "toc_position": {},
   "toc_section_display": true,
   "toc_window_display": true
  },
  "toc-autonumbering": true,
  "toc-showcode": false,
  "toc-showmarkdowntxt": false,
  "varInspector": {
   "cols": {
    "lenName": 16,
    "lenType": 16,
    "lenVar": 40
   },
   "kernels_config": {
    "python": {
     "delete_cmd_postfix": "",
     "delete_cmd_prefix": "del ",
     "library": "var_list.py",
     "varRefreshCmd": "print(var_dic_list())"
    },
    "r": {
     "delete_cmd_postfix": ") ",
     "delete_cmd_prefix": "rm(",
     "library": "var_list.r",
     "varRefreshCmd": "cat(var_dic_list()) "
    }
   },
   "types_to_exclude": [
    "module",
    "function",
    "builtin_function_or_method",
    "instance",
    "_Feature"
   ],
   "window_display": false
  }
 },
 "nbformat": 4,
 "nbformat_minor": 4
}
