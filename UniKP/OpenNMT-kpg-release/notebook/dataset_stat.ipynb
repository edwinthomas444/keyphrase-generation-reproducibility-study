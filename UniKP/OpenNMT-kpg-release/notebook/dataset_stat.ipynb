{
 "cells": [
  {
   "cell_type": "code",
   "execution_count": 1,
   "metadata": {},
   "outputs": [
    {
     "name": "stderr",
     "output_type": "stream",
     "text": [
      "/Users/memray/Project/anaconda3/lib/python3.6/site-packages/h5py/__init__.py:34: FutureWarning: Conversion of the second argument of issubdtype from `float` to `np.floating` is deprecated. In future, it will be treated as `np.float64 == np.dtype(float).type`.\n",
      "  from ._conv import register_converters as _register_converters\n"
     ]
    }
   ],
   "source": [
    "import os\n",
    "import sys\n",
    "import re\n",
    "import json\n",
    "import numpy as np\n",
    "from collections import defaultdict\n",
    "\n",
    "module_path = os.path.abspath(os.path.join('..'))\n",
    "if module_path not in sys.path:\n",
    "    sys.path.append(module_path)\n",
    "module_path = os.path.abspath(os.path.join('../onmt'))\n",
    "if module_path not in sys.path:\n",
    "    sys.path.append(module_path)\n",
    "\n",
    "import kp_evaluate\n",
    "import onmt.keyphrase.utils as utils\n",
    "\n",
    "\n",
    "\n",
    "import seaborn as sns\n",
    "import matplotlib.pyplot as plt\n"
   ]
  },
  {
   "cell_type": "code",
   "execution_count": 4,
   "metadata": {},
   "outputs": [
    {
     "name": "stdout",
     "output_type": "stream",
     "text": [
      "kp20k\n",
      "inspec\n",
      "krapivin\n",
      "nus\n",
      "semeval\n"
     ]
    },
    {
     "name": "stderr",
     "output_type": "stream",
     "text": [
      "/Users/memray/Project/anaconda3/lib/python3.6/site-packages/seaborn/distributions.py:215: MatplotlibDeprecationWarning: \n",
      "The 'normed' kwarg was deprecated in Matplotlib 2.1 and will be removed in 3.1. Use 'density' instead.\n",
      "  color=hist_color, **hist_kws)\n"
     ]
    },
    {
     "data": {
      "image/png": "[encoded data removed]",
      "text/plain": [
       "<Figure size 576x432 with 1 Axes>"
      ]
     },
     "metadata": {},
     "output_type": "display_data"
    }
   ],
   "source": [
    "dataset_names = ['inspec', 'krapivin', 'nus', 'semeval', 'kp20k', 'duc', 'stackexchange']\n",
    "dataset_names = ['kp20k', 'inspec', 'krapivin', 'nus', 'semeval']\n",
    "\n",
    "json_base_dir = '/Users/memray/project/kp/OpenNMT-kpg/data/keyphrase/json/' # path to the json folder\n",
    "tgt_nums = {}\n",
    "\n",
    "fig, ax = plt.subplots(figsize=(8, 6))\n",
    "    \n",
    "for dataset_name in dataset_names:\n",
    "    tgt_nums[dataset_name] = []\n",
    "    print(dataset_name)\n",
    "\n",
    "    input_json_path = os.path.join(json_base_dir, dataset_name, '%s_test.json' % dataset_name)\n",
    "    output_json_path = os.path.join(json_base_dir, dataset_name, '%s_test_meng17token.json' % dataset_name)\n",
    "\n",
    "    \n",
    "#     with open(input_json_path, 'r') as input_json, open(output_json_path, 'w') as output_json:\n",
    "    with open(input_json_path, 'r') as input_json:\n",
    "        for json_line in input_json:\n",
    "            json_dict = json.loads(json_line)\n",
    "\n",
    "            if dataset_name == 'stackexchange':\n",
    "                json_dict['abstract'] = json_dict['question']\n",
    "                json_dict['keywords'] = json_dict['tags']            \n",
    "                del json_dict['question']\n",
    "                del json_dict['tags']\n",
    "\n",
    "            title = json_dict['title']\n",
    "            abstract = json_dict['abstract']\n",
    "            fulltext = json_dict['fulltext'] if 'fulltext' in json_dict else ''\n",
    "            keywords = json_dict['keywords']\n",
    "\n",
    "            if isinstance(keywords, str):\n",
    "                keywords = keywords.split(';')\n",
    "                json_dict['keywords'] = keywords\n",
    "            \n",
    "            if len(keywords) < 16:\n",
    "                tgt_nums[dataset_name].append(len(keywords))\n",
    "    \n",
    "#     sns.distplot(np.asarray(tgt_nums, dtype=int), bins=15, color=\"r\", kde=False, rug=False);\n",
    "    \n",
    "    # Plot a simple histogram with binsize determined automatically\n",
    "#     sns.distplot(tgt_nums, kde=False, color=\"b\", ax=ax)\n",
    "\n",
    "#     # Plot a kernel density estimate and rug plot\n",
    "#     sns.distplot(tgt_nums, hist=False, rug=True, color=\"r\")\n",
    "\n",
    "#     # Plot a filled kernel density estimate\n",
    "#     sns.distplot(tgt_nums, hist=False, color=\"g\", kde_kws={\"shade\": True})\n",
    "\n",
    "#     # Plot a histogram and kernel density estimate\n",
    "#     sns.distplot(tgt_nums, hist=True, color=\"m\", ax=ax)\n",
    "    \n",
    "# sns.distplot(tgt_nums[\"kp20k\"] , color=\"skyblue\", label=\"KP20k\", bins=15, kde=False, rug=False, hist_kws=dict(alpha=0.7))\n",
    "sns.distplot(tgt_nums[\"kp20k\"] , color=\"teal\", label=\"KP20k\", bins=15, kde=False, rug=False, hist_kws=dict(alpha=0.7, edgecolor=\"k\", linewidth=1))\n",
    "# sns.distplot(tgt_nums[\"inspec\"] , color=\"red\", label=\"Inspec\", bins=15, kde=False, rug=False, hist_kws=dict(alpha=0.7))\n",
    "# sns.distplot(tgt_nums[\"krapivin\"] , color=\"olive\", label=\"Krapivin\", bins=15, kde=False, rug=False, hist_kws=dict(alpha=0.7))\n",
    "# sns.distplot(tgt_nums[\"nus\"] , color=\"gold\", label=\"NUS\", bins=15, kde=False, rug=False, hist_kws=dict(alpha=0.7))\n",
    "# sns.distplot(tgt_nums[\"semeval\"] , color=\"teal\", label=\"Semeval\", bins=15, kde=False, rug=False, hist_kws=dict(alpha=0.7))\n",
    "\n",
    "ax.set(xlabel='Number of keyphrases in doc', ylabel='Number of documents')\n",
    "sns.plt.legend()\n",
    "plt.show()\n"
   ]
  },
  {
   "cell_type": "code",
   "execution_count": null,
   "metadata": {},
   "outputs": [],
   "source": []
  }
 ],
 "metadata": {
  "kernelspec": {
   "display_name": "Python 3",
   "language": "python",
   "name": "python3"
  },
  "language_info": {
   "codemirror_mode": {
    "name": "ipython",
    "version": 3
   },
   "file_extension": ".py",
   "mimetype": "text/x-python",
   "name": "python",
   "nbconvert_exporter": "python",
   "pygments_lexer": "ipython3",
   "version": "3.6.1"
  }
 },
 "nbformat": 4,
 "nbformat_minor": 2
}
