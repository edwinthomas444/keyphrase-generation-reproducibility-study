{
 "cells": [
  {
   "cell_type": "code",
   "execution_count": 1,
   "metadata": {
    "ExecuteTime": {
     "end_time": "2020-09-22T02:05:01.616539Z",
     "start_time": "2020-09-22T02:04:24.631467Z"
    }
   },
   "outputs": [],
   "source": [
    "import os\n",
    "import sys\n",
    "import re\n",
    "import json\n",
    "import numpy as np\n",
    "import pandas as pd\n",
    "from collections import defaultdict\n",
    "\n",
    "module_path = os.path.abspath(os.path.join('..'))\n",
    "if module_path not in sys.path:\n",
    "    sys.path.append(module_path)\n",
    "module_path = os.path.abspath(os.path.join('../onmt'))\n",
    "if module_path not in sys.path:\n",
    "    sys.path.append(module_path)\n",
    "\n",
    "import kp_evaluate\n",
    "import onmt.keyphrase.utils as utils\n",
    "\n",
    "import seaborn as sns\n",
    "import matplotlib.pyplot as plt\n",
    "import scipy\n",
    "\n",
    "from nltk.stem.porter import PorterStemmer"
   ]
  },
  {
   "cell_type": "code",
   "execution_count": 17,
   "metadata": {
    "ExecuteTime": {
     "end_time": "2020-09-22T02:28:17.985909Z",
     "start_time": "2020-09-22T02:28:17.982061Z"
    }
   },
   "outputs": [],
   "source": [
    "def normalize_title_str(title):\n",
    "    title = title.lower()\n",
    "    title = re.sub(r'\\W', ' ', title)\n",
    "    tokens = title.split()\n",
    "    return '_'.join(tokens)"
   ]
  },
  {
   "cell_type": "markdown",
   "metadata": {},
   "source": [
    "### Load existing scientific datasets"
   ]
  },
  {
   "cell_type": "code",
   "execution_count": 25,
   "metadata": {
    "ExecuteTime": {
     "end_time": "2020-09-22T03:06:22.112940Z",
     "start_time": "2020-09-22T03:06:14.589528Z"
    }
   },
   "outputs": [
    {
     "name": "stdout",
     "output_type": "stream",
     "text": [
      "File not found, skip /zfs1/pbrusilovsky/rum20/kp/OpenNMT-kpg/data/keyphrase/json/inspec/inspec_train.json\n",
      "Loading from /zfs1/pbrusilovsky/rum20/kp/OpenNMT-kpg/data/keyphrase/json/inspec/inspec_valid.json\n",
      "Found 1500 data points\n",
      "Loading from /zfs1/pbrusilovsky/rum20/kp/OpenNMT-kpg/data/keyphrase/json/inspec/inspec_test.json\n",
      "Found 500 data points\n",
      "File not found, skip /zfs1/pbrusilovsky/rum20/kp/OpenNMT-kpg/data/keyphrase/json/krapivin/krapivin_train.json\n",
      "Loading from /zfs1/pbrusilovsky/rum20/kp/OpenNMT-kpg/data/keyphrase/json/krapivin/krapivin_valid.json\n",
      "Found 1844 data points\n",
      "Loading from /zfs1/pbrusilovsky/rum20/kp/OpenNMT-kpg/data/keyphrase/json/krapivin/krapivin_test.json\n",
      "Found 460 data points\n",
      "File not found, skip /zfs1/pbrusilovsky/rum20/kp/OpenNMT-kpg/data/keyphrase/json/nus/nus_train.json\n",
      "File not found, skip /zfs1/pbrusilovsky/rum20/kp/OpenNMT-kpg/data/keyphrase/json/nus/nus_valid.json\n",
      "Loading from /zfs1/pbrusilovsky/rum20/kp/OpenNMT-kpg/data/keyphrase/json/nus/nus_test.json\n",
      "Found 211 data points\n",
      "File not found, skip /zfs1/pbrusilovsky/rum20/kp/OpenNMT-kpg/data/keyphrase/json/semeval/semeval_train.json\n",
      "Loading from /zfs1/pbrusilovsky/rum20/kp/OpenNMT-kpg/data/keyphrase/json/semeval/semeval_valid.json\n",
      "Found 144 data points\n",
      "Loading from /zfs1/pbrusilovsky/rum20/kp/OpenNMT-kpg/data/keyphrase/json/semeval/semeval_test.json\n",
      "Found 100 data points\n",
      "Loading from /zfs1/pbrusilovsky/rum20/kp/OpenNMT-kpg/data/keyphrase/json/kp20k/kp20k_train.json\n",
      "Found 514154 data points\n",
      "Loading from /zfs1/pbrusilovsky/rum20/kp/OpenNMT-kpg/data/keyphrase/json/kp20k/kp20k_valid.json\n",
      "Found 19992 data points\n",
      "Loading from /zfs1/pbrusilovsky/rum20/kp/OpenNMT-kpg/data/keyphrase/json/kp20k/kp20k_test.json\n",
      "Found 19987 data points\n",
      "loaded 558892 docs\n",
      "non-dup 557887 docs\n"
     ]
    }
   ],
   "source": [
    "datasets_to_avoid = ['inspec', 'krapivin', 'nus', 'semeval', 'kp20k']\n",
    "\n",
    "# json_base_dir = '/Users/memray/project/kp/OpenNMT-kpg/data/keyphrase/json/' # path to the json folder\n",
    "json_base_dir = '/zfs1/pbrusilovsky/rum20/kp/OpenNMT-kpg/data/keyphrase/json' # path on CRC\n",
    "\n",
    "titles_to_avoid = set()\n",
    "num_doc = 0\n",
    "for dataset_name in datasets_to_avoid:\n",
    "    for split in ['train', 'valid', 'test']:\n",
    "        num_doc_split = 0\n",
    "        input_json_path = os.path.join(json_base_dir, dataset_name, '%s_%s.json' % (dataset_name, split))\n",
    "        if os.path.exists(input_json_path):\n",
    "            print('Loading from %s' % input_json_path)\n",
    "        else:\n",
    "            print('File not found, skip %s' % input_json_path)\n",
    "            continue\n",
    "\n",
    "        with open(input_json_path, 'r') as input_json:\n",
    "            for json_line in input_json:\n",
    "                json_dict = json.loads(json_line)\n",
    "                title = json_dict['title']\n",
    "                \n",
    "                keywords = json_dict['keywords']\n",
    "                if isinstance(keywords, str):\n",
    "                    keywords = keywords.split(';')\n",
    "                assert len(keywords) > 0\n",
    "                \n",
    "                title = normalize_title_str(title)\n",
    "                titles_to_avoid.add(title)\n",
    "                num_doc += 1\n",
    "                num_doc_split += 1\n",
    "        print('Found %d data points' % num_doc_split)\n",
    "\n",
    "print('loaded %d docs' % num_doc)\n",
    "print('non-dup %d docs' % len(titles_to_avoid))"
   ]
  },
  {
   "cell_type": "markdown",
   "metadata": {},
   "source": [
    "### Load MagKP and only retain non-duplicate data points"
   ]
  },
  {
   "cell_type": "code",
   "execution_count": 29,
   "metadata": {
    "ExecuteTime": {
     "end_time": "2020-09-22T04:06:35.340973Z",
     "start_time": "2020-09-22T04:05:51.575612Z"
    }
   },
   "outputs": [
    {
     "name": "stdout",
     "output_type": "stream",
     "text": [
      "loaded 2699094 docs\n",
      "non-dup 2686643 docs\n",
      "non-dup 518908 docs that #(kp) in [3, 6]\n",
      "non-dup 1512921 docs that #(kp)>10\n"
     ]
    }
   ],
   "source": [
    "titles_to_jsonstr = {}\n",
    "titles_to_jsonstr_lessnoisy = {} # \n",
    "titles_to_jsonstr_noisy = {} # \n",
    "num_doc = 0\n",
    "\n",
    "input_json_path = os.path.join(json_base_dir, 'magkp', 'magkp_train.json')\n",
    "\n",
    "with open(input_json_path, 'r') as input_json:\n",
    "    for json_line in input_json:\n",
    "        json_dict = json.loads(json_line)\n",
    "        title = json_dict['title']\n",
    "        title = normalize_title_str(title)\n",
    "\n",
    "        if title not in titles_to_avoid and title not in titles_to_jsonstr:\n",
    "            titles_to_jsonstr[title] = json_line\n",
    "            keywords = json_dict['keywords']\n",
    "            if isinstance(keywords, str):\n",
    "                keywords = keywords.split(';')\n",
    "            assert len(keywords) > 0\n",
    "            if len(keywords) >= 3 and len(keywords) <= 6:\n",
    "                titles_to_jsonstr_lessnoisy[title] = json_line\n",
    "            elif len(keywords) > 10:\n",
    "                titles_to_jsonstr_noisy[title] = json_line\n",
    "                \n",
    "        num_doc += 1\n",
    "\n",
    "print('loaded %d docs' % num_doc)\n",
    "print('non-dup %d docs' % len(titles_to_jsonstr))\n",
    "print('non-dup %d docs that #(kp) in [3, 6]' % len(titles_to_jsonstr_lessnoisy))\n",
    "print('non-dup %d docs that #(kp)>10' % len(titles_to_jsonstr_noisy))"
   ]
  },
  {
   "cell_type": "markdown",
   "metadata": {},
   "source": [
    "### Dump jsons to disk"
   ]
  },
  {
   "cell_type": "code",
   "execution_count": 32,
   "metadata": {
    "ExecuteTime": {
     "end_time": "2020-09-22T05:58:49.736943Z",
     "start_time": "2020-09-22T05:58:47.743403Z"
    }
   },
   "outputs": [
    {
     "name": "stdout",
     "output_type": "stream",
     "text": [
      "ERROR! Session/line number was not unique in database. History logging moved to new session 190\n"
     ]
    }
   ],
   "source": [
    "output_json_path = os.path.join(json_base_dir, 'magkp', 'magkp_LN_train.json')\n",
    "\n",
    "with open(output_json_path, 'w') as output_json:\n",
    "    for json_line in titles_to_jsonstr_lessnoisy.values():\n",
    "        output_json.write(json_line)"
   ]
  },
  {
   "cell_type": "code",
   "execution_count": 39,
   "metadata": {
    "ExecuteTime": {
     "end_time": "2020-09-22T06:18:21.847211Z",
     "start_time": "2020-09-22T06:18:18.817011Z"
    }
   },
   "outputs": [],
   "source": [
    "output_json_path = os.path.join(json_base_dir, 'magkp', 'magkp_Nsmall_train.json')\n",
    "\n",
    "with open(output_json_path, 'w') as output_json:\n",
    "    for line_id, json_line in enumerate(titles_to_jsonstr_noisy.values()):\n",
    "        if line_id >= len(titles_to_jsonstr_lessnoisy):\n",
    "            break\n",
    "        output_json.write(json_line)"
   ]
  },
  {
   "cell_type": "code",
   "execution_count": 33,
   "metadata": {
    "ExecuteTime": {
     "end_time": "2020-09-22T06:04:06.187119Z",
     "start_time": "2020-09-22T06:03:58.178311Z"
    }
   },
   "outputs": [
    {
     "name": "stdout",
     "output_type": "stream",
     "text": [
      "ERROR! Session/line number was not unique in database. History logging moved to new session 193\n"
     ]
    }
   ],
   "source": [
    "output_json_path = os.path.join(json_base_dir, 'magkp', 'magkp_Nlarge_train.json')\n",
    "\n",
    "with open(output_json_path, 'w') as output_json:\n",
    "    for line_id, json_line in enumerate(titles_to_jsonstr_noisy.values()):\n",
    "        output_json.write(json_line)"
   ]
  },
  {
   "cell_type": "code",
   "execution_count": 40,
   "metadata": {
    "ExecuteTime": {
     "end_time": "2020-09-22T06:20:15.561921Z",
     "start_time": "2020-09-22T06:20:07.480872Z"
    }
   },
   "outputs": [
    {
     "name": "stdout",
     "output_type": "stream",
     "text": [
      "MagKP-N-small: #(doc)=518908, #(kp)=12122092, #(avg_kp)=23.360773\n"
     ]
    }
   ],
   "source": [
    "input_json_path = os.path.join(json_base_dir, 'magkp', 'magkp_Nsmall_train.json')\n",
    "num_doc_noisy = 0\n",
    "num_kp_noisy = 0\n",
    "with open(input_json_path, 'r') as input_json:\n",
    "    for json_line in input_json:\n",
    "        json_dict = json.loads(json_line)\n",
    "        title = json_dict['title']\n",
    "        title = normalize_title_str(title)\n",
    "\n",
    "        keywords = json_dict['keywords']\n",
    "        if isinstance(keywords, str):\n",
    "            keywords = keywords.split(';')\n",
    "\n",
    "        num_doc_noisy += 1\n",
    "        num_kp_noisy += len(keywords)\n",
    "\n",
    "print('MagKP-N-small: #(doc)=%d, #(kp)=%d, #(avg_kp)=%.6f' % (num_doc_noisy, num_kp_noisy, num_kp_noisy / num_doc_noisy))\n"
   ]
  },
  {
   "cell_type": "code",
   "execution_count": 36,
   "metadata": {
    "ExecuteTime": {
     "end_time": "2020-09-22T06:13:10.136246Z",
     "start_time": "2020-09-22T06:12:44.964269Z"
    }
   },
   "outputs": [
    {
     "name": "stdout",
     "output_type": "stream",
     "text": [
      "MagKP-N-large: #(doc)=1512921, #(kp)=35312484, #(avg_kp)=23.340600\n"
     ]
    }
   ],
   "source": [
    "input_json_path = os.path.join(json_base_dir, 'magkp', 'magkp_Nlarge_train.json')\n",
    "num_doc_noisy = 0\n",
    "num_kp_noisy = 0\n",
    "with open(input_json_path, 'r') as input_json:\n",
    "    for json_line in input_json:\n",
    "        json_dict = json.loads(json_line)\n",
    "        title = json_dict['title']\n",
    "        title = normalize_title_str(title)\n",
    "\n",
    "        keywords = json_dict['keywords']\n",
    "        if isinstance(keywords, str):\n",
    "            keywords = keywords.split(';')\n",
    "\n",
    "        num_doc_noisy += 1\n",
    "        num_kp_noisy += len(keywords)\n",
    "\n",
    "print('MagKP-N-large: #(doc)=%d, #(kp)=%d, #(avg_kp)=%.6f' % (num_doc_noisy, num_kp_noisy, num_kp_noisy / num_doc_noisy))\n"
   ]
  },
  {
   "cell_type": "code",
   "execution_count": null,
   "metadata": {},
   "outputs": [],
   "source": []
  }
 ],
 "metadata": {
  "kernelspec": {
   "display_name": "Python 3",
   "language": "python",
   "name": "python3"
  },
  "language_info": {
   "codemirror_mode": {
    "name": "ipython",
    "version": 3
   },
   "file_extension": ".py",
   "mimetype": "text/x-python",
   "name": "python",
   "nbconvert_exporter": "python",
   "pygments_lexer": "ipython3",
   "version": "3.7.6"
  },
  "toc": {
   "base_numbering": 1,
   "nav_menu": {},
   "number_sections": true,
   "sideBar": true,
   "skip_h1_title": false,
   "title_cell": "Table of Contents",
   "title_sidebar": "Contents",
   "toc_cell": false,
   "toc_position": {},
   "toc_section_display": true,
   "toc_window_display": false
  },
  "varInspector": {
   "cols": {
    "lenName": 16,
    "lenType": 16,
    "lenVar": 40
   },
   "kernels_config": {
    "python": {
     "delete_cmd_postfix": "",
     "delete_cmd_prefix": "del ",
     "library": "var_list.py",
     "varRefreshCmd": "print(var_dic_list())"
    },
    "r": {
     "delete_cmd_postfix": ") ",
     "delete_cmd_prefix": "rm(",
     "library": "var_list.r",
     "varRefreshCmd": "cat(var_dic_list()) "
    }
   },
   "types_to_exclude": [
    "module",
    "function",
    "builtin_function_or_method",
    "instance",
    "_Feature"
   ],
   "window_display": false
  }
 },
 "nbformat": 4,
 "nbformat_minor": 4
}
