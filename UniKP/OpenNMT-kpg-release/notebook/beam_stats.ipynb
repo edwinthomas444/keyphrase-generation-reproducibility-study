{
 "cells": [
  {
   "cell_type": "markdown",
   "metadata": {},
   "source": [
    "### Beam statistics?"
   ]
  },
  {
   "cell_type": "code",
   "execution_count": 8,
   "metadata": {
    "collapsed": true
   },
   "outputs": [],
   "source": [
    "pred_dir = \"/Users/memray/Project/keyphrase/OpenNMT-kpg/output/meng17-one2many-beam10-maxlen40/pred\""
   ]
  },
  {
   "cell_type": "code",
   "execution_count": 2,
   "metadata": {},
   "outputs": [],
   "source": [
    "import os\n",
    "import json"
   ]
  },
  {
   "cell_type": "code",
   "execution_count": null,
   "metadata": {},
   "outputs": [],
   "source": [
    "ckpt_list = [\"kp20k-meng17-length-rnn-BS64-LR0.05-Layer1-Dim150-Emb100-Dropout0.0-Copytrue-Reusetrue-Covtrue-PEfalse-Contboth-IF1_step_90000\", \"kp20k-meng17-random-rnn-BS64-LR0.05-Layer1-Dim150-Emb100-Dropout0.0-Copytrue-Reusetrue-Covtrue-PEfalse-Contboth-IF1_step_90000\", \n",
    "\"kp20k-meng17-alphabetical-rnn-BS64-LR0.05-Layer1-Dim150-Emb100-Dropout0.0-Copytrue-Reusetrue-Covtrue-PEfalse-Contboth-IF1_step_70000\", \n",
    "\"kp20k-meng17-no_sort-rnn-BS64-LR0.05-Layer1-Dim150-Emb100-Dropout0.0-Copytrue-Reusetrue-Covtrue-PEfalse-Contboth-IF1_step_90000\", \n",
    "\"kp20k-meng17-verbatim_prepend-rnn-BS64-LR0.05-Layer1-Dim150-Emb100-Dropout0.0-Copytrue-Reusetrue-Covtrue-PEfalse-Contboth-IF1_step_65000\", \n",
    "\"kp20k-meng17-verbatim_append-rnn-BS64-LR0.05-Layer1-Dim150-Emb100-Dropout0.0-Copytrue-Reusetrue-Covtrue-PEfalse-Contboth-IF1_step_50000\"]"
   ]
  },
  {
   "cell_type": "code",
   "execution_count": 3,
   "metadata": {},
   "outputs": [],
   "source": [
    "datasets = [\"kp20k_valid500\", \"duc\", \"inspec\", \"krapivin\", \"nus\", \"semeval\"]"
   ]
  },
  {
   "cell_type": "code",
   "execution_count": 20,
   "metadata": {},
   "outputs": [
    {
     "name": "stdout",
     "output_type": "stream",
     "text": [
      "kp20k-meng17-length-rnn-BS64-LR0.05-Layer1-Dim150-Emb100-Dropout0.0-Copytrue-Reusetrue-Covtrue-PEfalse-Contboth-IF1_step_90000\n",
      "44297\n",
      "80496\n",
      "126943\n",
      "166049\n",
      "186091\n",
      "194660\n",
      "kp20k-meng17-random-rnn-BS64-LR0.05-Layer1-Dim150-Emb100-Dropout0.0-Copytrue-Reusetrue-Covtrue-PEfalse-Contboth-IF1_step_90000\n",
      "88390\n",
      "163454\n",
      "243031\n",
      "306603\n",
      "337194\n",
      "350751\n",
      "kp20k-meng17-alphabetical-rnn-BS64-LR0.05-Layer1-Dim150-Emb100-Dropout0.0-Copytrue-Reusetrue-Covtrue-PEfalse-Contboth-IF1_step_70000\n",
      "80127\n",
      "148773\n",
      "244356\n",
      "311582\n",
      "339008\n",
      "351476\n",
      "kp20k-meng17-no_sort-rnn-BS64-LR0.05-Layer1-Dim150-Emb100-Dropout0.0-Copytrue-Reusetrue-Covtrue-PEfalse-Contboth-IF1_step_90000\n",
      "96323\n",
      "194150\n",
      "291413\n",
      "368299\n",
      "403866\n",
      "419570\n",
      "kp20k-meng17-verbatim_prepend-rnn-BS64-LR0.05-Layer1-Dim150-Emb100-Dropout0.0-Copytrue-Reusetrue-Covtrue-PEfalse-Contboth-IF1_step_65000\n",
      "78480\n",
      "140857\n",
      "208477\n",
      "265226\n",
      "295064\n",
      "309370\n",
      "kp20k-meng17-verbatim_append-rnn-BS64-LR0.05-Layer1-Dim150-Emb100-Dropout0.0-Copytrue-Reusetrue-Covtrue-PEfalse-Contboth-IF1_step_50000\n",
      "200996\n",
      "326339\n",
      "540482\n",
      "723039\n",
      "810702\n",
      "849983\n"
     ]
    }
   ],
   "source": [
    "\n",
    "for ckpt in ckpt_list:\n",
    "    print(ckpt)\n",
    "    \n",
    "    beam_num = []\n",
    "    beam_len = []\n",
    "    for dataset in datasets:\n",
    "        # print(dataset)\n",
    "        \n",
    "        pred_json_path = os.path.join(pred_dir, ckpt, dataset + '.pred')\n",
    "        for jsonl in open(pred_json_path, 'r'):\n",
    "            pred = json.loads(jsonl)\n",
    "            beams = pred[\"ori_pred_sents\"]\n",
    "            beam_num.append(len(beams))\n",
    "            beam_len.extend([len(b) for b in beams])\n",
    "        \n",
    "        # print(\"beam number: total=%d, avg=%f\" % (sum(beam_num), sum(beam_num)/len(beam_num)))\n",
    "        # print(\"beam length: total=%d, avg=%f\" % (sum(beam_len), sum(beam_len)/len(beam_len)))\n",
    "        # print(\"%d\\t%f\\t%d\\t%f\" % (sum(beam_num), sum(beam_num)/len(beam_num), sum(beam_len), sum(beam_len)/len(beam_len)))\n",
    "        print(sum(beam_len))"
   ]
  },
  {
   "cell_type": "code",
   "execution_count": 10,
   "metadata": {},
   "outputs": [
    {
     "data": {
      "text/plain": [
       "'/Users/memray/Project/keyphrase/OpenNMT-kpg/output/meng17-one2many-beam10-maxlen40/pred'"
      ]
     },
     "execution_count": 10,
     "metadata": {},
     "output_type": "execute_result"
    }
   ],
   "source": [
    "os.path.abspath(pred_dir)"
   ]
  },
  {
   "cell_type": "code",
   "execution_count": 11,
   "metadata": {},
   "outputs": [
    {
     "data": {
      "text/plain": [
       "True"
      ]
     },
     "execution_count": 11,
     "metadata": {},
     "output_type": "execute_result"
    }
   ],
   "source": [
    "os.path.exists(pred_dir)"
   ]
  },
  {
   "cell_type": "code",
   "execution_count": null,
   "metadata": {},
   "outputs": [],
   "source": []
  }
 ],
 "metadata": {
  "kernelspec": {
   "display_name": "Python 3",
   "language": "python",
   "name": "python3"
  },
  "language_info": {
   "codemirror_mode": {
    "name": "ipython",
    "version": 3
   },
   "file_extension": ".py",
   "mimetype": "text/x-python",
   "name": "python",
   "nbconvert_exporter": "python",
   "pygments_lexer": "ipython3",
   "version": "3.6.1"
  }
 },
 "nbformat": 4,
 "nbformat_minor": 1
}
