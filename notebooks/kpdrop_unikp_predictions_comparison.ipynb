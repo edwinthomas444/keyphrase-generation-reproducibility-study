{
 "cells": [
  {
   "cell_type": "code",
   "execution_count": 1,
   "id": "745f4910-cb81-46bc-bbc7-1a38fe1a582d",
   "metadata": {
    "tags": []
   },
   "outputs": [],
   "source": [
    "import json\n",
    "import pandas as pd"
   ]
  },
  {
   "cell_type": "code",
   "execution_count": 2,
   "id": "fa612125-b570-45ef-8d28-4bfee803ed35",
   "metadata": {},
   "outputs": [],
   "source": [
    "# UniKP\n",
    "unikp_src = '/home/thomased/work/codebase/coopsummer2023/UniKP/UniKeyphrase/processed/kptimes.test.seq.in'\n",
    "unikp_p = '/home/thomased/work/codebase/coopsummer2023/UniKP/UniKeyphrase/results/kptimes/kptimes_5ep_b128_l384_ddp_final_Greedy/output_labels'\n",
    "unikp_a = '/home/thomased/work/codebase/coopsummer2023/UniKP/UniKeyphrase/results/kptimes/kptimes_5ep_b128_l384_ddp_final_Greedy/output'"
   ]
  },
  {
   "cell_type": "code",
   "execution_count": 3,
   "id": "9e1c63d5-2676-4a8e-9ab7-66729a84d460",
   "metadata": {
    "scrolled": true,
    "tags": []
   },
   "outputs": [],
   "source": [
    "from nltk.stem.porter import PorterStemmer\n",
    "\n",
    "stemmer = PorterStemmer()\n",
    "def stem_norm(container):\n",
    "    result_set = set()\n",
    "    remove_space_set = set([w.strip() for w in container])\n",
    "    for keyphrase in remove_space_set:\n",
    "        stem_keyphrase_list = []\n",
    "        for word in keyphrase.split(\" \"):\n",
    "            stem_keyphrase_list.append(stemmer.stem(word))\n",
    "        result_set.add(\" \".join(stem_keyphrase_list))\n",
    "    return result_set\n",
    "\n",
    "def process_srcs(srcs):\n",
    "    stemmer = PorterStemmer()\n",
    "    processed_srcs = []\n",
    "    for src in srcs:\n",
    "        tokenized_src = src\n",
    "        tokenized_stemed_src = [stemmer.stem(\n",
    "            token.strip().lower()).strip() for token in tokenized_src]\n",
    "        stemed_src = \" \".join(tokenized_stemed_src).strip().replace(\n",
    "            \"< digit >\", \"<digit>\")\n",
    "        processed_srcs.append(stemed_src)\n",
    "    return processed_srcs\n",
    "\n",
    "unikp_pkps = []\n",
    "unikp_akps = []\n",
    "with open(unikp_src, 'r') as f, open(unikp_p, 'r') as f1, open(unikp_a, 'r') as f2:\n",
    "    lines = f.readlines()\n",
    "    present_lines = f1.readlines()\n",
    "    absent_lines = f2.readlines()\n",
    "    for line, pline, aline in zip(lines, present_lines, absent_lines):\n",
    "        line = line.strip().split(\" \")\n",
    "        pline = pline.strip().split(\" \")[1:-1] # removing pre and post [SEP] token\n",
    "        akp = aline.strip().split(\" ; \")\n",
    "        \n",
    "        pkp = []\n",
    "        start = 0\n",
    "        for i, (tag, token) in enumerate(zip(pline, line)):\n",
    "            if tag=='B':\n",
    "                pkp.append(token)\n",
    "                start = 1\n",
    "            elif tag in ['I','X'] and start:\n",
    "                # print(pline)\n",
    "                pkp[-1]+= \" \"+token if not token.startswith(\"##\") else token.lstrip(\"##\")\n",
    "            elif tag in ['O']:\n",
    "                start = 0\n",
    "        pkp, akp = stem_norm(pkp), stem_norm(akp)\n",
    "        unikp_pkps.append(pkp)\n",
    "        unikp_akps.append(akp)\n",
    "        "
   ]
  },
  {
   "cell_type": "code",
   "execution_count": 4,
   "id": "13b5dac4-7961-4e7d-a461-17098b089447",
   "metadata": {},
   "outputs": [],
   "source": [
    "# UniKP\n",
    "from tqdm import tqdm\n",
    "\n",
    "def process_kpdrop(kpdrop_src):\n",
    "    p_kps, a_kps = [], []\n",
    "    p_gkps, a_gkps = [], []\n",
    "    with open(kpdrop_src, 'r') as f:\n",
    "        data = f.read()\n",
    "        dps = data.split(\"\\n\\n\")[:-1] # remove extra terminating line\n",
    "\n",
    "        for dp in tqdm(dps, total=len(dps)):\n",
    "            splits = dp.split(\"\\n\")\n",
    "            src = splits[0].strip().split(\" \")\n",
    "            predictions = splits[2]\n",
    "            gts = splits[1]\n",
    "            all_predictions = predictions.strip().replace(\"Predictions: \",\"\").replace(\" <eos>\",\"\").split(\" ; \")\n",
    "            all_gts = gts.strip().replace(\"Target: \",\"\").replace(\" <eos>\",\"\").split(\" ; \")\n",
    "            src = process_srcs([src])[0]\n",
    "\n",
    "            stemmed_predictions = stem_norm(all_predictions)\n",
    "            stemmed_gts = stem_norm(all_gts)\n",
    "            pkps = []\n",
    "            akps = []\n",
    "\n",
    "            for pred in stemmed_predictions:\n",
    "                if pred in src:\n",
    "                    pkps.append(pred)\n",
    "                else:\n",
    "                    akps.append(pred)\n",
    "                    \n",
    "            gpkps = []\n",
    "            gakps = []\n",
    "            for gt in stemmed_gts:\n",
    "                if gt in src:\n",
    "                    gpkps.append(gt)\n",
    "                else:\n",
    "                    gakps.append(gt)\n",
    "                    \n",
    "            # pkps = set(pkps)\n",
    "            # akps = set(akps)\n",
    "            p_kps.append(set(pkps))\n",
    "            a_kps.append(set(akps))\n",
    "            \n",
    "            p_gkps.append(set(gpkps))\n",
    "            a_gkps.append(set(gakps))\n",
    "            \n",
    "    return p_kps, a_kps, p_gkps, a_gkps"
   ]
  },
  {
   "cell_type": "code",
   "execution_count": 5,
   "id": "4c369819-3b5a-4bde-b3d7-d733dd697828",
   "metadata": {},
   "outputs": [
    {
     "name": "stderr",
     "output_type": "stream",
     "text": [
      "100%|██████████████████████████████████████████████████████████████████████████████████████████████████████████████████████████████████████████████████████| 10000/10000 [00:43<00:00, 228.06it/s]\n"
     ]
    }
   ],
   "source": [
    "# for kpdrop aug\n",
    "kpath = '/home/thomased/work/codebase/coopsummer2023/KPDrop/experiments/kptimes/trans_set_KPAug_b128_n4_ep5/final_results_greedy/kptimes_TransformerSeq2SetKPD0_7A_seq2set_testkptimes_predictions.txt'\n",
    "kpaug_pkps, kpaug_akps, kpaug_gpkps, kpaug_gakps = process_kpdrop(kpdrop_src=kpath)"
   ]
  },
  {
   "cell_type": "code",
   "execution_count": 6,
   "id": "19646bd0-817c-43e6-a3c1-f05b8bce62f8",
   "metadata": {
    "tags": []
   },
   "outputs": [
    {
     "name": "stderr",
     "output_type": "stream",
     "text": [
      "100%|██████████████████████████████████████████████████████████████████████████████████████████████████████████████████████████████████████████████████████| 10000/10000 [00:43<00:00, 227.71it/s]\n"
     ]
    }
   ],
   "source": [
    "# for transet base\n",
    "kpath = '/home/thomased/work/codebase/coopsummer2023/KPDrop/experiments/kptimes/trans_set_b128_n4_ep5/final_results_greedy/kptimes_TransformerSeq2Set_seq2set_testkptimes_predictions.txt'\n",
    "kpbase_pkps, kpbase_akps, kpbase_gpkps, kpbase_gakps = process_kpdrop(kpdrop_src=kpath)"
   ]
  },
  {
   "cell_type": "code",
   "execution_count": 31,
   "id": "c5ee09be-1449-4404-9f3b-703a4e094941",
   "metadata": {
    "tags": []
   },
   "outputs": [
    {
     "name": "stdout",
     "output_type": "stream",
     "text": [
      "{'david cameron', 'eu', 'immigr'} {'immigr', 'greec', 'brussel', 'eu', 'david cameron', 'dalia grybauskait'}\n",
      "{'great britain', 'brexit', 'european commiss'} {'european parliament', 'great britain', 'intern relat'}\n",
      "{'david cameron', 'eu'} {'david cameron', 'eu'}\n",
      "{'great britain', 'brexit'} {'great britain', 'brexit'}\n"
     ]
    }
   ],
   "source": [
    "print(kpaug_pkps[-1], kpbase_pkps[-1])\n",
    "print(kpaug_akps[-1], kpbase_akps[-1])\n",
    "print(kpaug_gpkps[-1], kpbase_gpkps[-1])\n",
    "print(kpaug_gakps[-1], kpbase_gakps[-1])"
   ]
  },
  {
   "cell_type": "markdown",
   "id": "c63fd2c9-9d14-42c4-ba04-b9713b9faa30",
   "metadata": {},
   "source": [
    "# Present KP Plot"
   ]
  },
  {
   "cell_type": "code",
   "execution_count": 71,
   "id": "46556383-4859-4aa2-b62a-5137d4e776f2",
   "metadata": {
    "scrolled": true,
    "tags": []
   },
   "outputs": [
    {
     "name": "stdout",
     "output_type": "stream",
     "text": [
      "10000\n",
      "10000\n",
      "10000\n"
     ]
    }
   ],
   "source": [
    "# plot for absent\n",
    "import numpy as np\n",
    "# x-axis datapoints\n",
    "# y-axis % of kps that have an intersection\n",
    "num = [len(x&y) for x, y in zip(kpaug_pkps, kpbase_pkps)]\n",
    "num_correct = [len(x&y&z) for x, y, z in zip(kpaug_pkps, kpbase_pkps, kpbase_gpkps)]\n",
    "num_wrong = [len(x&y&((x|y)-z)) for x, y, z in zip(kpaug_pkps, kpbase_pkps, kpbase_gpkps)]\n",
    "den = [len(x|y) for x, y, _ in zip(kpaug_pkps, kpbase_pkps, kpbase_gpkps)]\n",
    "\n",
    "overlap_percent_correct = [(x/(y+1e-08))*100 for x, y in zip(num_correct, den)]\n",
    "overlap_percent_wrong = [(x/(y+1e-08))*100 for x, y in zip(num_wrong, den)]\n",
    "overlap_percent_overall = [(x/(y+1e-08))*100 for x, y in zip(num, den)]\n",
    "# print(num_correct)\n",
    "# print(num_wrong)\n",
    "# print(overlap_percent)\n",
    "# num_ = np.cumsum(num)\n",
    "# den_ = np.cumsum(den)\n",
    "# for x, y, z in zip(overlap_percent_correct, overlap_percent_wrong, overlap_percent_overall):\n",
    "#     print(x, y, z)\n",
    "\n",
    "print(len(overlap_percent_correct))\n",
    "print(len(overlap_percent_wrong))\n",
    "print(len(overlap_percent_overall))"
   ]
  },
  {
   "cell_type": "code",
   "execution_count": 72,
   "id": "6f6da5e6-afb6-478a-9c81-5d5e706f1575",
   "metadata": {
    "tags": []
   },
   "outputs": [
    {
     "data": {
      "image/png": "[encoded data removed]",
      "text/plain": [
       "<Figure size 800x550 with 1 Axes>"
      ]
     },
     "metadata": {},
     "output_type": "display_data"
    }
   ],
   "source": [
    "import seaborn as sns\n",
    "import matplotlib.pyplot as plt\n",
    "from matplotlib.ticker import PercentFormatter\n",
    "\n",
    "\n",
    "# xaxis = 'Percentage (%) of overlap between PKP'\n",
    "\n",
    "# overlap_percent = {xaxis:overlap_percent}\n",
    "# sns.histplot(data=overlap_percent, x=xaxis, binwidth=10, binrange=(0,100), kde=True, stat='proportion')\n",
    "\n",
    "# data={'match': overlap_percent_correct, 'mismatch': overlap_percent_wrong, xaxis: overlap_percent_correct}\n",
    "# sns.histplot(data=data, x=xaxis, binwidth=10, binrange=(0,100), kde=True, stat='proportion')\n",
    "# sns.set_theme()  # <-- This actually changes the look of plots.\n",
    "with plt.style.context('seaborn'):\n",
    "    # pass weights explicitly\n",
    "    weights_1 = np.ones(len(overlap_percent_wrong)) / len(overlap_percent_wrong)\n",
    "    weights_2 = np.ones(len(overlap_percent_correct)) / len(overlap_percent_correct)\n",
    "    # print(weights_1)\n",
    "    plt.hist([overlap_percent_wrong, overlap_percent_correct], color=['r','g'], weights=[weights_1, weights_2], histtype='bar', stacked=False, alpha=0.5, bins=[0, 10, 20, 30, 40, 50, 60, 70, 80, 90, 100])\n",
    "    plt.gca().yaxis.set_major_formatter(PercentFormatter(1, symbol=False))\n",
    "    plt.xticks(ticks=list(range(0,101,10)))\n",
    "    # plt.yticks(ticks=np.arange(0,1.1,0.1))\n",
    "    plt.xlabel('% Overlap between PKP predictions of two Systems')\n",
    "    plt.ylabel('Percentage Frequency')\n",
    "    plt.legend(['GT Mismatches','GT Matches'], frameon=True, facecolor='white')\n",
    "# sns.histplot([overlap_percent_overall, overlap_percent_correct], color=['r','g'], alpha=0.9, binwidth=10, binrange=(0,100))\n",
    "plt.show()\n"
   ]
  },
  {
   "cell_type": "code",
   "execution_count": 73,
   "id": "2c0abb9d-635d-4822-887a-214c86e41964",
   "metadata": {
    "tags": []
   },
   "outputs": [],
   "source": [
    "# 1/10000"
   ]
  },
  {
   "cell_type": "markdown",
   "id": "0c501552-0449-4f25-a027-d61419fa2d35",
   "metadata": {},
   "source": [
    "# Absent KP Plot"
   ]
  },
  {
   "cell_type": "code",
   "execution_count": 74,
   "id": "b40ac870-92e7-420d-8e71-adc6b9ea98a9",
   "metadata": {
    "tags": []
   },
   "outputs": [],
   "source": [
    "# plot for absent\n",
    "import numpy as np\n",
    "# x-axis datapoints\n",
    "# y-axis % of kps that have an intersection\n",
    "num = [len(x&y) for x, y in zip(kpaug_akps, kpbase_akps)]\n",
    "num_correct = [len(x&y&z) for x, y, z in zip(kpaug_akps, kpbase_akps, kpbase_gakps)]\n",
    "num_wrong = [len(x&y&((x|y)-z)) for x, y, z in zip(kpaug_akps, kpbase_akps, kpbase_gakps)]\n",
    "den = [len(x|y) for x, y, _ in zip(kpaug_akps, kpbase_akps, kpbase_gakps)]\n",
    "\n",
    "overlap_percent_correct = [(x/(y+1e-08))*100 for x, y in zip(num_correct, den)]\n",
    "overlap_percent_wrong = [(x/(y+1e-08))*100 for x, y in zip(num_wrong, den)]\n",
    "overlap_percent_overall = [(x/(y+1e-08))*100 for x, y in zip(num, den)]\n",
    "# print(num_correct)\n",
    "# print(num_wrong)\n",
    "# print(overlap_percent)\n",
    "# num_ = np.cumsum(num)\n",
    "# den_ = np.cumsum(den)\n",
    "# for x, y, z in zip(overlap_percent_correct, overlap_percent_wrong, overlap_percent_overall):\n",
    "#     print(x, y, z)"
   ]
  },
  {
   "cell_type": "code",
   "execution_count": 77,
   "id": "e83296d2-d3d0-4bef-aa10-bb1b70124054",
   "metadata": {},
   "outputs": [
    {
     "data": {
      "image/png": "[encoded data removed]",
      "text/plain": [
       "<Figure size 800x550 with 1 Axes>"
      ]
     },
     "metadata": {},
     "output_type": "display_data"
    }
   ],
   "source": [
    "import seaborn as sns\n",
    "import matplotlib.pyplot as plt\n",
    "# xaxis = 'Percentage (%) of overlap between AKP'\n",
    "\n",
    "# overlap_percent = {xaxis:overlap_percent}\n",
    "# sns.histplot(data=overlap_percent, x=xaxis, binwidth=10, binrange=(0,100), kde=True, stat='proportion')\n",
    "\n",
    "data={'match': overlap_percent_correct, 'mismatch': overlap_percent_wrong, xaxis: overlap_percent_correct}\n",
    "# sns.histplot(data=data, x=xaxis, binwidth=10, binrange=(0,100), kde=True, stat='proportion')\n",
    "# sns.set_theme()  # <-- This actually changes the look of plots.\n",
    "with plt.style.context('seaborn'):\n",
    "    weights_1 = np.ones(len(overlap_percent_wrong)) / len(overlap_percent_wrong)\n",
    "    weights_2 = np.ones(len(overlap_percent_correct)) / len(overlap_percent_correct)\n",
    "    plt.gca().yaxis.set_major_formatter(PercentFormatter(1, symbol=False, decimals=0))\n",
    "    \n",
    "\n",
    "    plt.hist([overlap_percent_wrong, overlap_percent_correct], color=['r','g'], weights=[weights_1, weights_2], histtype='bar', stacked=False, alpha=0.5, bins=[0, 10, 20, 30, 40, 50, 60, 70, 80, 90, 100])\n",
    "    plt.xticks(ticks=list(range(0,101,10)))\n",
    "    # plt.yticks(ticks=np.arange(0,1.1,0.1))\n",
    "    plt.xlabel('% Overlap between AKP predictions of two Systems')\n",
    "    plt.ylabel('Percentage Frequency')\n",
    "    plt.legend(['GT Mismatches','GT Matches'], frameon=True, facecolor='white')\n",
    "plt.show()\n",
    "# sns.histplot([overlap_percent_overall, overlap_percent_correct], color=['r','g'], alpha=0.9, binwidth=10, binrange=(0,100))"
   ]
  },
  {
   "cell_type": "code",
   "execution_count": null,
   "id": "af7dbc41-9884-494b-b076-99ab9b13f47b",
   "metadata": {},
   "outputs": [],
   "source": []
  },
  {
   "cell_type": "code",
   "execution_count": null,
   "id": "a5b9684c-2244-48fa-8e07-d66209642b67",
   "metadata": {},
   "outputs": [],
   "source": []
  },
  {
   "cell_type": "code",
   "execution_count": null,
   "id": "2b2982cd-bc3b-4694-8a4d-d3e1b2804555",
   "metadata": {},
   "outputs": [],
   "source": []
  },
  {
   "cell_type": "code",
   "execution_count": null,
   "id": "bb5a2080-92f6-45ef-b931-2a1a0b39c128",
   "metadata": {},
   "outputs": [],
   "source": []
  },
  {
   "cell_type": "code",
   "execution_count": null,
   "id": "86c070ce-3beb-47dc-b2ef-7b3135bcec71",
   "metadata": {},
   "outputs": [],
   "source": []
  },
  {
   "cell_type": "code",
   "execution_count": 1,
   "id": "303c7221-5ca3-4879-b949-54614df4ba86",
   "metadata": {},
   "outputs": [
    {
     "data": {
      "text/html": [
       "<div>\n",
       "<style scoped>\n",
       "    .dataframe tbody tr th:only-of-type {\n",
       "        vertical-align: middle;\n",
       "    }\n",
       "\n",
       "    .dataframe tbody tr th {\n",
       "        vertical-align: top;\n",
       "    }\n",
       "\n",
       "    .dataframe thead th {\n",
       "        text-align: right;\n",
       "    }\n",
       "</style>\n",
       "<table border=\"1\" class=\"dataframe\">\n",
       "  <thead>\n",
       "    <tr style=\"text-align: right;\">\n",
       "      <th></th>\n",
       "      <th>dataset</th>\n",
       "      <th>F1@M</th>\n",
       "      <th>F1@K</th>\n",
       "      <th>F1@O</th>\n",
       "    </tr>\n",
       "  </thead>\n",
       "  <tbody>\n",
       "    <tr>\n",
       "      <th>0</th>\n",
       "      <td>kp20k</td>\n",
       "      <td>[0.0, 0.0, 0.0, 0.0, 0.0, 0.0, 0.9999999850000...</td>\n",
       "      <td>[0.0, 0.0, 0.0, 0.0, 0.0, 0.0, 0.9999999850000...</td>\n",
       "      <td>[0.0, 0.0, 0.0, 0.0, 0.0, 0.0, 0.9999999850000...</td>\n",
       "    </tr>\n",
       "    <tr>\n",
       "      <th>1</th>\n",
       "      <td>krapivin</td>\n",
       "      <td>[0.0, 0.0, 0.0, 0.0, 0.0, 0.0, 0.0, 0.39999999...</td>\n",
       "      <td>[0.0, 0.0, 0.0, 0.0, 0.0, 0.0, 0.0, 0.39999999...</td>\n",
       "      <td>[0.0, 0.0, 0.0, 0.0, 0.0, 0.0, 0.0, 0.39999999...</td>\n",
       "    </tr>\n",
       "    <tr>\n",
       "      <th>2</th>\n",
       "      <td>inspec</td>\n",
       "      <td>[0.0, 0.0, 0.0, 0.0, 0.0, 0.0, 0.0, 0.0, 0.0, ...</td>\n",
       "      <td>[0.0, 0.0, 0.0, 0.0, 0.0, 0.0, 0.0, 0.0, 0.0, ...</td>\n",
       "      <td>[0.0, 0.0, 0.0, 0.0, 0.0, 0.0, 0.0, 0.0, 0.0, ...</td>\n",
       "    </tr>\n",
       "    <tr>\n",
       "      <th>3</th>\n",
       "      <td>semeval</td>\n",
       "      <td>[0.0, 0.0, 0.0, 0.0, 0.0, 0.0, 0.0, 0.18181817...</td>\n",
       "      <td>[0.0, 0.0, 0.0, 0.0, 0.0, 0.0, 0.0, 0.18181817...</td>\n",
       "      <td>[0.0, 0.0, 0.0, 0.0, 0.0, 0.0, 0.0, 0.18181817...</td>\n",
       "    </tr>\n",
       "    <tr>\n",
       "      <th>4</th>\n",
       "      <td>nus</td>\n",
       "      <td>[0.0, 0.0, 0.09090908917355373, 0.0, 0.0, 0.49...</td>\n",
       "      <td>[0.0, 0.0, 0.09090908917355373, 0.0, 0.0, 0.49...</td>\n",
       "      <td>[0.0, 0.0, 0.09090908917355373, 0.0, 0.0, 0.49...</td>\n",
       "    </tr>\n",
       "  </tbody>\n",
       "</table>\n",
       "</div>"
      ],
      "text/plain": [
       "    dataset                                               F1@M  \\\n",
       "0     kp20k  [0.0, 0.0, 0.0, 0.0, 0.0, 0.0, 0.9999999850000...   \n",
       "1  krapivin  [0.0, 0.0, 0.0, 0.0, 0.0, 0.0, 0.0, 0.39999999...   \n",
       "2    inspec  [0.0, 0.0, 0.0, 0.0, 0.0, 0.0, 0.0, 0.0, 0.0, ...   \n",
       "3   semeval  [0.0, 0.0, 0.0, 0.0, 0.0, 0.0, 0.0, 0.18181817...   \n",
       "4       nus  [0.0, 0.0, 0.09090908917355373, 0.0, 0.0, 0.49...   \n",
       "\n",
       "                                                F1@K  \\\n",
       "0  [0.0, 0.0, 0.0, 0.0, 0.0, 0.0, 0.9999999850000...   \n",
       "1  [0.0, 0.0, 0.0, 0.0, 0.0, 0.0, 0.0, 0.39999999...   \n",
       "2  [0.0, 0.0, 0.0, 0.0, 0.0, 0.0, 0.0, 0.0, 0.0, ...   \n",
       "3  [0.0, 0.0, 0.0, 0.0, 0.0, 0.0, 0.0, 0.18181817...   \n",
       "4  [0.0, 0.0, 0.09090908917355373, 0.0, 0.0, 0.49...   \n",
       "\n",
       "                                                F1@O  \n",
       "0  [0.0, 0.0, 0.0, 0.0, 0.0, 0.0, 0.9999999850000...  \n",
       "1  [0.0, 0.0, 0.0, 0.0, 0.0, 0.0, 0.0, 0.39999999...  \n",
       "2  [0.0, 0.0, 0.0, 0.0, 0.0, 0.0, 0.0, 0.0, 0.0, ...  \n",
       "3  [0.0, 0.0, 0.0, 0.0, 0.0, 0.0, 0.0, 0.18181817...  \n",
       "4  [0.0, 0.0, 0.09090908917355373, 0.0, 0.0, 0.49...  "
      ]
     },
     "execution_count": 1,
     "metadata": {},
     "output_type": "execute_result"
    }
   ],
   "source": [
    "import pandas as pd\n",
    "df = pd.read_csv('/home/thomased/work/codebase/coopsummer2023/Project/checkpoints/phase3_exp/abstractive_models/bertbase_seq2seq_kp20k/metrics_4(Greedy)_significance')\n",
    "df"
   ]
  },
  {
   "cell_type": "code",
   "execution_count": 2,
   "id": "9a1efd47-533d-4e21-ba68-f056bc9ec1a4",
   "metadata": {
    "tags": []
   },
   "outputs": [
    {
     "name": "stdout",
     "output_type": "stream",
     "text": [
      "92 92 92\n",
      "92 92 92\n",
      "78 78 78\n",
      "99 99 99\n",
      "93 93 93\n"
     ]
    }
   ],
   "source": [
    "import json\n",
    "for ind, x in df.iterrows():\n",
    "    a = json.loads(x['F1@M'])\n",
    "    b = json.loads(x['F1@K'])\n",
    "    c = json.loads(x['F1@O'])\n",
    "    print(len(a), len(b), len(c))"
   ]
  },
  {
   "cell_type": "code",
   "execution_count": null,
   "id": "ce92cd8a-249a-41af-ae58-31ea64c1f7d8",
   "metadata": {},
   "outputs": [],
   "source": []
  }
 ],
 "metadata": {
  "kernelspec": {
   "display_name": "all_env2",
   "language": "python",
   "name": "all_env2"
  },
  "language_info": {
   "codemirror_mode": {
    "name": "ipython",
    "version": 3
   },
   "file_extension": ".py",
   "mimetype": "text/x-python",
   "name": "python",
   "nbconvert_exporter": "python",
   "pygments_lexer": "ipython3",
   "version": "3.8.10"
  }
 },
 "nbformat": 4,
 "nbformat_minor": 5
}
